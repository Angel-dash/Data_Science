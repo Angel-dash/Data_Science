{
 "cells": [
  {
   "cell_type": "code",
   "execution_count": 1,
   "id": "516e2a36",
   "metadata": {
    "_cell_guid": "b1076dfc-b9ad-4769-8c92-a6c4dae69d19",
    "_uuid": "8f2839f25d086af736a60e9eeb907d3b93b6e0e5",
    "execution": {
     "iopub.execute_input": "2024-02-22T13:46:54.335691Z",
     "iopub.status.busy": "2024-02-22T13:46:54.334842Z",
     "iopub.status.idle": "2024-02-22T13:46:55.353473Z",
     "shell.execute_reply": "2024-02-22T13:46:55.352250Z"
    },
    "papermill": {
     "duration": 1.05394,
     "end_time": "2024-02-22T13:46:55.357441",
     "exception": false,
     "start_time": "2024-02-22T13:46:54.303501",
     "status": "completed"
    },
    "tags": []
   },
   "outputs": [
    {
     "name": "stdout",
     "output_type": "stream",
     "text": [
      "/kaggle/input/titanic-dataset/Titanic-Dataset.csv\n"
     ]
    }
   ],
   "source": [
    "# This Python 3 environment comes with many helpful analytics libraries installed\n",
    "# It is defined by the kaggle/python Docker image: https://github.com/kaggle/docker-python\n",
    "# For example, here's several helpful packages to load\n",
    "\n",
    "import numpy as np # linear algebra\n",
    "import pandas as pd # data processing, CSV file I/O (e.g. pd.read_csv)\n",
    "\n",
    "# Input data files are available in the read-only \"../input/\" directory\n",
    "# For example, running this (by clicking run or pressing Shift+Enter) will list all files under the input directory\n",
    "\n",
    "import os\n",
    "for dirname, _, filenames in os.walk('/kaggle/input'):\n",
    "    for filename in filenames:\n",
    "        print(os.path.join(dirname, filename))\n",
    "\n",
    "# You can write up to 20GB to the current directory (/kaggle/working/) that gets preserved as output when you create a version using \"Save & Run All\" \n",
    "# You can also write temporary files to /kaggle/temp/, but they won't be saved outside of the current session"
   ]
  },
  {
   "cell_type": "code",
   "execution_count": 2,
   "id": "93a058b8",
   "metadata": {
    "execution": {
     "iopub.execute_input": "2024-02-22T13:46:55.425119Z",
     "iopub.status.busy": "2024-02-22T13:46:55.424545Z",
     "iopub.status.idle": "2024-02-22T13:46:57.029911Z",
     "shell.execute_reply": "2024-02-22T13:46:57.028510Z"
    },
    "papermill": {
     "duration": 1.640351,
     "end_time": "2024-02-22T13:46:57.033297",
     "exception": false,
     "start_time": "2024-02-22T13:46:55.392946",
     "status": "completed"
    },
    "tags": []
   },
   "outputs": [],
   "source": [
    "import seaborn as sns\n",
    "from matplotlib import pyplot as plt\n",
    "from matplotlib import style"
   ]
  },
  {
   "cell_type": "code",
   "execution_count": 3,
   "id": "5e35ca13",
   "metadata": {
    "execution": {
     "iopub.execute_input": "2024-02-22T13:46:57.103916Z",
     "iopub.status.busy": "2024-02-22T13:46:57.103237Z",
     "iopub.status.idle": "2024-02-22T13:46:57.798983Z",
     "shell.execute_reply": "2024-02-22T13:46:57.797373Z"
    },
    "papermill": {
     "duration": 0.735987,
     "end_time": "2024-02-22T13:46:57.802157",
     "exception": false,
     "start_time": "2024-02-22T13:46:57.066170",
     "status": "completed"
    },
    "tags": []
   },
   "outputs": [],
   "source": [
    "from sklearn import linear_model\n",
    "from sklearn.linear_model import LogisticRegression\n",
    "from sklearn.ensemble import RandomForestClassifier\n",
    "from sklearn.linear_model import Perceptron\n",
    "from sklearn.linear_model import SGDClassifier\n",
    "from sklearn.tree import DecisionTreeClassifier\n",
    "from sklearn.neighbors import KNeighborsClassifier\n",
    "from sklearn.svm import SVC, LinearSVC\n",
    "from sklearn.naive_bayes import GaussianNB"
   ]
  },
  {
   "cell_type": "code",
   "execution_count": 4,
   "id": "d3d2d975",
   "metadata": {
    "execution": {
     "iopub.execute_input": "2024-02-22T13:46:57.866495Z",
     "iopub.status.busy": "2024-02-22T13:46:57.866086Z",
     "iopub.status.idle": "2024-02-22T13:46:57.888414Z",
     "shell.execute_reply": "2024-02-22T13:46:57.887311Z"
    },
    "papermill": {
     "duration": 0.0596,
     "end_time": "2024-02-22T13:46:57.892004",
     "exception": false,
     "start_time": "2024-02-22T13:46:57.832404",
     "status": "completed"
    },
    "tags": []
   },
   "outputs": [],
   "source": [
    "df=pd.read_csv('/kaggle/input/titanic-dataset/Titanic-Dataset.csv')"
   ]
  },
  {
   "cell_type": "code",
   "execution_count": 5,
   "id": "b2572fac",
   "metadata": {
    "execution": {
     "iopub.execute_input": "2024-02-22T13:46:57.954622Z",
     "iopub.status.busy": "2024-02-22T13:46:57.953802Z",
     "iopub.status.idle": "2024-02-22T13:46:57.963868Z",
     "shell.execute_reply": "2024-02-22T13:46:57.962310Z"
    },
    "papermill": {
     "duration": 0.045181,
     "end_time": "2024-02-22T13:46:57.967198",
     "exception": false,
     "start_time": "2024-02-22T13:46:57.922017",
     "status": "completed"
    },
    "tags": []
   },
   "outputs": [
    {
     "data": {
      "text/plain": [
       "(891, 12)"
      ]
     },
     "execution_count": 5,
     "metadata": {},
     "output_type": "execute_result"
    }
   ],
   "source": [
    "df.shape"
   ]
  },
  {
   "cell_type": "code",
   "execution_count": null,
   "id": "8d829d85",
   "metadata": {
    "papermill": {
     "duration": 0.032179,
     "end_time": "2024-02-22T13:46:58.031528",
     "exception": false,
     "start_time": "2024-02-22T13:46:57.999349",
     "status": "completed"
    },
    "tags": []
   },
   "outputs": [],
   "source": []
  },
  {
   "cell_type": "code",
   "execution_count": 6,
   "id": "911921df",
   "metadata": {
    "execution": {
     "iopub.execute_input": "2024-02-22T13:46:58.101534Z",
     "iopub.status.busy": "2024-02-22T13:46:58.100958Z",
     "iopub.status.idle": "2024-02-22T13:46:58.125356Z",
     "shell.execute_reply": "2024-02-22T13:46:58.124144Z"
    },
    "papermill": {
     "duration": 0.063118,
     "end_time": "2024-02-22T13:46:58.127904",
     "exception": false,
     "start_time": "2024-02-22T13:46:58.064786",
     "status": "completed"
    },
    "tags": []
   },
   "outputs": [
    {
     "data": {
      "text/html": [
       "<div>\n",
       "<style scoped>\n",
       "    .dataframe tbody tr th:only-of-type {\n",
       "        vertical-align: middle;\n",
       "    }\n",
       "\n",
       "    .dataframe tbody tr th {\n",
       "        vertical-align: top;\n",
       "    }\n",
       "\n",
       "    .dataframe thead th {\n",
       "        text-align: right;\n",
       "    }\n",
       "</style>\n",
       "<table border=\"1\" class=\"dataframe\">\n",
       "  <thead>\n",
       "    <tr style=\"text-align: right;\">\n",
       "      <th></th>\n",
       "      <th>PassengerId</th>\n",
       "      <th>Survived</th>\n",
       "      <th>Pclass</th>\n",
       "      <th>Name</th>\n",
       "      <th>Sex</th>\n",
       "      <th>Age</th>\n",
       "      <th>SibSp</th>\n",
       "      <th>Parch</th>\n",
       "      <th>Ticket</th>\n",
       "      <th>Fare</th>\n",
       "      <th>Cabin</th>\n",
       "      <th>Embarked</th>\n",
       "    </tr>\n",
       "  </thead>\n",
       "  <tbody>\n",
       "    <tr>\n",
       "      <th>0</th>\n",
       "      <td>1</td>\n",
       "      <td>0</td>\n",
       "      <td>3</td>\n",
       "      <td>Braund, Mr. Owen Harris</td>\n",
       "      <td>male</td>\n",
       "      <td>22.0</td>\n",
       "      <td>1</td>\n",
       "      <td>0</td>\n",
       "      <td>A/5 21171</td>\n",
       "      <td>7.2500</td>\n",
       "      <td>NaN</td>\n",
       "      <td>S</td>\n",
       "    </tr>\n",
       "    <tr>\n",
       "      <th>1</th>\n",
       "      <td>2</td>\n",
       "      <td>1</td>\n",
       "      <td>1</td>\n",
       "      <td>Cumings, Mrs. John Bradley (Florence Briggs Th...</td>\n",
       "      <td>female</td>\n",
       "      <td>38.0</td>\n",
       "      <td>1</td>\n",
       "      <td>0</td>\n",
       "      <td>PC 17599</td>\n",
       "      <td>71.2833</td>\n",
       "      <td>C85</td>\n",
       "      <td>C</td>\n",
       "    </tr>\n",
       "    <tr>\n",
       "      <th>2</th>\n",
       "      <td>3</td>\n",
       "      <td>1</td>\n",
       "      <td>3</td>\n",
       "      <td>Heikkinen, Miss. Laina</td>\n",
       "      <td>female</td>\n",
       "      <td>26.0</td>\n",
       "      <td>0</td>\n",
       "      <td>0</td>\n",
       "      <td>STON/O2. 3101282</td>\n",
       "      <td>7.9250</td>\n",
       "      <td>NaN</td>\n",
       "      <td>S</td>\n",
       "    </tr>\n",
       "    <tr>\n",
       "      <th>3</th>\n",
       "      <td>4</td>\n",
       "      <td>1</td>\n",
       "      <td>1</td>\n",
       "      <td>Futrelle, Mrs. Jacques Heath (Lily May Peel)</td>\n",
       "      <td>female</td>\n",
       "      <td>35.0</td>\n",
       "      <td>1</td>\n",
       "      <td>0</td>\n",
       "      <td>113803</td>\n",
       "      <td>53.1000</td>\n",
       "      <td>C123</td>\n",
       "      <td>S</td>\n",
       "    </tr>\n",
       "    <tr>\n",
       "      <th>4</th>\n",
       "      <td>5</td>\n",
       "      <td>0</td>\n",
       "      <td>3</td>\n",
       "      <td>Allen, Mr. William Henry</td>\n",
       "      <td>male</td>\n",
       "      <td>35.0</td>\n",
       "      <td>0</td>\n",
       "      <td>0</td>\n",
       "      <td>373450</td>\n",
       "      <td>8.0500</td>\n",
       "      <td>NaN</td>\n",
       "      <td>S</td>\n",
       "    </tr>\n",
       "  </tbody>\n",
       "</table>\n",
       "</div>"
      ],
      "text/plain": [
       "   PassengerId  Survived  Pclass  \\\n",
       "0            1         0       3   \n",
       "1            2         1       1   \n",
       "2            3         1       3   \n",
       "3            4         1       1   \n",
       "4            5         0       3   \n",
       "\n",
       "                                                Name     Sex   Age  SibSp  \\\n",
       "0                            Braund, Mr. Owen Harris    male  22.0      1   \n",
       "1  Cumings, Mrs. John Bradley (Florence Briggs Th...  female  38.0      1   \n",
       "2                             Heikkinen, Miss. Laina  female  26.0      0   \n",
       "3       Futrelle, Mrs. Jacques Heath (Lily May Peel)  female  35.0      1   \n",
       "4                           Allen, Mr. William Henry    male  35.0      0   \n",
       "\n",
       "   Parch            Ticket     Fare Cabin Embarked  \n",
       "0      0         A/5 21171   7.2500   NaN        S  \n",
       "1      0          PC 17599  71.2833   C85        C  \n",
       "2      0  STON/O2. 3101282   7.9250   NaN        S  \n",
       "3      0            113803  53.1000  C123        S  \n",
       "4      0            373450   8.0500   NaN        S  "
      ]
     },
     "execution_count": 6,
     "metadata": {},
     "output_type": "execute_result"
    }
   ],
   "source": [
    "df.head()"
   ]
  },
  {
   "cell_type": "code",
   "execution_count": null,
   "id": "35cc7446",
   "metadata": {
    "papermill": {
     "duration": 0.029103,
     "end_time": "2024-02-22T13:46:58.187405",
     "exception": false,
     "start_time": "2024-02-22T13:46:58.158302",
     "status": "completed"
    },
    "tags": []
   },
   "outputs": [],
   "source": []
  },
  {
   "cell_type": "code",
   "execution_count": 7,
   "id": "0cf893ca",
   "metadata": {
    "execution": {
     "iopub.execute_input": "2024-02-22T13:46:58.251458Z",
     "iopub.status.busy": "2024-02-22T13:46:58.250395Z",
     "iopub.status.idle": "2024-02-22T13:46:58.269075Z",
     "shell.execute_reply": "2024-02-22T13:46:58.267519Z"
    },
    "papermill": {
     "duration": 0.053491,
     "end_time": "2024-02-22T13:46:58.272347",
     "exception": false,
     "start_time": "2024-02-22T13:46:58.218856",
     "status": "completed"
    },
    "tags": []
   },
   "outputs": [],
   "source": [
    "df=df.drop(columns=['Name','Ticket','PassengerId'])\n"
   ]
  },
  {
   "cell_type": "code",
   "execution_count": 8,
   "id": "cd744933",
   "metadata": {
    "execution": {
     "iopub.execute_input": "2024-02-22T13:46:58.334181Z",
     "iopub.status.busy": "2024-02-22T13:46:58.333759Z",
     "iopub.status.idle": "2024-02-22T13:46:58.344003Z",
     "shell.execute_reply": "2024-02-22T13:46:58.342255Z"
    },
    "papermill": {
     "duration": 0.044377,
     "end_time": "2024-02-22T13:46:58.346934",
     "exception": false,
     "start_time": "2024-02-22T13:46:58.302557",
     "status": "completed"
    },
    "tags": []
   },
   "outputs": [],
   "source": [
    "#Since Cabin contains both letters and numbers, we're interested in the letters\n",
    "df['CabinLetter'] = df['Cabin'].str[0]"
   ]
  },
  {
   "cell_type": "code",
   "execution_count": 9,
   "id": "b65a5c29",
   "metadata": {
    "execution": {
     "iopub.execute_input": "2024-02-22T13:46:58.474021Z",
     "iopub.status.busy": "2024-02-22T13:46:58.473221Z",
     "iopub.status.idle": "2024-02-22T13:46:58.481091Z",
     "shell.execute_reply": "2024-02-22T13:46:58.480064Z"
    },
    "papermill": {
     "duration": 0.042349,
     "end_time": "2024-02-22T13:46:58.483459",
     "exception": false,
     "start_time": "2024-02-22T13:46:58.441110",
     "status": "completed"
    },
    "tags": []
   },
   "outputs": [
    {
     "data": {
      "text/plain": [
       "'\\nsns.countplot(x=\\'CabinLetter\\', hue=\\'Pclass\\', data=df)\\nplt.title(\"Distribution of Cabin Letters by Passenger Class\")\\nplt.xlabel(\"Cabin Letter\")\\nplt.ylabel(\"Frequency\")\\n\\n'"
      ]
     },
     "execution_count": 9,
     "metadata": {},
     "output_type": "execute_result"
    }
   ],
   "source": [
    "'''\n",
    "sns.countplot(x='CabinLetter', hue='Pclass', data=df)\n",
    "plt.title(\"Distribution of Cabin Letters by Passenger Class\")\n",
    "plt.xlabel(\"Cabin Letter\")\n",
    "plt.ylabel(\"Frequency\")\n",
    "\n",
    "'''"
   ]
  },
  {
   "cell_type": "code",
   "execution_count": 10,
   "id": "111b2648",
   "metadata": {
    "execution": {
     "iopub.execute_input": "2024-02-22T13:46:58.545619Z",
     "iopub.status.busy": "2024-02-22T13:46:58.544772Z",
     "iopub.status.idle": "2024-02-22T13:46:58.553844Z",
     "shell.execute_reply": "2024-02-22T13:46:58.552591Z"
    },
    "papermill": {
     "duration": 0.043755,
     "end_time": "2024-02-22T13:46:58.556890",
     "exception": false,
     "start_time": "2024-02-22T13:46:58.513135",
     "status": "completed"
    },
    "tags": []
   },
   "outputs": [],
   "source": [
    "df['Cabin'] = df['Cabin'].fillna('N')"
   ]
  },
  {
   "cell_type": "code",
   "execution_count": 11,
   "id": "bf39329c",
   "metadata": {
    "execution": {
     "iopub.execute_input": "2024-02-22T13:46:58.617869Z",
     "iopub.status.busy": "2024-02-22T13:46:58.617194Z",
     "iopub.status.idle": "2024-02-22T13:46:58.636875Z",
     "shell.execute_reply": "2024-02-22T13:46:58.635416Z"
    },
    "papermill": {
     "duration": 0.053847,
     "end_time": "2024-02-22T13:46:58.640109",
     "exception": false,
     "start_time": "2024-02-22T13:46:58.586262",
     "status": "completed"
    },
    "tags": []
   },
   "outputs": [
    {
     "data": {
      "text/html": [
       "<div>\n",
       "<style scoped>\n",
       "    .dataframe tbody tr th:only-of-type {\n",
       "        vertical-align: middle;\n",
       "    }\n",
       "\n",
       "    .dataframe tbody tr th {\n",
       "        vertical-align: top;\n",
       "    }\n",
       "\n",
       "    .dataframe thead th {\n",
       "        text-align: right;\n",
       "    }\n",
       "</style>\n",
       "<table border=\"1\" class=\"dataframe\">\n",
       "  <thead>\n",
       "    <tr style=\"text-align: right;\">\n",
       "      <th></th>\n",
       "      <th>Survived</th>\n",
       "      <th>Pclass</th>\n",
       "      <th>Sex</th>\n",
       "      <th>Age</th>\n",
       "      <th>SibSp</th>\n",
       "      <th>Parch</th>\n",
       "      <th>Fare</th>\n",
       "      <th>Cabin</th>\n",
       "      <th>Embarked</th>\n",
       "      <th>CabinLetter</th>\n",
       "    </tr>\n",
       "  </thead>\n",
       "  <tbody>\n",
       "    <tr>\n",
       "      <th>0</th>\n",
       "      <td>0</td>\n",
       "      <td>3</td>\n",
       "      <td>male</td>\n",
       "      <td>22.0</td>\n",
       "      <td>1</td>\n",
       "      <td>0</td>\n",
       "      <td>7.2500</td>\n",
       "      <td>N</td>\n",
       "      <td>S</td>\n",
       "      <td>NaN</td>\n",
       "    </tr>\n",
       "    <tr>\n",
       "      <th>1</th>\n",
       "      <td>1</td>\n",
       "      <td>1</td>\n",
       "      <td>female</td>\n",
       "      <td>38.0</td>\n",
       "      <td>1</td>\n",
       "      <td>0</td>\n",
       "      <td>71.2833</td>\n",
       "      <td>C85</td>\n",
       "      <td>C</td>\n",
       "      <td>C</td>\n",
       "    </tr>\n",
       "    <tr>\n",
       "      <th>2</th>\n",
       "      <td>1</td>\n",
       "      <td>3</td>\n",
       "      <td>female</td>\n",
       "      <td>26.0</td>\n",
       "      <td>0</td>\n",
       "      <td>0</td>\n",
       "      <td>7.9250</td>\n",
       "      <td>N</td>\n",
       "      <td>S</td>\n",
       "      <td>NaN</td>\n",
       "    </tr>\n",
       "    <tr>\n",
       "      <th>3</th>\n",
       "      <td>1</td>\n",
       "      <td>1</td>\n",
       "      <td>female</td>\n",
       "      <td>35.0</td>\n",
       "      <td>1</td>\n",
       "      <td>0</td>\n",
       "      <td>53.1000</td>\n",
       "      <td>C123</td>\n",
       "      <td>S</td>\n",
       "      <td>C</td>\n",
       "    </tr>\n",
       "    <tr>\n",
       "      <th>4</th>\n",
       "      <td>0</td>\n",
       "      <td>3</td>\n",
       "      <td>male</td>\n",
       "      <td>35.0</td>\n",
       "      <td>0</td>\n",
       "      <td>0</td>\n",
       "      <td>8.0500</td>\n",
       "      <td>N</td>\n",
       "      <td>S</td>\n",
       "      <td>NaN</td>\n",
       "    </tr>\n",
       "  </tbody>\n",
       "</table>\n",
       "</div>"
      ],
      "text/plain": [
       "   Survived  Pclass     Sex   Age  SibSp  Parch     Fare Cabin Embarked  \\\n",
       "0         0       3    male  22.0      1      0   7.2500     N        S   \n",
       "1         1       1  female  38.0      1      0  71.2833   C85        C   \n",
       "2         1       3  female  26.0      0      0   7.9250     N        S   \n",
       "3         1       1  female  35.0      1      0  53.1000  C123        S   \n",
       "4         0       3    male  35.0      0      0   8.0500     N        S   \n",
       "\n",
       "  CabinLetter  \n",
       "0         NaN  \n",
       "1           C  \n",
       "2         NaN  \n",
       "3           C  \n",
       "4         NaN  "
      ]
     },
     "execution_count": 11,
     "metadata": {},
     "output_type": "execute_result"
    }
   ],
   "source": [
    "df.head()"
   ]
  },
  {
   "cell_type": "code",
   "execution_count": 12,
   "id": "2645c02b",
   "metadata": {
    "execution": {
     "iopub.execute_input": "2024-02-22T13:46:58.704373Z",
     "iopub.status.busy": "2024-02-22T13:46:58.703788Z",
     "iopub.status.idle": "2024-02-22T13:46:58.712643Z",
     "shell.execute_reply": "2024-02-22T13:46:58.711265Z"
    },
    "papermill": {
     "duration": 0.043867,
     "end_time": "2024-02-22T13:46:58.715380",
     "exception": false,
     "start_time": "2024-02-22T13:46:58.671513",
     "status": "completed"
    },
    "tags": []
   },
   "outputs": [
    {
     "data": {
      "text/plain": [
       "(891, 10)"
      ]
     },
     "execution_count": 12,
     "metadata": {},
     "output_type": "execute_result"
    }
   ],
   "source": [
    "df.shape"
   ]
  },
  {
   "cell_type": "code",
   "execution_count": 13,
   "id": "6f6787c5",
   "metadata": {
    "execution": {
     "iopub.execute_input": "2024-02-22T13:46:58.777872Z",
     "iopub.status.busy": "2024-02-22T13:46:58.777101Z",
     "iopub.status.idle": "2024-02-22T13:46:58.794651Z",
     "shell.execute_reply": "2024-02-22T13:46:58.793173Z"
    },
    "papermill": {
     "duration": 0.051946,
     "end_time": "2024-02-22T13:46:58.797293",
     "exception": false,
     "start_time": "2024-02-22T13:46:58.745347",
     "status": "completed"
    },
    "tags": []
   },
   "outputs": [
    {
     "data": {
      "text/plain": [
       "107"
      ]
     },
     "execution_count": 13,
     "metadata": {},
     "output_type": "execute_result"
    }
   ],
   "source": [
    "df.duplicated().sum()"
   ]
  },
  {
   "cell_type": "code",
   "execution_count": 14,
   "id": "94287188",
   "metadata": {
    "execution": {
     "iopub.execute_input": "2024-02-22T13:46:58.860654Z",
     "iopub.status.busy": "2024-02-22T13:46:58.860153Z",
     "iopub.status.idle": "2024-02-22T13:46:58.872194Z",
     "shell.execute_reply": "2024-02-22T13:46:58.871131Z"
    },
    "papermill": {
     "duration": 0.046906,
     "end_time": "2024-02-22T13:46:58.874935",
     "exception": false,
     "start_time": "2024-02-22T13:46:58.828029",
     "status": "completed"
    },
    "tags": []
   },
   "outputs": [
    {
     "data": {
      "text/plain": [
       "Survived         0\n",
       "Pclass           0\n",
       "Sex              0\n",
       "Age            177\n",
       "SibSp            0\n",
       "Parch            0\n",
       "Fare             0\n",
       "Cabin            0\n",
       "Embarked         2\n",
       "CabinLetter    687\n",
       "dtype: int64"
      ]
     },
     "execution_count": 14,
     "metadata": {},
     "output_type": "execute_result"
    }
   ],
   "source": [
    "df.isnull().sum()\n"
   ]
  },
  {
   "cell_type": "code",
   "execution_count": 15,
   "id": "84408bb2",
   "metadata": {
    "execution": {
     "iopub.execute_input": "2024-02-22T13:46:58.938878Z",
     "iopub.status.busy": "2024-02-22T13:46:58.938364Z",
     "iopub.status.idle": "2024-02-22T13:46:58.949614Z",
     "shell.execute_reply": "2024-02-22T13:46:58.948148Z"
    },
    "papermill": {
     "duration": 0.046131,
     "end_time": "2024-02-22T13:46:58.952488",
     "exception": false,
     "start_time": "2024-02-22T13:46:58.906357",
     "status": "completed"
    },
    "tags": []
   },
   "outputs": [],
   "source": [
    "df=df.dropna(subset=['Embarked'])"
   ]
  },
  {
   "cell_type": "code",
   "execution_count": 16,
   "id": "73e38374",
   "metadata": {
    "execution": {
     "iopub.execute_input": "2024-02-22T13:46:59.017105Z",
     "iopub.status.busy": "2024-02-22T13:46:59.016638Z",
     "iopub.status.idle": "2024-02-22T13:46:59.024861Z",
     "shell.execute_reply": "2024-02-22T13:46:59.023274Z"
    },
    "papermill": {
     "duration": 0.043516,
     "end_time": "2024-02-22T13:46:59.027426",
     "exception": false,
     "start_time": "2024-02-22T13:46:58.983910",
     "status": "completed"
    },
    "tags": []
   },
   "outputs": [
    {
     "data": {
      "text/plain": [
       "dtype('float64')"
      ]
     },
     "execution_count": 16,
     "metadata": {},
     "output_type": "execute_result"
    }
   ],
   "source": [
    "df['Age'].dtype"
   ]
  },
  {
   "cell_type": "code",
   "execution_count": 17,
   "id": "b10b573c",
   "metadata": {
    "execution": {
     "iopub.execute_input": "2024-02-22T13:46:59.092149Z",
     "iopub.status.busy": "2024-02-22T13:46:59.090504Z",
     "iopub.status.idle": "2024-02-22T13:46:59.101711Z",
     "shell.execute_reply": "2024-02-22T13:46:59.100544Z"
    },
    "papermill": {
     "duration": 0.046363,
     "end_time": "2024-02-22T13:46:59.104178",
     "exception": false,
     "start_time": "2024-02-22T13:46:59.057815",
     "status": "completed"
    },
    "tags": []
   },
   "outputs": [
    {
     "data": {
      "text/plain": [
       "0      22.0\n",
       "1      38.0\n",
       "2      26.0\n",
       "3      35.0\n",
       "4      35.0\n",
       "       ... \n",
       "886    27.0\n",
       "887    19.0\n",
       "888     NaN\n",
       "889    26.0\n",
       "890    32.0\n",
       "Name: Age, Length: 889, dtype: float64"
      ]
     },
     "execution_count": 17,
     "metadata": {},
     "output_type": "execute_result"
    }
   ],
   "source": [
    "df['Age']"
   ]
  },
  {
   "cell_type": "code",
   "execution_count": 18,
   "id": "21c46089",
   "metadata": {
    "execution": {
     "iopub.execute_input": "2024-02-22T13:46:59.167850Z",
     "iopub.status.busy": "2024-02-22T13:46:59.167179Z",
     "iopub.status.idle": "2024-02-22T13:46:59.174692Z",
     "shell.execute_reply": "2024-02-22T13:46:59.173275Z"
    },
    "papermill": {
     "duration": 0.043048,
     "end_time": "2024-02-22T13:46:59.177718",
     "exception": false,
     "start_time": "2024-02-22T13:46:59.134670",
     "status": "completed"
    },
    "tags": []
   },
   "outputs": [],
   "source": [
    "df['Age'].fillna(df['Age'].mean(),inplace=True)"
   ]
  },
  {
   "cell_type": "code",
   "execution_count": 19,
   "id": "8a9d001c",
   "metadata": {
    "execution": {
     "iopub.execute_input": "2024-02-22T13:46:59.244243Z",
     "iopub.status.busy": "2024-02-22T13:46:59.242817Z",
     "iopub.status.idle": "2024-02-22T13:46:59.254499Z",
     "shell.execute_reply": "2024-02-22T13:46:59.253122Z"
    },
    "papermill": {
     "duration": 0.047186,
     "end_time": "2024-02-22T13:46:59.257272",
     "exception": false,
     "start_time": "2024-02-22T13:46:59.210086",
     "status": "completed"
    },
    "tags": []
   },
   "outputs": [
    {
     "data": {
      "text/plain": [
       "0      22\n",
       "1      38\n",
       "2      26\n",
       "3      35\n",
       "4      35\n",
       "       ..\n",
       "886    27\n",
       "887    19\n",
       "888    29\n",
       "889    26\n",
       "890    32\n",
       "Name: Age, Length: 889, dtype: int64"
      ]
     },
     "execution_count": 19,
     "metadata": {},
     "output_type": "execute_result"
    }
   ],
   "source": [
    "df['Age'].astype(int)"
   ]
  },
  {
   "cell_type": "code",
   "execution_count": 20,
   "id": "b21e1bff",
   "metadata": {
    "execution": {
     "iopub.execute_input": "2024-02-22T13:46:59.321985Z",
     "iopub.status.busy": "2024-02-22T13:46:59.321488Z",
     "iopub.status.idle": "2024-02-22T13:46:59.330985Z",
     "shell.execute_reply": "2024-02-22T13:46:59.329953Z"
    },
    "papermill": {
     "duration": 0.04566,
     "end_time": "2024-02-22T13:46:59.333575",
     "exception": false,
     "start_time": "2024-02-22T13:46:59.287915",
     "status": "completed"
    },
    "tags": []
   },
   "outputs": [
    {
     "data": {
      "text/plain": [
       "Survived         0\n",
       "Pclass           0\n",
       "Sex              0\n",
       "Age              0\n",
       "SibSp            0\n",
       "Parch            0\n",
       "Fare             0\n",
       "Cabin            0\n",
       "Embarked         0\n",
       "CabinLetter    687\n",
       "dtype: int64"
      ]
     },
     "execution_count": 20,
     "metadata": {},
     "output_type": "execute_result"
    }
   ],
   "source": [
    "df.isna().sum()"
   ]
  },
  {
   "cell_type": "code",
   "execution_count": 21,
   "id": "782fadf5",
   "metadata": {
    "execution": {
     "iopub.execute_input": "2024-02-22T13:46:59.402176Z",
     "iopub.status.busy": "2024-02-22T13:46:59.401365Z",
     "iopub.status.idle": "2024-02-22T13:46:59.408763Z",
     "shell.execute_reply": "2024-02-22T13:46:59.407570Z"
    },
    "papermill": {
     "duration": 0.046518,
     "end_time": "2024-02-22T13:46:59.411829",
     "exception": false,
     "start_time": "2024-02-22T13:46:59.365311",
     "status": "completed"
    },
    "tags": []
   },
   "outputs": [
    {
     "name": "stderr",
     "output_type": "stream",
     "text": [
      "/tmp/ipykernel_18/3303530553.py:1: FutureWarning: A value is trying to be set on a copy of a DataFrame or Series through chained assignment using an inplace method.\n",
      "The behavior will change in pandas 3.0. This inplace method will never work because the intermediate object on which we are setting values always behaves as a copy.\n",
      "\n",
      "For example, when doing 'df[col].method(value, inplace=True)', try using 'df.method({col: value}, inplace=True)' or df[col] = df[col].method(value) instead, to perform the operation inplace on the original object.\n",
      "\n",
      "\n",
      "  df['CabinLetter'].fillna('Z',inplace=True)\n"
     ]
    }
   ],
   "source": [
    "df['CabinLetter'].fillna('Z',inplace=True)"
   ]
  },
  {
   "cell_type": "code",
   "execution_count": 22,
   "id": "cf84f916",
   "metadata": {
    "execution": {
     "iopub.execute_input": "2024-02-22T13:46:59.477869Z",
     "iopub.status.busy": "2024-02-22T13:46:59.476777Z",
     "iopub.status.idle": "2024-02-22T13:46:59.485986Z",
     "shell.execute_reply": "2024-02-22T13:46:59.484406Z"
    },
    "papermill": {
     "duration": 0.04469,
     "end_time": "2024-02-22T13:46:59.488546",
     "exception": false,
     "start_time": "2024-02-22T13:46:59.443856",
     "status": "completed"
    },
    "tags": []
   },
   "outputs": [
    {
     "data": {
      "text/plain": [
       "array(['Z', 'C', 'E', 'G', 'D', 'A', 'B', 'F', 'T'], dtype=object)"
      ]
     },
     "execution_count": 22,
     "metadata": {},
     "output_type": "execute_result"
    }
   ],
   "source": [
    "df['CabinLetter'].unique()"
   ]
  },
  {
   "cell_type": "code",
   "execution_count": 23,
   "id": "10e84fed",
   "metadata": {
    "execution": {
     "iopub.execute_input": "2024-02-22T13:46:59.553505Z",
     "iopub.status.busy": "2024-02-22T13:46:59.552729Z",
     "iopub.status.idle": "2024-02-22T13:46:59.560070Z",
     "shell.execute_reply": "2024-02-22T13:46:59.559235Z"
    },
    "papermill": {
     "duration": 0.042898,
     "end_time": "2024-02-22T13:46:59.562654",
     "exception": false,
     "start_time": "2024-02-22T13:46:59.519756",
     "status": "completed"
    },
    "tags": []
   },
   "outputs": [],
   "source": [
    "letter_to_num_mapping = {'Z':  0, 'C':  1, 'E':  2, 'G':  3, 'D':  4, 'A':  5, 'B':  6, 'F':  7, 'T':  8}\n",
    "\n",
    "# Use the map() function to apply the mapping to the 'CabinLetter' column\n",
    "df['CabinLetter'] = df['CabinLetter'].map(letter_to_num_mapping)"
   ]
  },
  {
   "cell_type": "code",
   "execution_count": 24,
   "id": "8d29bee3",
   "metadata": {
    "execution": {
     "iopub.execute_input": "2024-02-22T13:46:59.628059Z",
     "iopub.status.busy": "2024-02-22T13:46:59.627295Z",
     "iopub.status.idle": "2024-02-22T13:46:59.643837Z",
     "shell.execute_reply": "2024-02-22T13:46:59.642953Z"
    },
    "papermill": {
     "duration": 0.052462,
     "end_time": "2024-02-22T13:46:59.646870",
     "exception": false,
     "start_time": "2024-02-22T13:46:59.594408",
     "status": "completed"
    },
    "tags": []
   },
   "outputs": [
    {
     "data": {
      "text/html": [
       "<div>\n",
       "<style scoped>\n",
       "    .dataframe tbody tr th:only-of-type {\n",
       "        vertical-align: middle;\n",
       "    }\n",
       "\n",
       "    .dataframe tbody tr th {\n",
       "        vertical-align: top;\n",
       "    }\n",
       "\n",
       "    .dataframe thead th {\n",
       "        text-align: right;\n",
       "    }\n",
       "</style>\n",
       "<table border=\"1\" class=\"dataframe\">\n",
       "  <thead>\n",
       "    <tr style=\"text-align: right;\">\n",
       "      <th></th>\n",
       "      <th>Survived</th>\n",
       "      <th>Pclass</th>\n",
       "      <th>Sex</th>\n",
       "      <th>Age</th>\n",
       "      <th>SibSp</th>\n",
       "      <th>Parch</th>\n",
       "      <th>Fare</th>\n",
       "      <th>Cabin</th>\n",
       "      <th>Embarked</th>\n",
       "      <th>CabinLetter</th>\n",
       "    </tr>\n",
       "  </thead>\n",
       "  <tbody>\n",
       "    <tr>\n",
       "      <th>0</th>\n",
       "      <td>0</td>\n",
       "      <td>3</td>\n",
       "      <td>male</td>\n",
       "      <td>22.0</td>\n",
       "      <td>1</td>\n",
       "      <td>0</td>\n",
       "      <td>7.2500</td>\n",
       "      <td>N</td>\n",
       "      <td>S</td>\n",
       "      <td>0</td>\n",
       "    </tr>\n",
       "    <tr>\n",
       "      <th>1</th>\n",
       "      <td>1</td>\n",
       "      <td>1</td>\n",
       "      <td>female</td>\n",
       "      <td>38.0</td>\n",
       "      <td>1</td>\n",
       "      <td>0</td>\n",
       "      <td>71.2833</td>\n",
       "      <td>C85</td>\n",
       "      <td>C</td>\n",
       "      <td>1</td>\n",
       "    </tr>\n",
       "    <tr>\n",
       "      <th>2</th>\n",
       "      <td>1</td>\n",
       "      <td>3</td>\n",
       "      <td>female</td>\n",
       "      <td>26.0</td>\n",
       "      <td>0</td>\n",
       "      <td>0</td>\n",
       "      <td>7.9250</td>\n",
       "      <td>N</td>\n",
       "      <td>S</td>\n",
       "      <td>0</td>\n",
       "    </tr>\n",
       "    <tr>\n",
       "      <th>3</th>\n",
       "      <td>1</td>\n",
       "      <td>1</td>\n",
       "      <td>female</td>\n",
       "      <td>35.0</td>\n",
       "      <td>1</td>\n",
       "      <td>0</td>\n",
       "      <td>53.1000</td>\n",
       "      <td>C123</td>\n",
       "      <td>S</td>\n",
       "      <td>1</td>\n",
       "    </tr>\n",
       "    <tr>\n",
       "      <th>4</th>\n",
       "      <td>0</td>\n",
       "      <td>3</td>\n",
       "      <td>male</td>\n",
       "      <td>35.0</td>\n",
       "      <td>0</td>\n",
       "      <td>0</td>\n",
       "      <td>8.0500</td>\n",
       "      <td>N</td>\n",
       "      <td>S</td>\n",
       "      <td>0</td>\n",
       "    </tr>\n",
       "  </tbody>\n",
       "</table>\n",
       "</div>"
      ],
      "text/plain": [
       "   Survived  Pclass     Sex   Age  SibSp  Parch     Fare Cabin Embarked  \\\n",
       "0         0       3    male  22.0      1      0   7.2500     N        S   \n",
       "1         1       1  female  38.0      1      0  71.2833   C85        C   \n",
       "2         1       3  female  26.0      0      0   7.9250     N        S   \n",
       "3         1       1  female  35.0      1      0  53.1000  C123        S   \n",
       "4         0       3    male  35.0      0      0   8.0500     N        S   \n",
       "\n",
       "   CabinLetter  \n",
       "0            0  \n",
       "1            1  \n",
       "2            0  \n",
       "3            1  \n",
       "4            0  "
      ]
     },
     "execution_count": 24,
     "metadata": {},
     "output_type": "execute_result"
    }
   ],
   "source": [
    "df.head()"
   ]
  },
  {
   "cell_type": "code",
   "execution_count": 25,
   "id": "646680b5",
   "metadata": {
    "execution": {
     "iopub.execute_input": "2024-02-22T13:46:59.719657Z",
     "iopub.status.busy": "2024-02-22T13:46:59.718442Z",
     "iopub.status.idle": "2024-02-22T13:46:59.724934Z",
     "shell.execute_reply": "2024-02-22T13:46:59.724117Z"
    },
    "papermill": {
     "duration": 0.046522,
     "end_time": "2024-02-22T13:46:59.727615",
     "exception": false,
     "start_time": "2024-02-22T13:46:59.681093",
     "status": "completed"
    },
    "tags": []
   },
   "outputs": [],
   "source": [
    "df=df.drop(columns=['Cabin'])"
   ]
  },
  {
   "cell_type": "code",
   "execution_count": 26,
   "id": "97513a16",
   "metadata": {
    "execution": {
     "iopub.execute_input": "2024-02-22T13:46:59.793287Z",
     "iopub.status.busy": "2024-02-22T13:46:59.792614Z",
     "iopub.status.idle": "2024-02-22T13:46:59.828956Z",
     "shell.execute_reply": "2024-02-22T13:46:59.827521Z"
    },
    "papermill": {
     "duration": 0.072371,
     "end_time": "2024-02-22T13:46:59.832005",
     "exception": false,
     "start_time": "2024-02-22T13:46:59.759634",
     "status": "completed"
    },
    "tags": []
   },
   "outputs": [
    {
     "data": {
      "text/html": [
       "<div>\n",
       "<style scoped>\n",
       "    .dataframe tbody tr th:only-of-type {\n",
       "        vertical-align: middle;\n",
       "    }\n",
       "\n",
       "    .dataframe tbody tr th {\n",
       "        vertical-align: top;\n",
       "    }\n",
       "\n",
       "    .dataframe thead th {\n",
       "        text-align: right;\n",
       "    }\n",
       "</style>\n",
       "<table border=\"1\" class=\"dataframe\">\n",
       "  <thead>\n",
       "    <tr style=\"text-align: right;\">\n",
       "      <th></th>\n",
       "      <th>Survived</th>\n",
       "      <th>Pclass</th>\n",
       "      <th>Age</th>\n",
       "      <th>SibSp</th>\n",
       "      <th>Parch</th>\n",
       "      <th>Fare</th>\n",
       "      <th>CabinLetter</th>\n",
       "    </tr>\n",
       "  </thead>\n",
       "  <tbody>\n",
       "    <tr>\n",
       "      <th>count</th>\n",
       "      <td>889.000000</td>\n",
       "      <td>889.000000</td>\n",
       "      <td>889.000000</td>\n",
       "      <td>889.000000</td>\n",
       "      <td>889.000000</td>\n",
       "      <td>889.000000</td>\n",
       "      <td>889.000000</td>\n",
       "    </tr>\n",
       "    <tr>\n",
       "      <th>mean</th>\n",
       "      <td>0.382452</td>\n",
       "      <td>2.311586</td>\n",
       "      <td>29.642093</td>\n",
       "      <td>0.524184</td>\n",
       "      <td>0.382452</td>\n",
       "      <td>32.096681</td>\n",
       "      <td>0.799775</td>\n",
       "    </tr>\n",
       "    <tr>\n",
       "      <th>std</th>\n",
       "      <td>0.486260</td>\n",
       "      <td>0.834700</td>\n",
       "      <td>12.968346</td>\n",
       "      <td>1.103705</td>\n",
       "      <td>0.806761</td>\n",
       "      <td>49.697504</td>\n",
       "      <td>1.800388</td>\n",
       "    </tr>\n",
       "    <tr>\n",
       "      <th>min</th>\n",
       "      <td>0.000000</td>\n",
       "      <td>1.000000</td>\n",
       "      <td>0.420000</td>\n",
       "      <td>0.000000</td>\n",
       "      <td>0.000000</td>\n",
       "      <td>0.000000</td>\n",
       "      <td>0.000000</td>\n",
       "    </tr>\n",
       "    <tr>\n",
       "      <th>25%</th>\n",
       "      <td>0.000000</td>\n",
       "      <td>2.000000</td>\n",
       "      <td>22.000000</td>\n",
       "      <td>0.000000</td>\n",
       "      <td>0.000000</td>\n",
       "      <td>7.895800</td>\n",
       "      <td>0.000000</td>\n",
       "    </tr>\n",
       "    <tr>\n",
       "      <th>50%</th>\n",
       "      <td>0.000000</td>\n",
       "      <td>3.000000</td>\n",
       "      <td>29.642093</td>\n",
       "      <td>0.000000</td>\n",
       "      <td>0.000000</td>\n",
       "      <td>14.454200</td>\n",
       "      <td>0.000000</td>\n",
       "    </tr>\n",
       "    <tr>\n",
       "      <th>75%</th>\n",
       "      <td>1.000000</td>\n",
       "      <td>3.000000</td>\n",
       "      <td>35.000000</td>\n",
       "      <td>1.000000</td>\n",
       "      <td>0.000000</td>\n",
       "      <td>31.000000</td>\n",
       "      <td>0.000000</td>\n",
       "    </tr>\n",
       "    <tr>\n",
       "      <th>max</th>\n",
       "      <td>1.000000</td>\n",
       "      <td>3.000000</td>\n",
       "      <td>80.000000</td>\n",
       "      <td>8.000000</td>\n",
       "      <td>6.000000</td>\n",
       "      <td>512.329200</td>\n",
       "      <td>8.000000</td>\n",
       "    </tr>\n",
       "  </tbody>\n",
       "</table>\n",
       "</div>"
      ],
      "text/plain": [
       "         Survived      Pclass         Age       SibSp       Parch        Fare  \\\n",
       "count  889.000000  889.000000  889.000000  889.000000  889.000000  889.000000   \n",
       "mean     0.382452    2.311586   29.642093    0.524184    0.382452   32.096681   \n",
       "std      0.486260    0.834700   12.968346    1.103705    0.806761   49.697504   \n",
       "min      0.000000    1.000000    0.420000    0.000000    0.000000    0.000000   \n",
       "25%      0.000000    2.000000   22.000000    0.000000    0.000000    7.895800   \n",
       "50%      0.000000    3.000000   29.642093    0.000000    0.000000   14.454200   \n",
       "75%      1.000000    3.000000   35.000000    1.000000    0.000000   31.000000   \n",
       "max      1.000000    3.000000   80.000000    8.000000    6.000000  512.329200   \n",
       "\n",
       "       CabinLetter  \n",
       "count   889.000000  \n",
       "mean      0.799775  \n",
       "std       1.800388  \n",
       "min       0.000000  \n",
       "25%       0.000000  \n",
       "50%       0.000000  \n",
       "75%       0.000000  \n",
       "max       8.000000  "
      ]
     },
     "execution_count": 26,
     "metadata": {},
     "output_type": "execute_result"
    }
   ],
   "source": [
    "df.describe()\n"
   ]
  },
  {
   "cell_type": "code",
   "execution_count": 27,
   "id": "b4fea776",
   "metadata": {
    "execution": {
     "iopub.execute_input": "2024-02-22T13:46:59.898979Z",
     "iopub.status.busy": "2024-02-22T13:46:59.898597Z",
     "iopub.status.idle": "2024-02-22T13:47:00.111243Z",
     "shell.execute_reply": "2024-02-22T13:47:00.109667Z"
    },
    "papermill": {
     "duration": 0.249972,
     "end_time": "2024-02-22T13:47:00.114526",
     "exception": false,
     "start_time": "2024-02-22T13:46:59.864554",
     "status": "completed"
    },
    "tags": []
   },
   "outputs": [
    {
     "data": {
      "text/plain": [
       "<Axes: xlabel='Survived', ylabel='count'>"
      ]
     },
     "execution_count": 27,
     "metadata": {},
     "output_type": "execute_result"
    },
    {
     "data": {
      "image/png": "[encoded data removed]",
      "text/plain": [
       "<Figure size 640x480 with 1 Axes>"
      ]
     },
     "metadata": {},
     "output_type": "display_data"
    }
   ],
   "source": [
    "#Data visualization \n",
    "sns.countplot(x='Survived',data=df)"
   ]
  },
  {
   "cell_type": "code",
   "execution_count": 28,
   "id": "ce318c9b",
   "metadata": {
    "execution": {
     "iopub.execute_input": "2024-02-22T13:47:00.186728Z",
     "iopub.status.busy": "2024-02-22T13:47:00.186338Z",
     "iopub.status.idle": "2024-02-22T13:47:02.473113Z",
     "shell.execute_reply": "2024-02-22T13:47:02.471599Z"
    },
    "papermill": {
     "duration": 2.329169,
     "end_time": "2024-02-22T13:47:02.476785",
     "exception": false,
     "start_time": "2024-02-22T13:47:00.147616",
     "status": "completed"
    },
    "tags": []
   },
   "outputs": [
    {
     "name": "stderr",
     "output_type": "stream",
     "text": [
      "/opt/conda/lib/python3.10/site-packages/seaborn/_oldcore.py:1119: FutureWarning: use_inf_as_na option is deprecated and will be removed in a future version. Convert inf values to NaN before operating instead.\n",
      "  with pd.option_context('mode.use_inf_as_na', True):\n",
      "/opt/conda/lib/python3.10/site-packages/seaborn/_oldcore.py:1119: FutureWarning: use_inf_as_na option is deprecated and will be removed in a future version. Convert inf values to NaN before operating instead.\n",
      "  with pd.option_context('mode.use_inf_as_na', True):\n",
      "/opt/conda/lib/python3.10/site-packages/seaborn/_oldcore.py:1119: FutureWarning: use_inf_as_na option is deprecated and will be removed in a future version. Convert inf values to NaN before operating instead.\n",
      "  with pd.option_context('mode.use_inf_as_na', True):\n",
      "/opt/conda/lib/python3.10/site-packages/seaborn/_oldcore.py:1119: FutureWarning: use_inf_as_na option is deprecated and will be removed in a future version. Convert inf values to NaN before operating instead.\n",
      "  with pd.option_context('mode.use_inf_as_na', True):\n",
      "/opt/conda/lib/python3.10/site-packages/seaborn/_oldcore.py:1119: FutureWarning: use_inf_as_na option is deprecated and will be removed in a future version. Convert inf values to NaN before operating instead.\n",
      "  with pd.option_context('mode.use_inf_as_na', True):\n",
      "/opt/conda/lib/python3.10/site-packages/seaborn/_oldcore.py:1119: FutureWarning: use_inf_as_na option is deprecated and will be removed in a future version. Convert inf values to NaN before operating instead.\n",
      "  with pd.option_context('mode.use_inf_as_na', True):\n"
     ]
    },
    {
     "data": {
      "image/png": "[encoded data removed]",
      "text/plain": [
       "<Figure size 971.111x900 with 6 Axes>"
      ]
     },
     "metadata": {},
     "output_type": "display_data"
    }
   ],
   "source": [
    "#plotting FacetGrid\n",
    "grid = sns.FacetGrid(df, col='Survived', row='Pclass',aspect=1.6)\n",
    "grid.map(sns.histplot, 'Sex', alpha=.5, bins=20)\n",
    "grid.add_legend();"
   ]
  },
  {
   "cell_type": "markdown",
   "id": "0207aff5",
   "metadata": {
    "papermill": {
     "duration": 0.035753,
     "end_time": "2024-02-22T13:47:02.549678",
     "exception": false,
     "start_time": "2024-02-22T13:47:02.513925",
     "status": "completed"
    },
    "tags": []
   },
   "source": []
  },
  {
   "cell_type": "code",
   "execution_count": 29,
   "id": "38491441",
   "metadata": {
    "execution": {
     "iopub.execute_input": "2024-02-22T13:47:02.621892Z",
     "iopub.status.busy": "2024-02-22T13:47:02.621428Z",
     "iopub.status.idle": "2024-02-22T13:47:02.829638Z",
     "shell.execute_reply": "2024-02-22T13:47:02.828410Z"
    },
    "papermill": {
     "duration": 0.247543,
     "end_time": "2024-02-22T13:47:02.832407",
     "exception": false,
     "start_time": "2024-02-22T13:47:02.584864",
     "status": "completed"
    },
    "tags": []
   },
   "outputs": [
    {
     "data": {
      "text/plain": [
       "<Axes: xlabel='Sex', ylabel='count'>"
      ]
     },
     "execution_count": 29,
     "metadata": {},
     "output_type": "execute_result"
    },
    {
     "data": {
      "image/png": "[encoded data removed]",
      "text/plain": [
       "<Figure size 640x480 with 1 Axes>"
      ]
     },
     "metadata": {},
     "output_type": "display_data"
    }
   ],
   "source": [
    "sns.countplot(x='Sex',hue='Survived',data=df)\n"
   ]
  },
  {
   "cell_type": "markdown",
   "id": "d187646e",
   "metadata": {
    "papermill": {
     "duration": 0.035103,
     "end_time": "2024-02-22T13:47:02.902883",
     "exception": false,
     "start_time": "2024-02-22T13:47:02.867780",
     "status": "completed"
    },
    "tags": []
   },
   "source": [
    "The above chart illustrate that male are less likely to surive whereas the surival rate is higher for female"
   ]
  },
  {
   "cell_type": "markdown",
   "id": "f02a78e5",
   "metadata": {
    "execution": {
     "iopub.execute_input": "2024-02-09T12:29:34.619351Z",
     "iopub.status.busy": "2024-02-09T12:29:34.618203Z",
     "iopub.status.idle": "2024-02-09T12:29:34.862320Z",
     "shell.execute_reply": "2024-02-09T12:29:34.861259Z",
     "shell.execute_reply.started": "2024-02-09T12:29:34.619314Z"
    },
    "papermill": {
     "duration": 0.034888,
     "end_time": "2024-02-22T13:47:02.972875",
     "exception": false,
     "start_time": "2024-02-22T13:47:02.937987",
     "status": "completed"
    },
    "tags": []
   },
   "source": [
    "sns.countplot(x=\"Pclass\",hue=\"Survived\",data=df)"
   ]
  },
  {
   "cell_type": "markdown",
   "id": "0fe12f1c",
   "metadata": {
    "papermill": {
     "duration": 0.033543,
     "end_time": "2024-02-22T13:47:03.041326",
     "exception": false,
     "start_time": "2024-02-22T13:47:03.007783",
     "status": "completed"
    },
    "tags": []
   },
   "source": [
    "AS we can see people who have third class ticket are less likely to survive whereas the people who belonged to higher class has more favourable chance of surviving"
   ]
  },
  {
   "cell_type": "code",
   "execution_count": 30,
   "id": "db0ab3a5",
   "metadata": {
    "execution": {
     "iopub.execute_input": "2024-02-22T13:47:03.114679Z",
     "iopub.status.busy": "2024-02-22T13:47:03.114193Z",
     "iopub.status.idle": "2024-02-22T13:47:03.137930Z",
     "shell.execute_reply": "2024-02-22T13:47:03.136570Z"
    },
    "papermill": {
     "duration": 0.063938,
     "end_time": "2024-02-22T13:47:03.140536",
     "exception": false,
     "start_time": "2024-02-22T13:47:03.076598",
     "status": "completed"
    },
    "tags": []
   },
   "outputs": [
    {
     "name": "stderr",
     "output_type": "stream",
     "text": [
      "/tmp/ipykernel_18/2307317276.py:1: FutureWarning: Downcasting behavior in `replace` is deprecated and will be removed in a future version. To retain the old behavior, explicitly call `result.infer_objects(copy=False)`. To opt-in to the future behavior, set `pd.set_option('future.no_silent_downcasting', True)`\n",
      "  df['Sex'] = df['Sex'].replace({'male':  0, 'female':  1})\n"
     ]
    },
    {
     "data": {
      "text/html": [
       "<div>\n",
       "<style scoped>\n",
       "    .dataframe tbody tr th:only-of-type {\n",
       "        vertical-align: middle;\n",
       "    }\n",
       "\n",
       "    .dataframe tbody tr th {\n",
       "        vertical-align: top;\n",
       "    }\n",
       "\n",
       "    .dataframe thead th {\n",
       "        text-align: right;\n",
       "    }\n",
       "</style>\n",
       "<table border=\"1\" class=\"dataframe\">\n",
       "  <thead>\n",
       "    <tr style=\"text-align: right;\">\n",
       "      <th></th>\n",
       "      <th>Survived</th>\n",
       "      <th>Pclass</th>\n",
       "      <th>Sex</th>\n",
       "      <th>Age</th>\n",
       "      <th>SibSp</th>\n",
       "      <th>Parch</th>\n",
       "      <th>Fare</th>\n",
       "      <th>Embarked</th>\n",
       "      <th>CabinLetter</th>\n",
       "    </tr>\n",
       "  </thead>\n",
       "  <tbody>\n",
       "    <tr>\n",
       "      <th>0</th>\n",
       "      <td>0</td>\n",
       "      <td>3</td>\n",
       "      <td>0</td>\n",
       "      <td>22.0</td>\n",
       "      <td>1</td>\n",
       "      <td>0</td>\n",
       "      <td>7.2500</td>\n",
       "      <td>S</td>\n",
       "      <td>0</td>\n",
       "    </tr>\n",
       "    <tr>\n",
       "      <th>1</th>\n",
       "      <td>1</td>\n",
       "      <td>1</td>\n",
       "      <td>1</td>\n",
       "      <td>38.0</td>\n",
       "      <td>1</td>\n",
       "      <td>0</td>\n",
       "      <td>71.2833</td>\n",
       "      <td>C</td>\n",
       "      <td>1</td>\n",
       "    </tr>\n",
       "    <tr>\n",
       "      <th>2</th>\n",
       "      <td>1</td>\n",
       "      <td>3</td>\n",
       "      <td>1</td>\n",
       "      <td>26.0</td>\n",
       "      <td>0</td>\n",
       "      <td>0</td>\n",
       "      <td>7.9250</td>\n",
       "      <td>S</td>\n",
       "      <td>0</td>\n",
       "    </tr>\n",
       "    <tr>\n",
       "      <th>3</th>\n",
       "      <td>1</td>\n",
       "      <td>1</td>\n",
       "      <td>1</td>\n",
       "      <td>35.0</td>\n",
       "      <td>1</td>\n",
       "      <td>0</td>\n",
       "      <td>53.1000</td>\n",
       "      <td>S</td>\n",
       "      <td>1</td>\n",
       "    </tr>\n",
       "    <tr>\n",
       "      <th>4</th>\n",
       "      <td>0</td>\n",
       "      <td>3</td>\n",
       "      <td>0</td>\n",
       "      <td>35.0</td>\n",
       "      <td>0</td>\n",
       "      <td>0</td>\n",
       "      <td>8.0500</td>\n",
       "      <td>S</td>\n",
       "      <td>0</td>\n",
       "    </tr>\n",
       "  </tbody>\n",
       "</table>\n",
       "</div>"
      ],
      "text/plain": [
       "   Survived  Pclass  Sex   Age  SibSp  Parch     Fare Embarked  CabinLetter\n",
       "0         0       3    0  22.0      1      0   7.2500        S            0\n",
       "1         1       1    1  38.0      1      0  71.2833        C            1\n",
       "2         1       3    1  26.0      0      0   7.9250        S            0\n",
       "3         1       1    1  35.0      1      0  53.1000        S            1\n",
       "4         0       3    0  35.0      0      0   8.0500        S            0"
      ]
     },
     "execution_count": 30,
     "metadata": {},
     "output_type": "execute_result"
    }
   ],
   "source": [
    "\n",
    "df['Sex'] = df['Sex'].replace({'male':  0, 'female':  1})\n",
    "df.head()"
   ]
  },
  {
   "cell_type": "code",
   "execution_count": 31,
   "id": "6c468ec4",
   "metadata": {
    "execution": {
     "iopub.execute_input": "2024-02-22T13:47:03.212630Z",
     "iopub.status.busy": "2024-02-22T13:47:03.211842Z",
     "iopub.status.idle": "2024-02-22T13:47:03.234606Z",
     "shell.execute_reply": "2024-02-22T13:47:03.232987Z"
    },
    "papermill": {
     "duration": 0.061984,
     "end_time": "2024-02-22T13:47:03.237803",
     "exception": false,
     "start_time": "2024-02-22T13:47:03.175819",
     "status": "completed"
    },
    "tags": []
   },
   "outputs": [
    {
     "name": "stderr",
     "output_type": "stream",
     "text": [
      "/tmp/ipykernel_18/1358648033.py:1: FutureWarning: Downcasting behavior in `replace` is deprecated and will be removed in a future version. To retain the old behavior, explicitly call `result.infer_objects(copy=False)`. To opt-in to the future behavior, set `pd.set_option('future.no_silent_downcasting', True)`\n",
      "  df['Embarked']=df['Embarked'].replace({'S':0,'C':1,'Q':2})\n"
     ]
    },
    {
     "data": {
      "text/html": [
       "<div>\n",
       "<style scoped>\n",
       "    .dataframe tbody tr th:only-of-type {\n",
       "        vertical-align: middle;\n",
       "    }\n",
       "\n",
       "    .dataframe tbody tr th {\n",
       "        vertical-align: top;\n",
       "    }\n",
       "\n",
       "    .dataframe thead th {\n",
       "        text-align: right;\n",
       "    }\n",
       "</style>\n",
       "<table border=\"1\" class=\"dataframe\">\n",
       "  <thead>\n",
       "    <tr style=\"text-align: right;\">\n",
       "      <th></th>\n",
       "      <th>Survived</th>\n",
       "      <th>Pclass</th>\n",
       "      <th>Sex</th>\n",
       "      <th>Age</th>\n",
       "      <th>SibSp</th>\n",
       "      <th>Parch</th>\n",
       "      <th>Fare</th>\n",
       "      <th>Embarked</th>\n",
       "      <th>CabinLetter</th>\n",
       "    </tr>\n",
       "  </thead>\n",
       "  <tbody>\n",
       "    <tr>\n",
       "      <th>0</th>\n",
       "      <td>0</td>\n",
       "      <td>3</td>\n",
       "      <td>0</td>\n",
       "      <td>22.0</td>\n",
       "      <td>1</td>\n",
       "      <td>0</td>\n",
       "      <td>7.2500</td>\n",
       "      <td>0</td>\n",
       "      <td>0</td>\n",
       "    </tr>\n",
       "    <tr>\n",
       "      <th>1</th>\n",
       "      <td>1</td>\n",
       "      <td>1</td>\n",
       "      <td>1</td>\n",
       "      <td>38.0</td>\n",
       "      <td>1</td>\n",
       "      <td>0</td>\n",
       "      <td>71.2833</td>\n",
       "      <td>1</td>\n",
       "      <td>1</td>\n",
       "    </tr>\n",
       "    <tr>\n",
       "      <th>2</th>\n",
       "      <td>1</td>\n",
       "      <td>3</td>\n",
       "      <td>1</td>\n",
       "      <td>26.0</td>\n",
       "      <td>0</td>\n",
       "      <td>0</td>\n",
       "      <td>7.9250</td>\n",
       "      <td>0</td>\n",
       "      <td>0</td>\n",
       "    </tr>\n",
       "    <tr>\n",
       "      <th>3</th>\n",
       "      <td>1</td>\n",
       "      <td>1</td>\n",
       "      <td>1</td>\n",
       "      <td>35.0</td>\n",
       "      <td>1</td>\n",
       "      <td>0</td>\n",
       "      <td>53.1000</td>\n",
       "      <td>0</td>\n",
       "      <td>1</td>\n",
       "    </tr>\n",
       "    <tr>\n",
       "      <th>4</th>\n",
       "      <td>0</td>\n",
       "      <td>3</td>\n",
       "      <td>0</td>\n",
       "      <td>35.0</td>\n",
       "      <td>0</td>\n",
       "      <td>0</td>\n",
       "      <td>8.0500</td>\n",
       "      <td>0</td>\n",
       "      <td>0</td>\n",
       "    </tr>\n",
       "  </tbody>\n",
       "</table>\n",
       "</div>"
      ],
      "text/plain": [
       "   Survived  Pclass  Sex   Age  SibSp  Parch     Fare  Embarked  CabinLetter\n",
       "0         0       3    0  22.0      1      0   7.2500         0            0\n",
       "1         1       1    1  38.0      1      0  71.2833         1            1\n",
       "2         1       3    1  26.0      0      0   7.9250         0            0\n",
       "3         1       1    1  35.0      1      0  53.1000         0            1\n",
       "4         0       3    0  35.0      0      0   8.0500         0            0"
      ]
     },
     "execution_count": 31,
     "metadata": {},
     "output_type": "execute_result"
    }
   ],
   "source": [
    "df['Embarked']=df['Embarked'].replace({'S':0,'C':1,'Q':2})\n",
    "df.head()"
   ]
  },
  {
   "cell_type": "markdown",
   "id": "e348b948",
   "metadata": {
    "papermill": {
     "duration": 0.037267,
     "end_time": "2024-02-22T13:47:03.314443",
     "exception": false,
     "start_time": "2024-02-22T13:47:03.277176",
     "status": "completed"
    },
    "tags": []
   },
   "source": [
    "According to my research not all the people had their own personal cabin. And from the above two chart we can see that the higher class especially class 1 passengers had cabin and on the basis of cabin the chance of surival depends. So people with out cabin will be filled with N== No cabin "
   ]
  },
  {
   "cell_type": "code",
   "execution_count": 32,
   "id": "23cad4e6",
   "metadata": {
    "execution": {
     "iopub.execute_input": "2024-02-22T13:47:03.392599Z",
     "iopub.status.busy": "2024-02-22T13:47:03.391062Z",
     "iopub.status.idle": "2024-02-22T13:47:03.408964Z",
     "shell.execute_reply": "2024-02-22T13:47:03.408001Z"
    },
    "papermill": {
     "duration": 0.060075,
     "end_time": "2024-02-22T13:47:03.411730",
     "exception": false,
     "start_time": "2024-02-22T13:47:03.351655",
     "status": "completed"
    },
    "tags": []
   },
   "outputs": [
    {
     "data": {
      "text/html": [
       "<div>\n",
       "<style scoped>\n",
       "    .dataframe tbody tr th:only-of-type {\n",
       "        vertical-align: middle;\n",
       "    }\n",
       "\n",
       "    .dataframe tbody tr th {\n",
       "        vertical-align: top;\n",
       "    }\n",
       "\n",
       "    .dataframe thead th {\n",
       "        text-align: right;\n",
       "    }\n",
       "</style>\n",
       "<table border=\"1\" class=\"dataframe\">\n",
       "  <thead>\n",
       "    <tr style=\"text-align: right;\">\n",
       "      <th></th>\n",
       "      <th>Survived</th>\n",
       "      <th>Pclass</th>\n",
       "      <th>Sex</th>\n",
       "      <th>Age</th>\n",
       "      <th>SibSp</th>\n",
       "      <th>Parch</th>\n",
       "      <th>Fare</th>\n",
       "      <th>Embarked</th>\n",
       "      <th>CabinLetter</th>\n",
       "    </tr>\n",
       "  </thead>\n",
       "  <tbody>\n",
       "    <tr>\n",
       "      <th>0</th>\n",
       "      <td>0</td>\n",
       "      <td>3</td>\n",
       "      <td>0</td>\n",
       "      <td>22.0</td>\n",
       "      <td>1</td>\n",
       "      <td>0</td>\n",
       "      <td>7.2500</td>\n",
       "      <td>0</td>\n",
       "      <td>0</td>\n",
       "    </tr>\n",
       "    <tr>\n",
       "      <th>1</th>\n",
       "      <td>1</td>\n",
       "      <td>1</td>\n",
       "      <td>1</td>\n",
       "      <td>38.0</td>\n",
       "      <td>1</td>\n",
       "      <td>0</td>\n",
       "      <td>71.2833</td>\n",
       "      <td>1</td>\n",
       "      <td>1</td>\n",
       "    </tr>\n",
       "    <tr>\n",
       "      <th>2</th>\n",
       "      <td>1</td>\n",
       "      <td>3</td>\n",
       "      <td>1</td>\n",
       "      <td>26.0</td>\n",
       "      <td>0</td>\n",
       "      <td>0</td>\n",
       "      <td>7.9250</td>\n",
       "      <td>0</td>\n",
       "      <td>0</td>\n",
       "    </tr>\n",
       "    <tr>\n",
       "      <th>3</th>\n",
       "      <td>1</td>\n",
       "      <td>1</td>\n",
       "      <td>1</td>\n",
       "      <td>35.0</td>\n",
       "      <td>1</td>\n",
       "      <td>0</td>\n",
       "      <td>53.1000</td>\n",
       "      <td>0</td>\n",
       "      <td>1</td>\n",
       "    </tr>\n",
       "    <tr>\n",
       "      <th>4</th>\n",
       "      <td>0</td>\n",
       "      <td>3</td>\n",
       "      <td>0</td>\n",
       "      <td>35.0</td>\n",
       "      <td>0</td>\n",
       "      <td>0</td>\n",
       "      <td>8.0500</td>\n",
       "      <td>0</td>\n",
       "      <td>0</td>\n",
       "    </tr>\n",
       "  </tbody>\n",
       "</table>\n",
       "</div>"
      ],
      "text/plain": [
       "   Survived  Pclass  Sex   Age  SibSp  Parch     Fare  Embarked  CabinLetter\n",
       "0         0       3    0  22.0      1      0   7.2500         0            0\n",
       "1         1       1    1  38.0      1      0  71.2833         1            1\n",
       "2         1       3    1  26.0      0      0   7.9250         0            0\n",
       "3         1       1    1  35.0      1      0  53.1000         0            1\n",
       "4         0       3    0  35.0      0      0   8.0500         0            0"
      ]
     },
     "execution_count": 32,
     "metadata": {},
     "output_type": "execute_result"
    }
   ],
   "source": [
    "df.head()"
   ]
  },
  {
   "cell_type": "code",
   "execution_count": 33,
   "id": "bedf8892",
   "metadata": {
    "execution": {
     "iopub.execute_input": "2024-02-22T13:47:03.493582Z",
     "iopub.status.busy": "2024-02-22T13:47:03.493146Z",
     "iopub.status.idle": "2024-02-22T13:47:03.515819Z",
     "shell.execute_reply": "2024-02-22T13:47:03.514371Z"
    },
    "papermill": {
     "duration": 0.068561,
     "end_time": "2024-02-22T13:47:03.519275",
     "exception": false,
     "start_time": "2024-02-22T13:47:03.450714",
     "status": "completed"
    },
    "tags": []
   },
   "outputs": [
    {
     "data": {
      "text/html": [
       "<div>\n",
       "<style scoped>\n",
       "    .dataframe tbody tr th:only-of-type {\n",
       "        vertical-align: middle;\n",
       "    }\n",
       "\n",
       "    .dataframe tbody tr th {\n",
       "        vertical-align: top;\n",
       "    }\n",
       "\n",
       "    .dataframe thead th {\n",
       "        text-align: right;\n",
       "    }\n",
       "</style>\n",
       "<table border=\"1\" class=\"dataframe\">\n",
       "  <thead>\n",
       "    <tr style=\"text-align: right;\">\n",
       "      <th></th>\n",
       "      <th>Age</th>\n",
       "      <th>Fare</th>\n",
       "      <th>Parch</th>\n",
       "      <th>SibSp</th>\n",
       "    </tr>\n",
       "    <tr>\n",
       "      <th>Survived</th>\n",
       "      <th></th>\n",
       "      <th></th>\n",
       "      <th></th>\n",
       "      <th></th>\n",
       "    </tr>\n",
       "  </thead>\n",
       "  <tbody>\n",
       "    <tr>\n",
       "      <th>0</th>\n",
       "      <td>30.402116</td>\n",
       "      <td>22.117887</td>\n",
       "      <td>0.329690</td>\n",
       "      <td>0.553734</td>\n",
       "    </tr>\n",
       "    <tr>\n",
       "      <th>1</th>\n",
       "      <td>28.414879</td>\n",
       "      <td>48.209498</td>\n",
       "      <td>0.467647</td>\n",
       "      <td>0.476471</td>\n",
       "    </tr>\n",
       "  </tbody>\n",
       "</table>\n",
       "</div>"
      ],
      "text/plain": [
       "                Age       Fare     Parch     SibSp\n",
       "Survived                                          \n",
       "0         30.402116  22.117887  0.329690  0.553734\n",
       "1         28.414879  48.209498  0.467647  0.476471"
      ]
     },
     "execution_count": 33,
     "metadata": {},
     "output_type": "execute_result"
    }
   ],
   "source": [
    "df.pivot_table(index='Survived',values=['Age','SibSp','Parch','Fare'])\n",
    "\n"
   ]
  },
  {
   "cell_type": "code",
   "execution_count": 34,
   "id": "81579813",
   "metadata": {
    "execution": {
     "iopub.execute_input": "2024-02-22T13:47:03.596923Z",
     "iopub.status.busy": "2024-02-22T13:47:03.596468Z",
     "iopub.status.idle": "2024-02-22T13:47:03.620552Z",
     "shell.execute_reply": "2024-02-22T13:47:03.619014Z"
    },
    "papermill": {
     "duration": 0.066419,
     "end_time": "2024-02-22T13:47:03.624060",
     "exception": false,
     "start_time": "2024-02-22T13:47:03.557641",
     "status": "completed"
    },
    "tags": []
   },
   "outputs": [
    {
     "data": {
      "text/html": [
       "<div>\n",
       "<style scoped>\n",
       "    .dataframe tbody tr th:only-of-type {\n",
       "        vertical-align: middle;\n",
       "    }\n",
       "\n",
       "    .dataframe tbody tr th {\n",
       "        vertical-align: top;\n",
       "    }\n",
       "\n",
       "    .dataframe thead th {\n",
       "        text-align: right;\n",
       "    }\n",
       "</style>\n",
       "<table border=\"1\" class=\"dataframe\">\n",
       "  <thead>\n",
       "    <tr style=\"text-align: right;\">\n",
       "      <th>Pclass</th>\n",
       "      <th>1</th>\n",
       "      <th>2</th>\n",
       "      <th>3</th>\n",
       "    </tr>\n",
       "    <tr>\n",
       "      <th>Survived</th>\n",
       "      <th></th>\n",
       "      <th></th>\n",
       "      <th></th>\n",
       "    </tr>\n",
       "  </thead>\n",
       "  <tbody>\n",
       "    <tr>\n",
       "      <th>0</th>\n",
       "      <td>80</td>\n",
       "      <td>97</td>\n",
       "      <td>372</td>\n",
       "    </tr>\n",
       "    <tr>\n",
       "      <th>1</th>\n",
       "      <td>134</td>\n",
       "      <td>87</td>\n",
       "      <td>119</td>\n",
       "    </tr>\n",
       "  </tbody>\n",
       "</table>\n",
       "</div>"
      ],
      "text/plain": [
       "Pclass      1   2    3\n",
       "Survived              \n",
       "0          80  97  372\n",
       "1         134  87  119"
      ]
     },
     "execution_count": 34,
     "metadata": {},
     "output_type": "execute_result"
    }
   ],
   "source": [
    "df.pivot_table(index='Survived',columns='Pclass',values='Fare',aggfunc='count')"
   ]
  },
  {
   "cell_type": "code",
   "execution_count": 35,
   "id": "75de8a21",
   "metadata": {
    "execution": {
     "iopub.execute_input": "2024-02-22T13:47:03.705239Z",
     "iopub.status.busy": "2024-02-22T13:47:03.704750Z",
     "iopub.status.idle": "2024-02-22T13:47:03.911058Z",
     "shell.execute_reply": "2024-02-22T13:47:03.909440Z"
    },
    "papermill": {
     "duration": 0.249232,
     "end_time": "2024-02-22T13:47:03.913966",
     "exception": false,
     "start_time": "2024-02-22T13:47:03.664734",
     "status": "completed"
    },
    "tags": []
   },
   "outputs": [
    {
     "data": {
      "text/plain": [
       "<Axes: xlabel='Age'>"
      ]
     },
     "execution_count": 35,
     "metadata": {},
     "output_type": "execute_result"
    },
    {
     "data": {
      "image/png": "[encoded data removed]",
      "text/plain": [
       "<Figure size 640x480 with 1 Axes>"
      ]
     },
     "metadata": {},
     "output_type": "display_data"
    }
   ],
   "source": [
    "import seaborn as sns\n",
    "sns.boxplot(x=df[\"Age\"])\n"
   ]
  },
  {
   "cell_type": "code",
   "execution_count": 36,
   "id": "6617d5d8",
   "metadata": {
    "execution": {
     "iopub.execute_input": "2024-02-22T13:47:03.989184Z",
     "iopub.status.busy": "2024-02-22T13:47:03.988717Z",
     "iopub.status.idle": "2024-02-22T13:47:04.176953Z",
     "shell.execute_reply": "2024-02-22T13:47:04.175662Z"
    },
    "papermill": {
     "duration": 0.230217,
     "end_time": "2024-02-22T13:47:04.179971",
     "exception": false,
     "start_time": "2024-02-22T13:47:03.949754",
     "status": "completed"
    },
    "tags": []
   },
   "outputs": [
    {
     "data": {
      "text/plain": [
       "<Axes: xlabel='Fare'>"
      ]
     },
     "execution_count": 36,
     "metadata": {},
     "output_type": "execute_result"
    },
    {
     "data": {
      "image/png": "[encoded data removed]",
      "text/plain": [
       "<Figure size 640x480 with 1 Axes>"
      ]
     },
     "metadata": {},
     "output_type": "display_data"
    }
   ],
   "source": [
    "sns.boxplot(x=df[\"Fare\"])"
   ]
  },
  {
   "cell_type": "markdown",
   "id": "2d24f649",
   "metadata": {
    "papermill": {
     "duration": 0.037657,
     "end_time": "2024-02-22T13:47:04.254163",
     "exception": false,
     "start_time": "2024-02-22T13:47:04.216506",
     "status": "completed"
    },
    "tags": []
   },
   "source": [
    "Data Normalization "
   ]
  },
  {
   "cell_type": "code",
   "execution_count": 37,
   "id": "68d3f2f0",
   "metadata": {
    "execution": {
     "iopub.execute_input": "2024-02-22T13:47:04.329888Z",
     "iopub.status.busy": "2024-02-22T13:47:04.329368Z",
     "iopub.status.idle": "2024-02-22T13:47:04.336795Z",
     "shell.execute_reply": "2024-02-22T13:47:04.335633Z"
    },
    "papermill": {
     "duration": 0.049319,
     "end_time": "2024-02-22T13:47:04.339393",
     "exception": false,
     "start_time": "2024-02-22T13:47:04.290074",
     "status": "completed"
    },
    "tags": []
   },
   "outputs": [
    {
     "data": {
      "text/plain": [
       "\"\\ndef min_max_scaling(series):\\n    return (series-series.min())/(series.max()-series.min())\\nfor col in df.columns:\\n    df['Age']=min_max_scaling(df['Age'])\\n    df['Pclass']=min_max_scaling(df['Pclass'])\\n    df['Fare']=min_max_scaling(df['Fare'])\\n    df['SibSp']=min_max_scaling(df['SibSp'])\\n\""
      ]
     },
     "execution_count": 37,
     "metadata": {},
     "output_type": "execute_result"
    }
   ],
   "source": [
    "'''\n",
    "def min_max_scaling(series):\n",
    "    return (series-series.min())/(series.max()-series.min())\n",
    "for col in df.columns:\n",
    "    df['Age']=min_max_scaling(df['Age'])\n",
    "    df['Pclass']=min_max_scaling(df['Pclass'])\n",
    "    df['Fare']=min_max_scaling(df['Fare'])\n",
    "    df['SibSp']=min_max_scaling(df['SibSp'])\n",
    "'''\n",
    "\n",
    "    "
   ]
  },
  {
   "cell_type": "code",
   "execution_count": 38,
   "id": "74b2768b",
   "metadata": {
    "execution": {
     "iopub.execute_input": "2024-02-22T13:47:04.420511Z",
     "iopub.status.busy": "2024-02-22T13:47:04.419471Z",
     "iopub.status.idle": "2024-02-22T13:47:04.459020Z",
     "shell.execute_reply": "2024-02-22T13:47:04.456985Z"
    },
    "papermill": {
     "duration": 0.084187,
     "end_time": "2024-02-22T13:47:04.462158",
     "exception": false,
     "start_time": "2024-02-22T13:47:04.377971",
     "status": "completed"
    },
    "tags": []
   },
   "outputs": [
    {
     "name": "stdout",
     "output_type": "stream",
     "text": [
      "   Survived    Pclass  Sex       Age     SibSp  Parch      Fare  Embarked  \\\n",
      "0         0  0.824744    0 -0.589288  0.431108      0 -0.499958         0   \n",
      "1         1 -1.571327    1  0.644485  0.431108      0  0.788503         1   \n",
      "2         1  0.824744    1 -0.280845 -0.474932      0 -0.486376         0   \n",
      "3         1 -1.571327    1  0.413153  0.431108      0  0.422623         0   \n",
      "4         0  0.824744    0  0.413153 -0.474932      0 -0.483861         0   \n",
      "\n",
      "   CabinLetter  \n",
      "0            0  \n",
      "1            1  \n",
      "2            0  \n",
      "3            1  \n",
      "4            0  \n"
     ]
    }
   ],
   "source": [
    "def z_score_standardization(series):\n",
    "    return (series - series.mean()) / series.std()\n",
    "\n",
    "for col in df.columns:\n",
    "    df['Age']=z_score_standardization(df['Age'])\n",
    "    df['Pclass']=z_score_standardization(df['Pclass'])\n",
    "    df['Fare']=z_score_standardization(df['Fare'])\n",
    "    df['SibSp']=z_score_standardization(df['SibSp'])\n",
    "\n",
    "print(df.head())\n"
   ]
  },
  {
   "cell_type": "code",
   "execution_count": 39,
   "id": "a8cd13d4",
   "metadata": {
    "execution": {
     "iopub.execute_input": "2024-02-22T13:47:04.543359Z",
     "iopub.status.busy": "2024-02-22T13:47:04.542859Z",
     "iopub.status.idle": "2024-02-22T13:47:04.561316Z",
     "shell.execute_reply": "2024-02-22T13:47:04.560176Z"
    },
    "papermill": {
     "duration": 0.062727,
     "end_time": "2024-02-22T13:47:04.564222",
     "exception": false,
     "start_time": "2024-02-22T13:47:04.501495",
     "status": "completed"
    },
    "tags": []
   },
   "outputs": [
    {
     "data": {
      "text/html": [
       "<div>\n",
       "<style scoped>\n",
       "    .dataframe tbody tr th:only-of-type {\n",
       "        vertical-align: middle;\n",
       "    }\n",
       "\n",
       "    .dataframe tbody tr th {\n",
       "        vertical-align: top;\n",
       "    }\n",
       "\n",
       "    .dataframe thead th {\n",
       "        text-align: right;\n",
       "    }\n",
       "</style>\n",
       "<table border=\"1\" class=\"dataframe\">\n",
       "  <thead>\n",
       "    <tr style=\"text-align: right;\">\n",
       "      <th></th>\n",
       "      <th>Survived</th>\n",
       "      <th>Pclass</th>\n",
       "      <th>Sex</th>\n",
       "      <th>Age</th>\n",
       "      <th>SibSp</th>\n",
       "      <th>Parch</th>\n",
       "      <th>Fare</th>\n",
       "      <th>Embarked</th>\n",
       "      <th>CabinLetter</th>\n",
       "    </tr>\n",
       "  </thead>\n",
       "  <tbody>\n",
       "    <tr>\n",
       "      <th>0</th>\n",
       "      <td>0</td>\n",
       "      <td>0.824744</td>\n",
       "      <td>0</td>\n",
       "      <td>-0.589288</td>\n",
       "      <td>0.431108</td>\n",
       "      <td>0</td>\n",
       "      <td>-0.499958</td>\n",
       "      <td>0</td>\n",
       "      <td>0</td>\n",
       "    </tr>\n",
       "    <tr>\n",
       "      <th>1</th>\n",
       "      <td>1</td>\n",
       "      <td>-1.571327</td>\n",
       "      <td>1</td>\n",
       "      <td>0.644485</td>\n",
       "      <td>0.431108</td>\n",
       "      <td>0</td>\n",
       "      <td>0.788503</td>\n",
       "      <td>1</td>\n",
       "      <td>1</td>\n",
       "    </tr>\n",
       "    <tr>\n",
       "      <th>2</th>\n",
       "      <td>1</td>\n",
       "      <td>0.824744</td>\n",
       "      <td>1</td>\n",
       "      <td>-0.280845</td>\n",
       "      <td>-0.474932</td>\n",
       "      <td>0</td>\n",
       "      <td>-0.486376</td>\n",
       "      <td>0</td>\n",
       "      <td>0</td>\n",
       "    </tr>\n",
       "    <tr>\n",
       "      <th>3</th>\n",
       "      <td>1</td>\n",
       "      <td>-1.571327</td>\n",
       "      <td>1</td>\n",
       "      <td>0.413153</td>\n",
       "      <td>0.431108</td>\n",
       "      <td>0</td>\n",
       "      <td>0.422623</td>\n",
       "      <td>0</td>\n",
       "      <td>1</td>\n",
       "    </tr>\n",
       "    <tr>\n",
       "      <th>4</th>\n",
       "      <td>0</td>\n",
       "      <td>0.824744</td>\n",
       "      <td>0</td>\n",
       "      <td>0.413153</td>\n",
       "      <td>-0.474932</td>\n",
       "      <td>0</td>\n",
       "      <td>-0.483861</td>\n",
       "      <td>0</td>\n",
       "      <td>0</td>\n",
       "    </tr>\n",
       "  </tbody>\n",
       "</table>\n",
       "</div>"
      ],
      "text/plain": [
       "   Survived    Pclass  Sex       Age     SibSp  Parch      Fare  Embarked  \\\n",
       "0         0  0.824744    0 -0.589288  0.431108      0 -0.499958         0   \n",
       "1         1 -1.571327    1  0.644485  0.431108      0  0.788503         1   \n",
       "2         1  0.824744    1 -0.280845 -0.474932      0 -0.486376         0   \n",
       "3         1 -1.571327    1  0.413153  0.431108      0  0.422623         0   \n",
       "4         0  0.824744    0  0.413153 -0.474932      0 -0.483861         0   \n",
       "\n",
       "   CabinLetter  \n",
       "0            0  \n",
       "1            1  \n",
       "2            0  \n",
       "3            1  \n",
       "4            0  "
      ]
     },
     "execution_count": 39,
     "metadata": {},
     "output_type": "execute_result"
    }
   ],
   "source": [
    "df.head()"
   ]
  },
  {
   "cell_type": "markdown",
   "id": "d70e64e3",
   "metadata": {
    "papermill": {
     "duration": 0.03647,
     "end_time": "2024-02-22T13:47:04.637420",
     "exception": false,
     "start_time": "2024-02-22T13:47:04.600950",
     "status": "completed"
    },
    "tags": []
   },
   "source": [
    "Model training "
   ]
  },
  {
   "cell_type": "code",
   "execution_count": 40,
   "id": "ac49d616",
   "metadata": {
    "execution": {
     "iopub.execute_input": "2024-02-22T13:47:04.713015Z",
     "iopub.status.busy": "2024-02-22T13:47:04.712564Z",
     "iopub.status.idle": "2024-02-22T13:47:04.720010Z",
     "shell.execute_reply": "2024-02-22T13:47:04.718364Z"
    },
    "papermill": {
     "duration": 0.048323,
     "end_time": "2024-02-22T13:47:04.722442",
     "exception": false,
     "start_time": "2024-02-22T13:47:04.674119",
     "status": "completed"
    },
    "tags": []
   },
   "outputs": [],
   "source": [
    "#splitting labeled and features into X and y\n",
    "X=df.iloc[:,:-1]; y=df.iloc[:,-1]"
   ]
  },
  {
   "cell_type": "code",
   "execution_count": 41,
   "id": "fb336218",
   "metadata": {
    "execution": {
     "iopub.execute_input": "2024-02-22T13:47:04.798814Z",
     "iopub.status.busy": "2024-02-22T13:47:04.797609Z",
     "iopub.status.idle": "2024-02-22T13:47:04.808092Z",
     "shell.execute_reply": "2024-02-22T13:47:04.807117Z"
    },
    "papermill": {
     "duration": 0.05177,
     "end_time": "2024-02-22T13:47:04.810682",
     "exception": false,
     "start_time": "2024-02-22T13:47:04.758912",
     "status": "completed"
    },
    "tags": []
   },
   "outputs": [
    {
     "data": {
      "text/plain": [
       "(889, 8)"
      ]
     },
     "execution_count": 41,
     "metadata": {},
     "output_type": "execute_result"
    }
   ],
   "source": [
    "X.shape"
   ]
  },
  {
   "cell_type": "code",
   "execution_count": 42,
   "id": "6a5b2e26",
   "metadata": {
    "execution": {
     "iopub.execute_input": "2024-02-22T13:47:04.887475Z",
     "iopub.status.busy": "2024-02-22T13:47:04.886654Z",
     "iopub.status.idle": "2024-02-22T13:47:04.893922Z",
     "shell.execute_reply": "2024-02-22T13:47:04.892566Z"
    },
    "papermill": {
     "duration": 0.049335,
     "end_time": "2024-02-22T13:47:04.896851",
     "exception": false,
     "start_time": "2024-02-22T13:47:04.847516",
     "status": "completed"
    },
    "tags": []
   },
   "outputs": [
    {
     "data": {
      "text/plain": [
       "(889,)"
      ]
     },
     "execution_count": 42,
     "metadata": {},
     "output_type": "execute_result"
    }
   ],
   "source": [
    "y.shape"
   ]
  },
  {
   "cell_type": "code",
   "execution_count": 43,
   "id": "ccd32ac5",
   "metadata": {
    "execution": {
     "iopub.execute_input": "2024-02-22T13:47:04.975071Z",
     "iopub.status.busy": "2024-02-22T13:47:04.973563Z",
     "iopub.status.idle": "2024-02-22T13:47:04.984621Z",
     "shell.execute_reply": "2024-02-22T13:47:04.983686Z"
    },
    "papermill": {
     "duration": 0.052997,
     "end_time": "2024-02-22T13:47:04.987135",
     "exception": false,
     "start_time": "2024-02-22T13:47:04.934138",
     "status": "completed"
    },
    "tags": []
   },
   "outputs": [
    {
     "data": {
      "text/plain": [
       "Survived       0\n",
       "Pclass         0\n",
       "Sex            0\n",
       "Age            0\n",
       "SibSp          0\n",
       "Parch          0\n",
       "Fare           0\n",
       "Embarked       0\n",
       "CabinLetter    0\n",
       "dtype: int64"
      ]
     },
     "execution_count": 43,
     "metadata": {},
     "output_type": "execute_result"
    }
   ],
   "source": [
    "df.isna().sum()"
   ]
  },
  {
   "cell_type": "code",
   "execution_count": 44,
   "id": "326127b3",
   "metadata": {
    "execution": {
     "iopub.execute_input": "2024-02-22T13:47:05.064920Z",
     "iopub.status.busy": "2024-02-22T13:47:05.064427Z",
     "iopub.status.idle": "2024-02-22T13:47:05.072876Z",
     "shell.execute_reply": "2024-02-22T13:47:05.071502Z"
    },
    "papermill": {
     "duration": 0.050927,
     "end_time": "2024-02-22T13:47:05.075658",
     "exception": false,
     "start_time": "2024-02-22T13:47:05.024731",
     "status": "completed"
    },
    "tags": []
   },
   "outputs": [],
   "source": [
    "from sklearn.model_selection import train_test_split\n",
    "X_train,X_test,y_train,y_test=train_test_split(X,y,test_size=0.2,random_state=1)"
   ]
  },
  {
   "cell_type": "code",
   "execution_count": 45,
   "id": "79037f06",
   "metadata": {
    "execution": {
     "iopub.execute_input": "2024-02-22T13:47:05.154370Z",
     "iopub.status.busy": "2024-02-22T13:47:05.153383Z",
     "iopub.status.idle": "2024-02-22T13:47:05.160891Z",
     "shell.execute_reply": "2024-02-22T13:47:05.159367Z"
    },
    "papermill": {
     "duration": 0.048954,
     "end_time": "2024-02-22T13:47:05.163382",
     "exception": false,
     "start_time": "2024-02-22T13:47:05.114428",
     "status": "completed"
    },
    "tags": []
   },
   "outputs": [
    {
     "data": {
      "text/plain": [
       "(711, 8)"
      ]
     },
     "execution_count": 45,
     "metadata": {},
     "output_type": "execute_result"
    }
   ],
   "source": [
    "X_train.shape"
   ]
  },
  {
   "cell_type": "code",
   "execution_count": 46,
   "id": "7e08fb97",
   "metadata": {
    "execution": {
     "iopub.execute_input": "2024-02-22T13:47:05.245441Z",
     "iopub.status.busy": "2024-02-22T13:47:05.244526Z",
     "iopub.status.idle": "2024-02-22T13:47:05.249784Z",
     "shell.execute_reply": "2024-02-22T13:47:05.248725Z"
    },
    "papermill": {
     "duration": 0.049375,
     "end_time": "2024-02-22T13:47:05.252374",
     "exception": false,
     "start_time": "2024-02-22T13:47:05.202999",
     "status": "completed"
    },
    "tags": []
   },
   "outputs": [],
   "source": [
    "model_lr=LogisticRegression(max_iter=2000)"
   ]
  },
  {
   "cell_type": "code",
   "execution_count": 47,
   "id": "1b78165b",
   "metadata": {
    "execution": {
     "iopub.execute_input": "2024-02-22T13:47:05.330847Z",
     "iopub.status.busy": "2024-02-22T13:47:05.330006Z",
     "iopub.status.idle": "2024-02-22T13:47:05.391663Z",
     "shell.execute_reply": "2024-02-22T13:47:05.390305Z"
    },
    "papermill": {
     "duration": 0.104717,
     "end_time": "2024-02-22T13:47:05.394791",
     "exception": false,
     "start_time": "2024-02-22T13:47:05.290074",
     "status": "completed"
    },
    "tags": []
   },
   "outputs": [
    {
     "data": {
      "text/html": [
       "<style>#sk-container-id-1 {color: black;background-color: white;}#sk-container-id-1 pre{padding: 0;}#sk-container-id-1 div.sk-toggleable {background-color: white;}#sk-container-id-1 label.sk-toggleable__label {cursor: pointer;display: block;width: 100%;margin-bottom: 0;padding: 0.3em;box-sizing: border-box;text-align: center;}#sk-container-id-1 label.sk-toggleable__label-arrow:before {content: \"▸\";float: left;margin-right: 0.25em;color: #696969;}#sk-container-id-1 label.sk-toggleable__label-arrow:hover:before {color: black;}#sk-container-id-1 div.sk-estimator:hover label.sk-toggleable__label-arrow:before {color: black;}#sk-container-id-1 div.sk-toggleable__content {max-height: 0;max-width: 0;overflow: hidden;text-align: left;background-color: #f0f8ff;}#sk-container-id-1 div.sk-toggleable__content pre {margin: 0.2em;color: black;border-radius: 0.25em;background-color: #f0f8ff;}#sk-container-id-1 input.sk-toggleable__control:checked~div.sk-toggleable__content {max-height: 200px;max-width: 100%;overflow: auto;}#sk-container-id-1 input.sk-toggleable__control:checked~label.sk-toggleable__label-arrow:before {content: \"▾\";}#sk-container-id-1 div.sk-estimator input.sk-toggleable__control:checked~label.sk-toggleable__label {background-color: #d4ebff;}#sk-container-id-1 div.sk-label input.sk-toggleable__control:checked~label.sk-toggleable__label {background-color: #d4ebff;}#sk-container-id-1 input.sk-hidden--visually {border: 0;clip: rect(1px 1px 1px 1px);clip: rect(1px, 1px, 1px, 1px);height: 1px;margin: -1px;overflow: hidden;padding: 0;position: absolute;width: 1px;}#sk-container-id-1 div.sk-estimator {font-family: monospace;background-color: #f0f8ff;border: 1px dotted black;border-radius: 0.25em;box-sizing: border-box;margin-bottom: 0.5em;}#sk-container-id-1 div.sk-estimator:hover {background-color: #d4ebff;}#sk-container-id-1 div.sk-parallel-item::after {content: \"\";width: 100%;border-bottom: 1px solid gray;flex-grow: 1;}#sk-container-id-1 div.sk-label:hover label.sk-toggleable__label {background-color: #d4ebff;}#sk-container-id-1 div.sk-serial::before {content: \"\";position: absolute;border-left: 1px solid gray;box-sizing: border-box;top: 0;bottom: 0;left: 50%;z-index: 0;}#sk-container-id-1 div.sk-serial {display: flex;flex-direction: column;align-items: center;background-color: white;padding-right: 0.2em;padding-left: 0.2em;position: relative;}#sk-container-id-1 div.sk-item {position: relative;z-index: 1;}#sk-container-id-1 div.sk-parallel {display: flex;align-items: stretch;justify-content: center;background-color: white;position: relative;}#sk-container-id-1 div.sk-item::before, #sk-container-id-1 div.sk-parallel-item::before {content: \"\";position: absolute;border-left: 1px solid gray;box-sizing: border-box;top: 0;bottom: 0;left: 50%;z-index: -1;}#sk-container-id-1 div.sk-parallel-item {display: flex;flex-direction: column;z-index: 1;position: relative;background-color: white;}#sk-container-id-1 div.sk-parallel-item:first-child::after {align-self: flex-end;width: 50%;}#sk-container-id-1 div.sk-parallel-item:last-child::after {align-self: flex-start;width: 50%;}#sk-container-id-1 div.sk-parallel-item:only-child::after {width: 0;}#sk-container-id-1 div.sk-dashed-wrapped {border: 1px dashed gray;margin: 0 0.4em 0.5em 0.4em;box-sizing: border-box;padding-bottom: 0.4em;background-color: white;}#sk-container-id-1 div.sk-label label {font-family: monospace;font-weight: bold;display: inline-block;line-height: 1.2em;}#sk-container-id-1 div.sk-label-container {text-align: center;}#sk-container-id-1 div.sk-container {/* jupyter's `normalize.less` sets `[hidden] { display: none; }` but bootstrap.min.css set `[hidden] { display: none !important; }` so we also need the `!important` here to be able to override the default hidden behavior on the sphinx rendered scikit-learn.org. See: https://github.com/scikit-learn/scikit-learn/issues/21755 */display: inline-block !important;position: relative;}#sk-container-id-1 div.sk-text-repr-fallback {display: none;}</style><div id=\"sk-container-id-1\" class=\"sk-top-container\"><div class=\"sk-text-repr-fallback\"><pre>LogisticRegression(max_iter=2000)</pre><b>In a Jupyter environment, please rerun this cell to show the HTML representation or trust the notebook. <br />On GitHub, the HTML representation is unable to render, please try loading this page with nbviewer.org.</b></div><div class=\"sk-container\" hidden><div class=\"sk-item\"><div class=\"sk-estimator sk-toggleable\"><input class=\"sk-toggleable__control sk-hidden--visually\" id=\"sk-estimator-id-1\" type=\"checkbox\" checked><label for=\"sk-estimator-id-1\" class=\"sk-toggleable__label sk-toggleable__label-arrow\">LogisticRegression</label><div class=\"sk-toggleable__content\"><pre>LogisticRegression(max_iter=2000)</pre></div></div></div></div></div>"
      ],
      "text/plain": [
       "LogisticRegression(max_iter=2000)"
      ]
     },
     "execution_count": 47,
     "metadata": {},
     "output_type": "execute_result"
    }
   ],
   "source": [
    "model_lr.fit(X_train,y_train)"
   ]
  },
  {
   "cell_type": "code",
   "execution_count": 48,
   "id": "1e011fa0",
   "metadata": {
    "execution": {
     "iopub.execute_input": "2024-02-22T13:47:05.476983Z",
     "iopub.status.busy": "2024-02-22T13:47:05.476569Z",
     "iopub.status.idle": "2024-02-22T13:47:05.485549Z",
     "shell.execute_reply": "2024-02-22T13:47:05.484161Z"
    },
    "papermill": {
     "duration": 0.054514,
     "end_time": "2024-02-22T13:47:05.488313",
     "exception": false,
     "start_time": "2024-02-22T13:47:05.433799",
     "status": "completed"
    },
    "tags": []
   },
   "outputs": [],
   "source": [
    "Y_predict=model_lr.predict(X_train)"
   ]
  },
  {
   "cell_type": "code",
   "execution_count": 49,
   "id": "fe4bf7a1",
   "metadata": {
    "execution": {
     "iopub.execute_input": "2024-02-22T13:47:05.576874Z",
     "iopub.status.busy": "2024-02-22T13:47:05.575021Z",
     "iopub.status.idle": "2024-02-22T13:47:05.581924Z",
     "shell.execute_reply": "2024-02-22T13:47:05.580910Z"
    },
    "papermill": {
     "duration": 0.054776,
     "end_time": "2024-02-22T13:47:05.584769",
     "exception": false,
     "start_time": "2024-02-22T13:47:05.529993",
     "status": "completed"
    },
    "tags": []
   },
   "outputs": [],
   "source": [
    "from sklearn.metrics import accuracy_score"
   ]
  },
  {
   "cell_type": "code",
   "execution_count": 50,
   "id": "7f0eea8a",
   "metadata": {
    "execution": {
     "iopub.execute_input": "2024-02-22T13:47:05.670128Z",
     "iopub.status.busy": "2024-02-22T13:47:05.668590Z",
     "iopub.status.idle": "2024-02-22T13:47:05.679121Z",
     "shell.execute_reply": "2024-02-22T13:47:05.677810Z"
    },
    "papermill": {
     "duration": 0.055305,
     "end_time": "2024-02-22T13:47:05.681617",
     "exception": false,
     "start_time": "2024-02-22T13:47:05.626312",
     "status": "completed"
    },
    "tags": []
   },
   "outputs": [
    {
     "data": {
      "text/plain": [
       "0.8157524613220816"
      ]
     },
     "execution_count": 50,
     "metadata": {},
     "output_type": "execute_result"
    }
   ],
   "source": [
    "accuracy_score(y_train,Y_predict)"
   ]
  },
  {
   "cell_type": "code",
   "execution_count": 51,
   "id": "c455b7ed",
   "metadata": {
    "execution": {
     "iopub.execute_input": "2024-02-22T13:47:05.763726Z",
     "iopub.status.busy": "2024-02-22T13:47:05.763163Z",
     "iopub.status.idle": "2024-02-22T13:47:05.773017Z",
     "shell.execute_reply": "2024-02-22T13:47:05.771625Z"
    },
    "papermill": {
     "duration": 0.052988,
     "end_time": "2024-02-22T13:47:05.775942",
     "exception": false,
     "start_time": "2024-02-22T13:47:05.722954",
     "status": "completed"
    },
    "tags": []
   },
   "outputs": [],
   "source": [
    "Y_test_predict=model_lr.predict(X_test)"
   ]
  },
  {
   "cell_type": "code",
   "execution_count": 52,
   "id": "c4ca0e98",
   "metadata": {
    "execution": {
     "iopub.execute_input": "2024-02-22T13:47:05.853871Z",
     "iopub.status.busy": "2024-02-22T13:47:05.853382Z",
     "iopub.status.idle": "2024-02-22T13:47:05.863738Z",
     "shell.execute_reply": "2024-02-22T13:47:05.862691Z"
    },
    "papermill": {
     "duration": 0.052201,
     "end_time": "2024-02-22T13:47:05.866005",
     "exception": false,
     "start_time": "2024-02-22T13:47:05.813804",
     "status": "completed"
    },
    "tags": []
   },
   "outputs": [
    {
     "data": {
      "text/plain": [
       "0.7696629213483146"
      ]
     },
     "execution_count": 52,
     "metadata": {},
     "output_type": "execute_result"
    }
   ],
   "source": [
    "accuracy_score(y_test,Y_test_predict)"
   ]
  },
  {
   "cell_type": "markdown",
   "id": "9bb28187",
   "metadata": {
    "papermill": {
     "duration": 0.037302,
     "end_time": "2024-02-22T13:47:05.941557",
     "exception": false,
     "start_time": "2024-02-22T13:47:05.904255",
     "status": "completed"
    },
    "tags": []
   },
   "source": [
    "So there seems to be slight underfitting of the model. It may be beacuse of less data"
   ]
  },
  {
   "cell_type": "markdown",
   "id": "5d62af9e",
   "metadata": {
    "papermill": {
     "duration": 0.039717,
     "end_time": "2024-02-22T13:47:06.019212",
     "exception": false,
     "start_time": "2024-02-22T13:47:05.979495",
     "status": "completed"
    },
    "tags": []
   },
   "source": [
    "Trying an SVM model"
   ]
  },
  {
   "cell_type": "code",
   "execution_count": 53,
   "id": "544ac8ef",
   "metadata": {
    "execution": {
     "iopub.execute_input": "2024-02-22T13:47:06.097647Z",
     "iopub.status.busy": "2024-02-22T13:47:06.096767Z",
     "iopub.status.idle": "2024-02-22T13:47:06.102190Z",
     "shell.execute_reply": "2024-02-22T13:47:06.100632Z"
    },
    "papermill": {
     "duration": 0.047642,
     "end_time": "2024-02-22T13:47:06.104720",
     "exception": false,
     "start_time": "2024-02-22T13:47:06.057078",
     "status": "completed"
    },
    "tags": []
   },
   "outputs": [],
   "source": [
    "linear_SVM=LinearSVC()"
   ]
  },
  {
   "cell_type": "code",
   "execution_count": 54,
   "id": "599b7fbe",
   "metadata": {
    "execution": {
     "iopub.execute_input": "2024-02-22T13:47:06.184557Z",
     "iopub.status.busy": "2024-02-22T13:47:06.183648Z",
     "iopub.status.idle": "2024-02-22T13:47:06.274465Z",
     "shell.execute_reply": "2024-02-22T13:47:06.273193Z"
    },
    "papermill": {
     "duration": 0.13422,
     "end_time": "2024-02-22T13:47:06.277578",
     "exception": false,
     "start_time": "2024-02-22T13:47:06.143358",
     "status": "completed"
    },
    "tags": []
   },
   "outputs": [
    {
     "name": "stderr",
     "output_type": "stream",
     "text": [
      "/opt/conda/lib/python3.10/site-packages/sklearn/svm/_base.py:1244: ConvergenceWarning: Liblinear failed to converge, increase the number of iterations.\n",
      "  warnings.warn(\n"
     ]
    },
    {
     "data": {
      "text/html": [
       "<style>#sk-container-id-2 {color: black;background-color: white;}#sk-container-id-2 pre{padding: 0;}#sk-container-id-2 div.sk-toggleable {background-color: white;}#sk-container-id-2 label.sk-toggleable__label {cursor: pointer;display: block;width: 100%;margin-bottom: 0;padding: 0.3em;box-sizing: border-box;text-align: center;}#sk-container-id-2 label.sk-toggleable__label-arrow:before {content: \"▸\";float: left;margin-right: 0.25em;color: #696969;}#sk-container-id-2 label.sk-toggleable__label-arrow:hover:before {color: black;}#sk-container-id-2 div.sk-estimator:hover label.sk-toggleable__label-arrow:before {color: black;}#sk-container-id-2 div.sk-toggleable__content {max-height: 0;max-width: 0;overflow: hidden;text-align: left;background-color: #f0f8ff;}#sk-container-id-2 div.sk-toggleable__content pre {margin: 0.2em;color: black;border-radius: 0.25em;background-color: #f0f8ff;}#sk-container-id-2 input.sk-toggleable__control:checked~div.sk-toggleable__content {max-height: 200px;max-width: 100%;overflow: auto;}#sk-container-id-2 input.sk-toggleable__control:checked~label.sk-toggleable__label-arrow:before {content: \"▾\";}#sk-container-id-2 div.sk-estimator input.sk-toggleable__control:checked~label.sk-toggleable__label {background-color: #d4ebff;}#sk-container-id-2 div.sk-label input.sk-toggleable__control:checked~label.sk-toggleable__label {background-color: #d4ebff;}#sk-container-id-2 input.sk-hidden--visually {border: 0;clip: rect(1px 1px 1px 1px);clip: rect(1px, 1px, 1px, 1px);height: 1px;margin: -1px;overflow: hidden;padding: 0;position: absolute;width: 1px;}#sk-container-id-2 div.sk-estimator {font-family: monospace;background-color: #f0f8ff;border: 1px dotted black;border-radius: 0.25em;box-sizing: border-box;margin-bottom: 0.5em;}#sk-container-id-2 div.sk-estimator:hover {background-color: #d4ebff;}#sk-container-id-2 div.sk-parallel-item::after {content: \"\";width: 100%;border-bottom: 1px solid gray;flex-grow: 1;}#sk-container-id-2 div.sk-label:hover label.sk-toggleable__label {background-color: #d4ebff;}#sk-container-id-2 div.sk-serial::before {content: \"\";position: absolute;border-left: 1px solid gray;box-sizing: border-box;top: 0;bottom: 0;left: 50%;z-index: 0;}#sk-container-id-2 div.sk-serial {display: flex;flex-direction: column;align-items: center;background-color: white;padding-right: 0.2em;padding-left: 0.2em;position: relative;}#sk-container-id-2 div.sk-item {position: relative;z-index: 1;}#sk-container-id-2 div.sk-parallel {display: flex;align-items: stretch;justify-content: center;background-color: white;position: relative;}#sk-container-id-2 div.sk-item::before, #sk-container-id-2 div.sk-parallel-item::before {content: \"\";position: absolute;border-left: 1px solid gray;box-sizing: border-box;top: 0;bottom: 0;left: 50%;z-index: -1;}#sk-container-id-2 div.sk-parallel-item {display: flex;flex-direction: column;z-index: 1;position: relative;background-color: white;}#sk-container-id-2 div.sk-parallel-item:first-child::after {align-self: flex-end;width: 50%;}#sk-container-id-2 div.sk-parallel-item:last-child::after {align-self: flex-start;width: 50%;}#sk-container-id-2 div.sk-parallel-item:only-child::after {width: 0;}#sk-container-id-2 div.sk-dashed-wrapped {border: 1px dashed gray;margin: 0 0.4em 0.5em 0.4em;box-sizing: border-box;padding-bottom: 0.4em;background-color: white;}#sk-container-id-2 div.sk-label label {font-family: monospace;font-weight: bold;display: inline-block;line-height: 1.2em;}#sk-container-id-2 div.sk-label-container {text-align: center;}#sk-container-id-2 div.sk-container {/* jupyter's `normalize.less` sets `[hidden] { display: none; }` but bootstrap.min.css set `[hidden] { display: none !important; }` so we also need the `!important` here to be able to override the default hidden behavior on the sphinx rendered scikit-learn.org. See: https://github.com/scikit-learn/scikit-learn/issues/21755 */display: inline-block !important;position: relative;}#sk-container-id-2 div.sk-text-repr-fallback {display: none;}</style><div id=\"sk-container-id-2\" class=\"sk-top-container\"><div class=\"sk-text-repr-fallback\"><pre>LinearSVC()</pre><b>In a Jupyter environment, please rerun this cell to show the HTML representation or trust the notebook. <br />On GitHub, the HTML representation is unable to render, please try loading this page with nbviewer.org.</b></div><div class=\"sk-container\" hidden><div class=\"sk-item\"><div class=\"sk-estimator sk-toggleable\"><input class=\"sk-toggleable__control sk-hidden--visually\" id=\"sk-estimator-id-2\" type=\"checkbox\" checked><label for=\"sk-estimator-id-2\" class=\"sk-toggleable__label sk-toggleable__label-arrow\">LinearSVC</label><div class=\"sk-toggleable__content\"><pre>LinearSVC()</pre></div></div></div></div></div>"
      ],
      "text/plain": [
       "LinearSVC()"
      ]
     },
     "execution_count": 54,
     "metadata": {},
     "output_type": "execute_result"
    }
   ],
   "source": [
    "linear_SVM.fit(X_train,y_train)"
   ]
  },
  {
   "cell_type": "code",
   "execution_count": 55,
   "id": "b19c1c7c",
   "metadata": {
    "execution": {
     "iopub.execute_input": "2024-02-22T13:47:06.362969Z",
     "iopub.status.busy": "2024-02-22T13:47:06.362357Z",
     "iopub.status.idle": "2024-02-22T13:47:06.369315Z",
     "shell.execute_reply": "2024-02-22T13:47:06.368376Z"
    },
    "papermill": {
     "duration": 0.053402,
     "end_time": "2024-02-22T13:47:06.372626",
     "exception": false,
     "start_time": "2024-02-22T13:47:06.319224",
     "status": "completed"
    },
    "tags": []
   },
   "outputs": [],
   "source": [
    "y_predict_svm=linear_SVM.predict(X_train)"
   ]
  },
  {
   "cell_type": "code",
   "execution_count": 56,
   "id": "cf0a4b64",
   "metadata": {
    "execution": {
     "iopub.execute_input": "2024-02-22T13:47:06.456145Z",
     "iopub.status.busy": "2024-02-22T13:47:06.455625Z",
     "iopub.status.idle": "2024-02-22T13:47:06.465612Z",
     "shell.execute_reply": "2024-02-22T13:47:06.464698Z"
    },
    "papermill": {
     "duration": 0.053936,
     "end_time": "2024-02-22T13:47:06.468283",
     "exception": false,
     "start_time": "2024-02-22T13:47:06.414347",
     "status": "completed"
    },
    "tags": []
   },
   "outputs": [
    {
     "data": {
      "text/plain": [
       "0.8087201125175809"
      ]
     },
     "execution_count": 56,
     "metadata": {},
     "output_type": "execute_result"
    }
   ],
   "source": [
    "accuracy_score(y_predict_svm,y_train)"
   ]
  },
  {
   "cell_type": "code",
   "execution_count": 57,
   "id": "9b846c74",
   "metadata": {
    "execution": {
     "iopub.execute_input": "2024-02-22T13:47:06.557872Z",
     "iopub.status.busy": "2024-02-22T13:47:06.557249Z",
     "iopub.status.idle": "2024-02-22T13:47:06.564231Z",
     "shell.execute_reply": "2024-02-22T13:47:06.562962Z"
    },
    "papermill": {
     "duration": 0.055551,
     "end_time": "2024-02-22T13:47:06.567268",
     "exception": false,
     "start_time": "2024-02-22T13:47:06.511717",
     "status": "completed"
    },
    "tags": []
   },
   "outputs": [],
   "source": [
    "y_predict_svm_test=linear_SVM.predict(X_test)"
   ]
  },
  {
   "cell_type": "code",
   "execution_count": 58,
   "id": "2af75a3e",
   "metadata": {
    "execution": {
     "iopub.execute_input": "2024-02-22T13:47:06.651973Z",
     "iopub.status.busy": "2024-02-22T13:47:06.651537Z",
     "iopub.status.idle": "2024-02-22T13:47:06.662845Z",
     "shell.execute_reply": "2024-02-22T13:47:06.661462Z"
    },
    "papermill": {
     "duration": 0.057513,
     "end_time": "2024-02-22T13:47:06.666168",
     "exception": false,
     "start_time": "2024-02-22T13:47:06.608655",
     "status": "completed"
    },
    "tags": []
   },
   "outputs": [
    {
     "data": {
      "text/plain": [
       "0.7752808988764045"
      ]
     },
     "execution_count": 58,
     "metadata": {},
     "output_type": "execute_result"
    }
   ],
   "source": [
    "accuracy_score(y_predict_svm_test,y_test)"
   ]
  },
  {
   "cell_type": "markdown",
   "id": "a32be1bf",
   "metadata": {
    "papermill": {
     "duration": 0.044771,
     "end_time": "2024-02-22T13:47:06.754975",
     "exception": false,
     "start_time": "2024-02-22T13:47:06.710204",
     "status": "completed"
    },
    "tags": []
   },
   "source": [
    "Using kernal trick with SVM to see if it can perform better\n"
   ]
  },
  {
   "cell_type": "code",
   "execution_count": 59,
   "id": "7a3f729d",
   "metadata": {
    "execution": {
     "iopub.execute_input": "2024-02-22T13:47:06.845158Z",
     "iopub.status.busy": "2024-02-22T13:47:06.844298Z",
     "iopub.status.idle": "2024-02-22T13:47:06.897827Z",
     "shell.execute_reply": "2024-02-22T13:47:06.895880Z"
    },
    "papermill": {
     "duration": 0.100795,
     "end_time": "2024-02-22T13:47:06.900747",
     "exception": false,
     "start_time": "2024-02-22T13:47:06.799952",
     "status": "completed"
    },
    "tags": []
   },
   "outputs": [],
   "source": [
    "from sklearn import svm\n",
    "\n",
    "clf = svm.SVC(kernel='rbf')  # 'rbf' stands for Radial Basis Function, a common choice for the kernel\n",
    "clf.fit(X_train, y_train)\n",
    "\n",
    "y_pred = clf.predict(X_test)\n",
    "y_pred_train=clf.predict(X_train)\n"
   ]
  },
  {
   "cell_type": "code",
   "execution_count": 60,
   "id": "7c6f1edb",
   "metadata": {
    "execution": {
     "iopub.execute_input": "2024-02-22T13:47:06.983423Z",
     "iopub.status.busy": "2024-02-22T13:47:06.982986Z",
     "iopub.status.idle": "2024-02-22T13:47:06.992082Z",
     "shell.execute_reply": "2024-02-22T13:47:06.990980Z"
    },
    "papermill": {
     "duration": 0.053198,
     "end_time": "2024-02-22T13:47:06.994426",
     "exception": false,
     "start_time": "2024-02-22T13:47:06.941228",
     "status": "completed"
    },
    "tags": []
   },
   "outputs": [
    {
     "data": {
      "text/plain": [
       "0.7696629213483146"
      ]
     },
     "execution_count": 60,
     "metadata": {},
     "output_type": "execute_result"
    }
   ],
   "source": [
    "accuracy_score(y_pred,y_test)"
   ]
  },
  {
   "cell_type": "code",
   "execution_count": 61,
   "id": "c907785b",
   "metadata": {
    "execution": {
     "iopub.execute_input": "2024-02-22T13:47:07.081649Z",
     "iopub.status.busy": "2024-02-22T13:47:07.080702Z",
     "iopub.status.idle": "2024-02-22T13:47:07.092723Z",
     "shell.execute_reply": "2024-02-22T13:47:07.089493Z"
    },
    "papermill": {
     "duration": 0.059775,
     "end_time": "2024-02-22T13:47:07.095802",
     "exception": false,
     "start_time": "2024-02-22T13:47:07.036027",
     "status": "completed"
    },
    "tags": []
   },
   "outputs": [
    {
     "data": {
      "text/plain": [
       "0.8270042194092827"
      ]
     },
     "execution_count": 61,
     "metadata": {},
     "output_type": "execute_result"
    }
   ],
   "source": [
    "accuracy_score(y_pred_train,y_train)"
   ]
  },
  {
   "cell_type": "code",
   "execution_count": 62,
   "id": "77df8a1e",
   "metadata": {
    "execution": {
     "iopub.execute_input": "2024-02-22T13:47:07.182123Z",
     "iopub.status.busy": "2024-02-22T13:47:07.181609Z",
     "iopub.status.idle": "2024-02-22T13:47:07.222861Z",
     "shell.execute_reply": "2024-02-22T13:47:07.221501Z"
    },
    "papermill": {
     "duration": 0.087988,
     "end_time": "2024-02-22T13:47:07.226066",
     "exception": false,
     "start_time": "2024-02-22T13:47:07.138078",
     "status": "completed"
    },
    "tags": []
   },
   "outputs": [],
   "source": [
    "#using plynomial kernal for svm \n",
    "svm_poly=svm.SVC(kernel=\"poly\")\n",
    "svm_poly.fit(X_train,y_train)\n",
    "Y_pred_svm_train=svm_poly.predict(X_train)\n",
    "Y_pred_svm_test=svm_poly.predict(X_test)"
   ]
  },
  {
   "cell_type": "code",
   "execution_count": 63,
   "id": "ad31a926",
   "metadata": {
    "execution": {
     "iopub.execute_input": "2024-02-22T13:47:07.310390Z",
     "iopub.status.busy": "2024-02-22T13:47:07.309946Z",
     "iopub.status.idle": "2024-02-22T13:47:07.319371Z",
     "shell.execute_reply": "2024-02-22T13:47:07.317872Z"
    },
    "papermill": {
     "duration": 0.053973,
     "end_time": "2024-02-22T13:47:07.322513",
     "exception": false,
     "start_time": "2024-02-22T13:47:07.268540",
     "status": "completed"
    },
    "tags": []
   },
   "outputs": [
    {
     "name": "stdout",
     "output_type": "stream",
     "text": [
      "The training accuracy is 0.8410689170182841\n",
      "The test accuracy is 0.797752808988764\n"
     ]
    }
   ],
   "source": [
    "print(f\"The training accuracy is {accuracy_score(Y_pred_svm_train,y_train)}\")\n",
    "print(f\"The test accuracy is {accuracy_score(Y_pred_svm_test,y_test)}\")"
   ]
  },
  {
   "cell_type": "code",
   "execution_count": 64,
   "id": "301b07f8",
   "metadata": {
    "execution": {
     "iopub.execute_input": "2024-02-22T13:47:07.412552Z",
     "iopub.status.busy": "2024-02-22T13:47:07.412164Z",
     "iopub.status.idle": "2024-02-22T13:47:07.459849Z",
     "shell.execute_reply": "2024-02-22T13:47:07.458580Z"
    },
    "papermill": {
     "duration": 0.095588,
     "end_time": "2024-02-22T13:47:07.463201",
     "exception": false,
     "start_time": "2024-02-22T13:47:07.367613",
     "status": "completed"
    },
    "tags": []
   },
   "outputs": [],
   "source": [
    "#using sigmoid kernal for svm \n",
    "svm_sigmoid=svm.SVC(kernel=\"sigmoid\")\n",
    "svm_sigmoid.fit(X_train,y_train)\n",
    "Y_pred_sigmoid_train=svm_sigmoid.predict(X_train)\n",
    "Y_pred_sigmoid_test=svm_sigmoid.predict(X_test)"
   ]
  },
  {
   "cell_type": "code",
   "execution_count": 65,
   "id": "e60acd7a",
   "metadata": {
    "execution": {
     "iopub.execute_input": "2024-02-22T13:47:07.551101Z",
     "iopub.status.busy": "2024-02-22T13:47:07.550563Z",
     "iopub.status.idle": "2024-02-22T13:47:07.562310Z",
     "shell.execute_reply": "2024-02-22T13:47:07.559936Z"
    },
    "papermill": {
     "duration": 0.057936,
     "end_time": "2024-02-22T13:47:07.565215",
     "exception": false,
     "start_time": "2024-02-22T13:47:07.507279",
     "status": "completed"
    },
    "tags": []
   },
   "outputs": [
    {
     "name": "stdout",
     "output_type": "stream",
     "text": [
      "The training accuracy is 0.770745428973277\n",
      "The test accuracy is 0.7528089887640449\n"
     ]
    }
   ],
   "source": [
    "print(f\"The training accuracy is {accuracy_score(Y_pred_sigmoid_train,y_train)}\")\n",
    "print(f\"The test accuracy is {accuracy_score(Y_pred_sigmoid_test,y_test)}\")"
   ]
  },
  {
   "cell_type": "code",
   "execution_count": 66,
   "id": "660eb376",
   "metadata": {
    "execution": {
     "iopub.execute_input": "2024-02-22T13:47:07.654217Z",
     "iopub.status.busy": "2024-02-22T13:47:07.653653Z",
     "iopub.status.idle": "2024-02-22T13:47:07.660922Z",
     "shell.execute_reply": "2024-02-22T13:47:07.659514Z"
    },
    "papermill": {
     "duration": 0.054207,
     "end_time": "2024-02-22T13:47:07.664145",
     "exception": false,
     "start_time": "2024-02-22T13:47:07.609938",
     "status": "completed"
    },
    "tags": []
   },
   "outputs": [],
   "source": [
    "def accuracy_print(X,Y):\n",
    "    print(f\"The training accuracy score is : {X}\")\n",
    "    print(f\"The test accuracy score is:{Y}\")"
   ]
  },
  {
   "cell_type": "markdown",
   "id": "d16125ed",
   "metadata": {
    "papermill": {
     "duration": 0.043853,
     "end_time": "2024-02-22T13:47:07.754155",
     "exception": false,
     "start_time": "2024-02-22T13:47:07.710302",
     "status": "completed"
    },
    "tags": []
   },
   "source": [
    "From the above resuts we can conclude that linear svm and rbf kernal perform better"
   ]
  },
  {
   "cell_type": "code",
   "execution_count": 67,
   "id": "6f1ad2c8",
   "metadata": {
    "execution": {
     "iopub.execute_input": "2024-02-22T13:47:07.844513Z",
     "iopub.status.busy": "2024-02-22T13:47:07.844072Z",
     "iopub.status.idle": "2024-02-22T13:47:07.850367Z",
     "shell.execute_reply": "2024-02-22T13:47:07.849006Z"
    },
    "papermill": {
     "duration": 0.054442,
     "end_time": "2024-02-22T13:47:07.853452",
     "exception": false,
     "start_time": "2024-02-22T13:47:07.799010",
     "status": "completed"
    },
    "tags": []
   },
   "outputs": [],
   "source": [
    "from sklearn.tree import plot_tree\n",
    "import matplotlib.pyplot as plt"
   ]
  },
  {
   "cell_type": "code",
   "execution_count": 68,
   "id": "f432fbcc",
   "metadata": {
    "execution": {
     "iopub.execute_input": "2024-02-22T13:47:07.940313Z",
     "iopub.status.busy": "2024-02-22T13:47:07.939832Z",
     "iopub.status.idle": "2024-02-22T13:47:07.958320Z",
     "shell.execute_reply": "2024-02-22T13:47:07.956684Z"
    },
    "papermill": {
     "duration": 0.065984,
     "end_time": "2024-02-22T13:47:07.961566",
     "exception": false,
     "start_time": "2024-02-22T13:47:07.895582",
     "status": "completed"
    },
    "tags": []
   },
   "outputs": [],
   "source": [
    "#Using Decision Tree\n",
    "DTC=DecisionTreeClassifier(random_state=42)\n",
    "DTC.fit(X_train,y_train)\n",
    "y_dtc_predict_train=DTC.predict(X_train)\n",
    "y_dtc_predict_test=DTC.predict(X_test)"
   ]
  },
  {
   "cell_type": "code",
   "execution_count": 69,
   "id": "7925b155",
   "metadata": {
    "execution": {
     "iopub.execute_input": "2024-02-22T13:47:08.047671Z",
     "iopub.status.busy": "2024-02-22T13:47:08.047120Z",
     "iopub.status.idle": "2024-02-22T13:47:08.055423Z",
     "shell.execute_reply": "2024-02-22T13:47:08.054122Z"
    },
    "papermill": {
     "duration": 0.052488,
     "end_time": "2024-02-22T13:47:08.057827",
     "exception": false,
     "start_time": "2024-02-22T13:47:08.005339",
     "status": "completed"
    },
    "tags": []
   },
   "outputs": [],
   "source": [
    "accuracy_score_train=accuracy_score(y_train,y_dtc_predict_train)\n"
   ]
  },
  {
   "cell_type": "code",
   "execution_count": 70,
   "id": "27bb16c6",
   "metadata": {
    "execution": {
     "iopub.execute_input": "2024-02-22T13:47:08.144639Z",
     "iopub.status.busy": "2024-02-22T13:47:08.144265Z",
     "iopub.status.idle": "2024-02-22T13:47:08.151147Z",
     "shell.execute_reply": "2024-02-22T13:47:08.149994Z"
    },
    "papermill": {
     "duration": 0.051136,
     "end_time": "2024-02-22T13:47:08.153803",
     "exception": false,
     "start_time": "2024-02-22T13:47:08.102667",
     "status": "completed"
    },
    "tags": []
   },
   "outputs": [],
   "source": [
    "accuracy_score_test=accuracy_score(y_test,y_dtc_predict_test)\n"
   ]
  },
  {
   "cell_type": "code",
   "execution_count": 71,
   "id": "920c4a46",
   "metadata": {
    "execution": {
     "iopub.execute_input": "2024-02-22T13:47:08.241209Z",
     "iopub.status.busy": "2024-02-22T13:47:08.239148Z",
     "iopub.status.idle": "2024-02-22T13:47:08.246886Z",
     "shell.execute_reply": "2024-02-22T13:47:08.245601Z"
    },
    "papermill": {
     "duration": 0.053907,
     "end_time": "2024-02-22T13:47:08.250156",
     "exception": false,
     "start_time": "2024-02-22T13:47:08.196249",
     "status": "completed"
    },
    "tags": []
   },
   "outputs": [
    {
     "name": "stdout",
     "output_type": "stream",
     "text": [
      "The training accuracy score is : 1.0\n",
      "The test accuracy score is:0.7584269662921348\n"
     ]
    }
   ],
   "source": [
    "accuracy_print(accuracy_score_train,accuracy_score_test)"
   ]
  },
  {
   "cell_type": "markdown",
   "id": "503330ae",
   "metadata": {
    "papermill": {
     "duration": 0.038915,
     "end_time": "2024-02-22T13:47:08.328695",
     "exception": false,
     "start_time": "2024-02-22T13:47:08.289780",
     "status": "completed"
    },
    "tags": []
   },
   "source": [
    "we can see there is clearly overfitting of the model\n"
   ]
  },
  {
   "cell_type": "markdown",
   "id": "14bc8b0e",
   "metadata": {
    "papermill": {
     "duration": 0.040465,
     "end_time": "2024-02-22T13:47:08.408961",
     "exception": false,
     "start_time": "2024-02-22T13:47:08.368496",
     "status": "completed"
    },
    "tags": []
   },
   "source": [
    "Hyper parameters to solve the overfitting"
   ]
  },
  {
   "cell_type": "code",
   "execution_count": 72,
   "id": "7b750cc6",
   "metadata": {
    "execution": {
     "iopub.execute_input": "2024-02-22T13:47:08.492811Z",
     "iopub.status.busy": "2024-02-22T13:47:08.492287Z",
     "iopub.status.idle": "2024-02-22T13:47:08.507998Z",
     "shell.execute_reply": "2024-02-22T13:47:08.506854Z"
    },
    "papermill": {
     "duration": 0.061831,
     "end_time": "2024-02-22T13:47:08.512175",
     "exception": false,
     "start_time": "2024-02-22T13:47:08.450344",
     "status": "completed"
    },
    "tags": []
   },
   "outputs": [],
   "source": [
    "#Using max_depth\n",
    "DTC_md = DecisionTreeClassifier(max_depth=6, random_state=42)\n",
    "DTC_md.fit(X_train,y_train)\n",
    "y_dtc_md_train=DTC_md.predict(X_train)\n",
    "y_dtc_md_test=DTC_md.predict(X_test)\n"
   ]
  },
  {
   "cell_type": "code",
   "execution_count": 73,
   "id": "6de5d53a",
   "metadata": {
    "execution": {
     "iopub.execute_input": "2024-02-22T13:47:08.619748Z",
     "iopub.status.busy": "2024-02-22T13:47:08.618874Z",
     "iopub.status.idle": "2024-02-22T13:47:08.628655Z",
     "shell.execute_reply": "2024-02-22T13:47:08.627516Z"
    },
    "papermill": {
     "duration": 0.064938,
     "end_time": "2024-02-22T13:47:08.631440",
     "exception": false,
     "start_time": "2024-02-22T13:47:08.566502",
     "status": "completed"
    },
    "tags": []
   },
   "outputs": [
    {
     "data": {
      "text/plain": [
       "0.8874824191279888"
      ]
     },
     "execution_count": 73,
     "metadata": {},
     "output_type": "execute_result"
    }
   ],
   "source": [
    "accuracy_score(y_train,y_dtc_md_train)"
   ]
  },
  {
   "cell_type": "code",
   "execution_count": 74,
   "id": "c9e62d6a",
   "metadata": {
    "execution": {
     "iopub.execute_input": "2024-02-22T13:47:08.724679Z",
     "iopub.status.busy": "2024-02-22T13:47:08.723731Z",
     "iopub.status.idle": "2024-02-22T13:47:08.733584Z",
     "shell.execute_reply": "2024-02-22T13:47:08.732087Z"
    },
    "papermill": {
     "duration": 0.058833,
     "end_time": "2024-02-22T13:47:08.736619",
     "exception": false,
     "start_time": "2024-02-22T13:47:08.677786",
     "status": "completed"
    },
    "tags": []
   },
   "outputs": [
    {
     "data": {
      "text/plain": [
       "0.7696629213483146"
      ]
     },
     "execution_count": 74,
     "metadata": {},
     "output_type": "execute_result"
    }
   ],
   "source": [
    "accuracy_score(y_test,y_dtc_md_test)"
   ]
  },
  {
   "cell_type": "code",
   "execution_count": 75,
   "id": "0e79d780",
   "metadata": {
    "execution": {
     "iopub.execute_input": "2024-02-22T13:47:08.836367Z",
     "iopub.status.busy": "2024-02-22T13:47:08.835823Z",
     "iopub.status.idle": "2024-02-22T13:47:08.853624Z",
     "shell.execute_reply": "2024-02-22T13:47:08.852652Z"
    },
    "papermill": {
     "duration": 0.067243,
     "end_time": "2024-02-22T13:47:08.857470",
     "exception": false,
     "start_time": "2024-02-22T13:47:08.790227",
     "status": "completed"
    },
    "tags": []
   },
   "outputs": [],
   "source": [
    "#Using min_sample_split #pruning\n",
    "DTC_pr = DecisionTreeClassifier(criterion=\"entropy\",min_samples_split=35, random_state=42)\n",
    "DTC_pr.fit(X_train,y_train)\n",
    "y_dtc_pr_train=DTC_pr.predict(X_train)\n",
    "y_dtc_pr_test=DTC_pr.predict(X_test)"
   ]
  },
  {
   "cell_type": "code",
   "execution_count": 76,
   "id": "3c75beea",
   "metadata": {
    "execution": {
     "iopub.execute_input": "2024-02-22T13:47:08.954082Z",
     "iopub.status.busy": "2024-02-22T13:47:08.953139Z",
     "iopub.status.idle": "2024-02-22T13:47:08.965601Z",
     "shell.execute_reply": "2024-02-22T13:47:08.964469Z"
    },
    "papermill": {
     "duration": 0.060681,
     "end_time": "2024-02-22T13:47:08.968595",
     "exception": false,
     "start_time": "2024-02-22T13:47:08.907914",
     "status": "completed"
    },
    "tags": []
   },
   "outputs": [
    {
     "data": {
      "text/plain": [
       "0.8466947960618847"
      ]
     },
     "execution_count": 76,
     "metadata": {},
     "output_type": "execute_result"
    }
   ],
   "source": [
    "accuracy_score(y_train,y_dtc_pr_train)"
   ]
  },
  {
   "cell_type": "code",
   "execution_count": 77,
   "id": "452fc9d8",
   "metadata": {
    "execution": {
     "iopub.execute_input": "2024-02-22T13:47:09.070938Z",
     "iopub.status.busy": "2024-02-22T13:47:09.069730Z",
     "iopub.status.idle": "2024-02-22T13:47:09.080520Z",
     "shell.execute_reply": "2024-02-22T13:47:09.079238Z"
    },
    "papermill": {
     "duration": 0.056126,
     "end_time": "2024-02-22T13:47:09.083215",
     "exception": false,
     "start_time": "2024-02-22T13:47:09.027089",
     "status": "completed"
    },
    "tags": []
   },
   "outputs": [
    {
     "data": {
      "text/plain": [
       "0.7808988764044944"
      ]
     },
     "execution_count": 77,
     "metadata": {},
     "output_type": "execute_result"
    }
   ],
   "source": [
    "accuracy_score(y_test,y_dtc_pr_test)"
   ]
  },
  {
   "cell_type": "code",
   "execution_count": 78,
   "id": "8a9d3168",
   "metadata": {
    "execution": {
     "iopub.execute_input": "2024-02-22T13:47:09.171321Z",
     "iopub.status.busy": "2024-02-22T13:47:09.169976Z",
     "iopub.status.idle": "2024-02-22T13:47:09.190681Z",
     "shell.execute_reply": "2024-02-22T13:47:09.189154Z"
    },
    "papermill": {
     "duration": 0.070573,
     "end_time": "2024-02-22T13:47:09.194865",
     "exception": false,
     "start_time": "2024-02-22T13:47:09.124292",
     "status": "completed"
    },
    "tags": []
   },
   "outputs": [],
   "source": [
    "#Using min_sample_split #pruning\n",
    "DTC_leaf = DecisionTreeClassifier(criterion=\"entropy\",min_samples_leaf=15, random_state=42)\n",
    "DTC_leaf.fit(X_train,y_train)\n",
    "y_dtc_lf_train=DTC_leaf.predict(X_train)\n",
    "y_dtc_lf_test=DTC_leaf.predict(X_test)"
   ]
  },
  {
   "cell_type": "code",
   "execution_count": 79,
   "id": "c0149e54",
   "metadata": {
    "execution": {
     "iopub.execute_input": "2024-02-22T13:47:09.285934Z",
     "iopub.status.busy": "2024-02-22T13:47:09.284835Z",
     "iopub.status.idle": "2024-02-22T13:47:09.295084Z",
     "shell.execute_reply": "2024-02-22T13:47:09.293895Z"
    },
    "papermill": {
     "duration": 0.057763,
     "end_time": "2024-02-22T13:47:09.297882",
     "exception": false,
     "start_time": "2024-02-22T13:47:09.240119",
     "status": "completed"
    },
    "tags": []
   },
   "outputs": [
    {
     "data": {
      "text/plain": [
       "0.8312236286919831"
      ]
     },
     "execution_count": 79,
     "metadata": {},
     "output_type": "execute_result"
    }
   ],
   "source": [
    "accuracy_score(y_train,y_dtc_lf_train)"
   ]
  },
  {
   "cell_type": "code",
   "execution_count": 80,
   "id": "efbd3acf",
   "metadata": {
    "execution": {
     "iopub.execute_input": "2024-02-22T13:47:09.383143Z",
     "iopub.status.busy": "2024-02-22T13:47:09.382186Z",
     "iopub.status.idle": "2024-02-22T13:47:09.391683Z",
     "shell.execute_reply": "2024-02-22T13:47:09.390108Z"
    },
    "papermill": {
     "duration": 0.058122,
     "end_time": "2024-02-22T13:47:09.396368",
     "exception": false,
     "start_time": "2024-02-22T13:47:09.338246",
     "status": "completed"
    },
    "tags": []
   },
   "outputs": [
    {
     "data": {
      "text/plain": [
       "0.7752808988764045"
      ]
     },
     "execution_count": 80,
     "metadata": {},
     "output_type": "execute_result"
    }
   ],
   "source": [
    "accuracy_score(y_test,y_dtc_lf_test)"
   ]
  },
  {
   "cell_type": "code",
   "execution_count": 81,
   "id": "8d1f2b3c",
   "metadata": {
    "execution": {
     "iopub.execute_input": "2024-02-22T13:47:09.488271Z",
     "iopub.status.busy": "2024-02-22T13:47:09.487483Z",
     "iopub.status.idle": "2024-02-22T13:47:25.929096Z",
     "shell.execute_reply": "2024-02-22T13:47:25.927664Z"
    },
    "papermill": {
     "duration": 16.488284,
     "end_time": "2024-02-22T13:47:25.932430",
     "exception": false,
     "start_time": "2024-02-22T13:47:09.444146",
     "status": "completed"
    },
    "tags": []
   },
   "outputs": [
    {
     "name": "stderr",
     "output_type": "stream",
     "text": [
      "2024-02-22 13:47:12.146346: E external/local_xla/xla/stream_executor/cuda/cuda_dnn.cc:9261] Unable to register cuDNN factory: Attempting to register factory for plugin cuDNN when one has already been registered\n",
      "2024-02-22 13:47:12.146488: E external/local_xla/xla/stream_executor/cuda/cuda_fft.cc:607] Unable to register cuFFT factory: Attempting to register factory for plugin cuFFT when one has already been registered\n",
      "2024-02-22 13:47:12.343937: E external/local_xla/xla/stream_executor/cuda/cuda_blas.cc:1515] Unable to register cuBLAS factory: Attempting to register factory for plugin cuBLAS when one has already been registered\n"
     ]
    }
   ],
   "source": [
    "import tensorflow as tf\n",
    "from tensorflow.keras import layers \n",
    "from keras.optimizers import SGD\n",
    "from keras.optimizers import Adagrad"
   ]
  },
  {
   "cell_type": "code",
   "execution_count": 82,
   "id": "496627e9",
   "metadata": {
    "execution": {
     "iopub.execute_input": "2024-02-22T13:47:26.020967Z",
     "iopub.status.busy": "2024-02-22T13:47:26.020067Z",
     "iopub.status.idle": "2024-02-22T13:47:26.058864Z",
     "shell.execute_reply": "2024-02-22T13:47:26.057931Z"
    },
    "papermill": {
     "duration": 0.08649,
     "end_time": "2024-02-22T13:47:26.061980",
     "exception": false,
     "start_time": "2024-02-22T13:47:25.975490",
     "status": "completed"
    },
    "tags": []
   },
   "outputs": [],
   "source": [
    "opt=Adagrad()"
   ]
  },
  {
   "cell_type": "code",
   "execution_count": 83,
   "id": "228a319a",
   "metadata": {
    "execution": {
     "iopub.execute_input": "2024-02-22T13:47:26.151370Z",
     "iopub.status.busy": "2024-02-22T13:47:26.150711Z",
     "iopub.status.idle": "2024-02-22T13:47:26.178230Z",
     "shell.execute_reply": "2024-02-22T13:47:26.176970Z"
    },
    "papermill": {
     "duration": 0.074919,
     "end_time": "2024-02-22T13:47:26.181552",
     "exception": false,
     "start_time": "2024-02-22T13:47:26.106633",
     "status": "completed"
    },
    "tags": []
   },
   "outputs": [],
   "source": [
    "ann = tf.keras.models.Sequential()"
   ]
  },
  {
   "cell_type": "code",
   "execution_count": 84,
   "id": "cf916789",
   "metadata": {
    "execution": {
     "iopub.execute_input": "2024-02-22T13:47:26.268830Z",
     "iopub.status.busy": "2024-02-22T13:47:26.268309Z",
     "iopub.status.idle": "2024-02-22T13:47:26.368365Z",
     "shell.execute_reply": "2024-02-22T13:47:26.366734Z"
    },
    "papermill": {
     "duration": 0.148073,
     "end_time": "2024-02-22T13:47:26.371371",
     "exception": false,
     "start_time": "2024-02-22T13:47:26.223298",
     "status": "completed"
    },
    "tags": []
   },
   "outputs": [],
   "source": [
    "ann.add(tf.keras.layers.Dense(units=64, activation='relu', input_dim=X_train.shape[1])) # Input layer\n",
    "\n",
    "ann.add(tf.keras.layers.Dense(units=32, activation='relu'))\n",
    "ann.add(tf.keras.layers.Dense(units=32, activation='relu'))\n",
    "ann.add(tf.keras.layers.Dense(units=1, activation='sigmoid'))\n"
   ]
  },
  {
   "cell_type": "code",
   "execution_count": 85,
   "id": "b9506d03",
   "metadata": {
    "execution": {
     "iopub.execute_input": "2024-02-22T13:47:26.455902Z",
     "iopub.status.busy": "2024-02-22T13:47:26.455434Z",
     "iopub.status.idle": "2024-02-22T13:47:26.477943Z",
     "shell.execute_reply": "2024-02-22T13:47:26.476581Z"
    },
    "papermill": {
     "duration": 0.06881,
     "end_time": "2024-02-22T13:47:26.480952",
     "exception": false,
     "start_time": "2024-02-22T13:47:26.412142",
     "status": "completed"
    },
    "tags": []
   },
   "outputs": [],
   "source": [
    "ann.compile(optimizer=opt, loss='binary_crossentropy', metrics=['accuracy'])\n"
   ]
  },
  {
   "cell_type": "code",
   "execution_count": 86,
   "id": "919f8b16",
   "metadata": {
    "execution": {
     "iopub.execute_input": "2024-02-22T13:47:26.565169Z",
     "iopub.status.busy": "2024-02-22T13:47:26.564248Z",
     "iopub.status.idle": "2024-02-22T13:47:32.853558Z",
     "shell.execute_reply": "2024-02-22T13:47:32.852398Z"
    },
    "papermill": {
     "duration": 6.33465,
     "end_time": "2024-02-22T13:47:32.856079",
     "exception": false,
     "start_time": "2024-02-22T13:47:26.521429",
     "status": "completed"
    },
    "tags": []
   },
   "outputs": [
    {
     "name": "stdout",
     "output_type": "stream",
     "text": [
      "Epoch 1/50\n",
      "23/23 [==============================] - 1s 16ms/step - loss: 0.6957 - accuracy: 0.3390 - val_loss: 0.6959 - val_accuracy: 0.2921\n",
      "Epoch 2/50\n",
      "23/23 [==============================] - 0s 4ms/step - loss: 0.6739 - accuracy: 0.3024 - val_loss: 0.6652 - val_accuracy: 0.2640\n",
      "Epoch 3/50\n",
      "23/23 [==============================] - 0s 4ms/step - loss: 0.6563 - accuracy: 0.3038 - val_loss: 0.6370 - val_accuracy: 0.2640\n",
      "Epoch 4/50\n",
      "23/23 [==============================] - 0s 5ms/step - loss: 0.6401 - accuracy: 0.3066 - val_loss: 0.6105 - val_accuracy: 0.2416\n",
      "Epoch 5/50\n",
      "23/23 [==============================] - 0s 4ms/step - loss: 0.6247 - accuracy: 0.3010 - val_loss: 0.5875 - val_accuracy: 0.2416\n",
      "Epoch 6/50\n",
      "23/23 [==============================] - 0s 4ms/step - loss: 0.6111 - accuracy: 0.3193 - val_loss: 0.5636 - val_accuracy: 0.2472\n",
      "Epoch 7/50\n",
      "23/23 [==============================] - 0s 4ms/step - loss: 0.5973 - accuracy: 0.3052 - val_loss: 0.5421 - val_accuracy: 0.2472\n",
      "Epoch 8/50\n",
      "23/23 [==============================] - 0s 4ms/step - loss: 0.5843 - accuracy: 0.3108 - val_loss: 0.5211 - val_accuracy: 0.2640\n",
      "Epoch 9/50\n",
      "23/23 [==============================] - 0s 4ms/step - loss: 0.5714 - accuracy: 0.3586 - val_loss: 0.5007 - val_accuracy: 0.3708\n",
      "Epoch 10/50\n",
      "23/23 [==============================] - 0s 5ms/step - loss: 0.5591 - accuracy: 0.4205 - val_loss: 0.4786 - val_accuracy: 0.3764\n",
      "Epoch 11/50\n",
      "23/23 [==============================] - 0s 4ms/step - loss: 0.5458 - accuracy: 0.4360 - val_loss: 0.4575 - val_accuracy: 0.3933\n",
      "Epoch 12/50\n",
      "23/23 [==============================] - 0s 4ms/step - loss: 0.5329 - accuracy: 0.4515 - val_loss: 0.4377 - val_accuracy: 0.3933\n",
      "Epoch 13/50\n",
      "23/23 [==============================] - 0s 4ms/step - loss: 0.5205 - accuracy: 0.4543 - val_loss: 0.4155 - val_accuracy: 0.3989\n",
      "Epoch 14/50\n",
      "23/23 [==============================] - 0s 4ms/step - loss: 0.5074 - accuracy: 0.4571 - val_loss: 0.3956 - val_accuracy: 0.4045\n",
      "Epoch 15/50\n",
      "23/23 [==============================] - 0s 5ms/step - loss: 0.4947 - accuracy: 0.4627 - val_loss: 0.3731 - val_accuracy: 0.4045\n",
      "Epoch 16/50\n",
      "23/23 [==============================] - 0s 4ms/step - loss: 0.4804 - accuracy: 0.4599 - val_loss: 0.3520 - val_accuracy: 0.4045\n",
      "Epoch 17/50\n",
      "23/23 [==============================] - 0s 4ms/step - loss: 0.4668 - accuracy: 0.4641 - val_loss: 0.3292 - val_accuracy: 0.4045\n",
      "Epoch 18/50\n",
      "23/23 [==============================] - 0s 4ms/step - loss: 0.4523 - accuracy: 0.4669 - val_loss: 0.3050 - val_accuracy: 0.4045\n",
      "Epoch 19/50\n",
      "23/23 [==============================] - 0s 4ms/step - loss: 0.4373 - accuracy: 0.4641 - val_loss: 0.2815 - val_accuracy: 0.4045\n",
      "Epoch 20/50\n",
      "23/23 [==============================] - 0s 4ms/step - loss: 0.4225 - accuracy: 0.4669 - val_loss: 0.2561 - val_accuracy: 0.4045\n",
      "Epoch 21/50\n",
      "23/23 [==============================] - 0s 4ms/step - loss: 0.4066 - accuracy: 0.4712 - val_loss: 0.2304 - val_accuracy: 0.4045\n",
      "Epoch 22/50\n",
      "23/23 [==============================] - 0s 5ms/step - loss: 0.3902 - accuracy: 0.4754 - val_loss: 0.2047 - val_accuracy: 0.4157\n",
      "Epoch 23/50\n",
      "23/23 [==============================] - 0s 4ms/step - loss: 0.3742 - accuracy: 0.4909 - val_loss: 0.1771 - val_accuracy: 0.4157\n",
      "Epoch 24/50\n",
      "23/23 [==============================] - 0s 5ms/step - loss: 0.3569 - accuracy: 0.4951 - val_loss: 0.1470 - val_accuracy: 0.4213\n",
      "Epoch 25/50\n",
      "23/23 [==============================] - 0s 4ms/step - loss: 0.3384 - accuracy: 0.4979 - val_loss: 0.1187 - val_accuracy: 0.4213\n",
      "Epoch 26/50\n",
      "23/23 [==============================] - 0s 5ms/step - loss: 0.3206 - accuracy: 0.5007 - val_loss: 0.0911 - val_accuracy: 0.4213\n",
      "Epoch 27/50\n",
      "23/23 [==============================] - 0s 4ms/step - loss: 0.3030 - accuracy: 0.5035 - val_loss: 0.0621 - val_accuracy: 0.4213\n",
      "Epoch 28/50\n",
      "23/23 [==============================] - 0s 4ms/step - loss: 0.2851 - accuracy: 0.5063 - val_loss: 0.0333 - val_accuracy: 0.4326\n",
      "Epoch 29/50\n",
      "23/23 [==============================] - 0s 4ms/step - loss: 0.2671 - accuracy: 0.5120 - val_loss: 0.0029 - val_accuracy: 0.4382\n",
      "Epoch 30/50\n",
      "23/23 [==============================] - 0s 4ms/step - loss: 0.2479 - accuracy: 0.5176 - val_loss: -0.0277 - val_accuracy: 0.4438\n",
      "Epoch 31/50\n",
      "23/23 [==============================] - 0s 4ms/step - loss: 0.2286 - accuracy: 0.5274 - val_loss: -0.0661 - val_accuracy: 0.4607\n",
      "Epoch 32/50\n",
      "23/23 [==============================] - 0s 4ms/step - loss: 0.2060 - accuracy: 0.5316 - val_loss: -0.0983 - val_accuracy: 0.4607\n",
      "Epoch 33/50\n",
      "23/23 [==============================] - 0s 4ms/step - loss: 0.1859 - accuracy: 0.5359 - val_loss: -0.1321 - val_accuracy: 0.4663\n",
      "Epoch 34/50\n",
      "23/23 [==============================] - 0s 4ms/step - loss: 0.1647 - accuracy: 0.5359 - val_loss: -0.1645 - val_accuracy: 0.4663\n",
      "Epoch 35/50\n",
      "23/23 [==============================] - 0s 4ms/step - loss: 0.1442 - accuracy: 0.5387 - val_loss: -0.1985 - val_accuracy: 0.4663\n",
      "Epoch 36/50\n",
      "23/23 [==============================] - 0s 4ms/step - loss: 0.1230 - accuracy: 0.5387 - val_loss: -0.2318 - val_accuracy: 0.4663\n",
      "Epoch 37/50\n",
      "23/23 [==============================] - 0s 4ms/step - loss: 0.1021 - accuracy: 0.5387 - val_loss: -0.2648 - val_accuracy: 0.4719\n",
      "Epoch 38/50\n",
      "23/23 [==============================] - 0s 5ms/step - loss: 0.0818 - accuracy: 0.5401 - val_loss: -0.3009 - val_accuracy: 0.4719\n",
      "Epoch 39/50\n",
      "23/23 [==============================] - 0s 5ms/step - loss: 0.0595 - accuracy: 0.5443 - val_loss: -0.3364 - val_accuracy: 0.4775\n",
      "Epoch 40/50\n",
      "23/23 [==============================] - 0s 4ms/step - loss: 0.0379 - accuracy: 0.5471 - val_loss: -0.3703 - val_accuracy: 0.4831\n",
      "Epoch 41/50\n",
      "23/23 [==============================] - 0s 5ms/step - loss: 0.0168 - accuracy: 0.5471 - val_loss: -0.4076 - val_accuracy: 0.4831\n",
      "Epoch 42/50\n",
      "23/23 [==============================] - 0s 4ms/step - loss: -0.0062 - accuracy: 0.5513 - val_loss: -0.4423 - val_accuracy: 0.4944\n",
      "Epoch 43/50\n",
      "23/23 [==============================] - 0s 4ms/step - loss: -0.0278 - accuracy: 0.5527 - val_loss: -0.4811 - val_accuracy: 0.4944\n",
      "Epoch 44/50\n",
      "23/23 [==============================] - 0s 4ms/step - loss: -0.0514 - accuracy: 0.5556 - val_loss: -0.5180 - val_accuracy: 0.4944\n",
      "Epoch 45/50\n",
      "23/23 [==============================] - 0s 4ms/step - loss: -0.0741 - accuracy: 0.5556 - val_loss: -0.5533 - val_accuracy: 0.4944\n",
      "Epoch 46/50\n",
      "23/23 [==============================] - 0s 4ms/step - loss: -0.0960 - accuracy: 0.5556 - val_loss: -0.5928 - val_accuracy: 0.4888\n",
      "Epoch 47/50\n",
      "23/23 [==============================] - 0s 4ms/step - loss: -0.1194 - accuracy: 0.5556 - val_loss: -0.6290 - val_accuracy: 0.4888\n",
      "Epoch 48/50\n",
      "23/23 [==============================] - 0s 5ms/step - loss: -0.1415 - accuracy: 0.5570 - val_loss: -0.6691 - val_accuracy: 0.4888\n",
      "Epoch 49/50\n",
      "23/23 [==============================] - 0s 4ms/step - loss: -0.1655 - accuracy: 0.5640 - val_loss: -0.7072 - val_accuracy: 0.5225\n",
      "Epoch 50/50\n",
      "23/23 [==============================] - 0s 4ms/step - loss: -0.1885 - accuracy: 0.5724 - val_loss: -0.7448 - val_accuracy: 0.5225\n"
     ]
    }
   ],
   "source": [
    "history = ann.fit(X_train, y_train, epochs=50, batch_size=32, validation_data=(X_test, y_test))\n",
    "\n"
   ]
  },
  {
   "cell_type": "code",
   "execution_count": 87,
   "id": "2580b31c",
   "metadata": {
    "execution": {
     "iopub.execute_input": "2024-02-22T13:47:32.974505Z",
     "iopub.status.busy": "2024-02-22T13:47:32.972830Z",
     "iopub.status.idle": "2024-02-22T13:47:33.354215Z",
     "shell.execute_reply": "2024-02-22T13:47:33.352234Z"
    },
    "papermill": {
     "duration": 0.443503,
     "end_time": "2024-02-22T13:47:33.356856",
     "exception": false,
     "start_time": "2024-02-22T13:47:32.913353",
     "status": "completed"
    },
    "tags": []
   },
   "outputs": [
    {
     "name": "stdout",
     "output_type": "stream",
     "text": [
      "6/6 [==============================] - 0s 3ms/step - loss: -0.7448 - accuracy: 0.5225\n",
      "Test Accuracy: 52.25\n",
      "6/6 [==============================] - 0s 2ms/step\n",
      "Accuracy for each epoch:\n",
      "[0.3389592170715332, 0.302390992641449, 0.3037974536418915, 0.3066104054450989, 0.30098453164100647, 0.3192686438560486, 0.30520394444465637, 0.3108298182487488, 0.3586497902870178, 0.4205344617366791, 0.4360056221485138, 0.4514767825603485, 0.4542897343635559, 0.4571026861667633, 0.4627285599708557, 0.4599156081676483, 0.4641350209712982, 0.4669479727745056, 0.4641350209712982, 0.4669479727745056, 0.47116735577583313, 0.47538676857948303, 0.49085795879364014, 0.49507734179496765, 0.49789029359817505, 0.5007032155990601, 0.5035161972045898, 0.5063291192054749, 0.5119549632072449, 0.5175808668136597, 0.5274261832237244, 0.5316455960273743, 0.5358649492263794, 0.5358649492263794, 0.5386779308319092, 0.5386779308319092, 0.5386779308319092, 0.5400843620300293, 0.5443037748336792, 0.547116756439209, 0.547116756439209, 0.5513361692428589, 0.552742600440979, 0.5555555820465088, 0.5555555820465088, 0.5555555820465088, 0.5555555820465088, 0.5569620132446289, 0.5639943480491638, 0.5724331736564636]\n"
     ]
    }
   ],
   "source": [
    "loss, accuracy = ann.evaluate(X_test, y_test)\n",
    "print('Test Accuracy: %.2f' % (accuracy*100))\n",
    "\n",
    "# Make predictions\n",
    "predictions = ann.predict(X_test)\n",
    "\n",
    "# If you want to see the accuracy for each epoch, you can do this:\n",
    "print(\"Accuracy for each epoch:\")\n",
    "print(history.history['accuracy'])"
   ]
  },
  {
   "cell_type": "code",
   "execution_count": null,
   "id": "ff5eae52",
   "metadata": {
    "papermill": {
     "duration": 0.057786,
     "end_time": "2024-02-22T13:47:33.472685",
     "exception": false,
     "start_time": "2024-02-22T13:47:33.414899",
     "status": "completed"
    },
    "tags": []
   },
   "outputs": [],
   "source": []
  }
 ],
 "metadata": {
  "kaggle": {
   "accelerator": "none",
   "dataSources": [
    {
     "datasetId": 1818188,
     "sourceId": 2965537,
     "sourceType": "datasetVersion"
    }
   ],
   "dockerImageVersionId": 30646,
   "isGpuEnabled": false,
   "isInternetEnabled": true,
   "language": "python",
   "sourceType": "notebook"
  },
  "kernelspec": {
   "display_name": "Python 3",
   "language": "python",
   "name": "python3"
  },
  "language_info": {
   "codemirror_mode": {
    "name": "ipython",
    "version": 3
   },
   "file_extension": ".py",
   "mimetype": "text/x-python",
   "name": "python",
   "nbconvert_exporter": "python",
   "pygments_lexer": "ipython3",
   "version": "3.10.13"
  },
  "papermill": {
   "default_parameters": {},
   "duration": 45.305272,
   "end_time": "2024-02-22T13:47:36.157189",
   "environment_variables": {},
   "exception": null,
   "input_path": "__notebook__.ipynb",
   "output_path": "__notebook__.ipynb",
   "parameters": {},
   "start_time": "2024-02-22T13:46:50.851917",
   "version": "2.5.0"
  }
 },
 "nbformat": 4,
 "nbformat_minor": 5
}
