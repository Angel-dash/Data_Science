{
 "cells": [
  {
   "cell_type": "code",
   "execution_count": 1,
   "id": "1dfb0d9a",
   "metadata": {
    "_cell_guid": "b1076dfc-b9ad-4769-8c92-a6c4dae69d19",
    "_uuid": "8f2839f25d086af736a60e9eeb907d3b93b6e0e5",
    "execution": {
     "iopub.execute_input": "2024-02-16T11:58:37.445688Z",
     "iopub.status.busy": "2024-02-16T11:58:37.445030Z",
     "iopub.status.idle": "2024-02-16T11:58:38.530422Z",
     "shell.execute_reply": "2024-02-16T11:58:38.529532Z"
    },
    "papermill": {
     "duration": 1.105116,
     "end_time": "2024-02-16T11:58:38.532279",
     "exception": false,
     "start_time": "2024-02-16T11:58:37.427163",
     "status": "completed"
    },
    "tags": []
   },
   "outputs": [
    {
     "name": "stdout",
     "output_type": "stream",
     "text": [
      "/kaggle/input/titanic-dataset/Titanic-Dataset.csv\n"
     ]
    }
   ],
   "source": [
    "# This Python 3 environment comes with many helpful analytics libraries installed\n",
    "# It is defined by the kaggle/python Docker image: https://github.com/kaggle/docker-python\n",
    "# For example, here's several helpful packages to load\n",
    "\n",
    "import numpy as np # linear algebra\n",
    "import pandas as pd # data processing, CSV file I/O (e.g. pd.read_csv)\n",
    "\n",
    "# Input data files are available in the read-only \"../input/\" directory\n",
    "# For example, running this (by clicking run or pressing Shift+Enter) will list all files under the input directory\n",
    "\n",
    "import os\n",
    "for dirname, _, filenames in os.walk('/kaggle/input'):\n",
    "    for filename in filenames:\n",
    "        print(os.path.join(dirname, filename))\n",
    "\n",
    "# You can write up to 20GB to the current directory (/kaggle/working/) that gets preserved as output when you create a version using \"Save & Run All\" \n",
    "# You can also write temporary files to /kaggle/temp/, but they won't be saved outside of the current session"
   ]
  },
  {
   "cell_type": "code",
   "execution_count": 2,
   "id": "c948a803",
   "metadata": {
    "execution": {
     "iopub.execute_input": "2024-02-16T11:58:38.566985Z",
     "iopub.status.busy": "2024-02-16T11:58:38.566266Z",
     "iopub.status.idle": "2024-02-16T11:58:40.176789Z",
     "shell.execute_reply": "2024-02-16T11:58:40.175805Z"
    },
    "papermill": {
     "duration": 1.630834,
     "end_time": "2024-02-16T11:58:40.179099",
     "exception": false,
     "start_time": "2024-02-16T11:58:38.548265",
     "status": "completed"
    },
    "tags": []
   },
   "outputs": [],
   "source": [
    "import seaborn as sns\n",
    "from matplotlib import pyplot as plt\n",
    "from matplotlib import style"
   ]
  },
  {
   "cell_type": "code",
   "execution_count": 3,
   "id": "7a6b26c1",
   "metadata": {
    "execution": {
     "iopub.execute_input": "2024-02-16T11:58:40.212129Z",
     "iopub.status.busy": "2024-02-16T11:58:40.211472Z",
     "iopub.status.idle": "2024-02-16T11:58:40.942573Z",
     "shell.execute_reply": "2024-02-16T11:58:40.941323Z"
    },
    "papermill": {
     "duration": 0.750068,
     "end_time": "2024-02-16T11:58:40.944894",
     "exception": false,
     "start_time": "2024-02-16T11:58:40.194826",
     "status": "completed"
    },
    "tags": []
   },
   "outputs": [],
   "source": [
    "from sklearn import linear_model\n",
    "from sklearn.linear_model import LogisticRegression\n",
    "from sklearn.ensemble import RandomForestClassifier\n",
    "from sklearn.linear_model import Perceptron\n",
    "from sklearn.linear_model import SGDClassifier\n",
    "from sklearn.tree import DecisionTreeClassifier\n",
    "from sklearn.neighbors import KNeighborsClassifier\n",
    "from sklearn.svm import SVC, LinearSVC\n",
    "from sklearn.naive_bayes import GaussianNB"
   ]
  },
  {
   "cell_type": "code",
   "execution_count": 4,
   "id": "20ddd5d4",
   "metadata": {
    "execution": {
     "iopub.execute_input": "2024-02-16T11:58:40.979885Z",
     "iopub.status.busy": "2024-02-16T11:58:40.979476Z",
     "iopub.status.idle": "2024-02-16T11:58:41.007079Z",
     "shell.execute_reply": "2024-02-16T11:58:41.005619Z"
    },
    "papermill": {
     "duration": 0.047824,
     "end_time": "2024-02-16T11:58:41.009423",
     "exception": false,
     "start_time": "2024-02-16T11:58:40.961599",
     "status": "completed"
    },
    "tags": []
   },
   "outputs": [],
   "source": [
    "df=pd.read_csv('/kaggle/input/titanic-dataset/Titanic-Dataset.csv')"
   ]
  },
  {
   "cell_type": "code",
   "execution_count": 5,
   "id": "d1d14fa0",
   "metadata": {
    "execution": {
     "iopub.execute_input": "2024-02-16T11:58:41.045476Z",
     "iopub.status.busy": "2024-02-16T11:58:41.044807Z",
     "iopub.status.idle": "2024-02-16T11:58:41.050599Z",
     "shell.execute_reply": "2024-02-16T11:58:41.049999Z"
    },
    "papermill": {
     "duration": 0.025029,
     "end_time": "2024-02-16T11:58:41.052359",
     "exception": false,
     "start_time": "2024-02-16T11:58:41.027330",
     "status": "completed"
    },
    "tags": []
   },
   "outputs": [
    {
     "data": {
      "text/plain": [
       "(891, 12)"
      ]
     },
     "execution_count": 5,
     "metadata": {},
     "output_type": "execute_result"
    }
   ],
   "source": [
    "df.shape"
   ]
  },
  {
   "cell_type": "code",
   "execution_count": 6,
   "id": "f635271a",
   "metadata": {
    "execution": {
     "iopub.execute_input": "2024-02-16T11:58:41.086859Z",
     "iopub.status.busy": "2024-02-16T11:58:41.086239Z",
     "iopub.status.idle": "2024-02-16T11:58:41.105855Z",
     "shell.execute_reply": "2024-02-16T11:58:41.105014Z"
    },
    "papermill": {
     "duration": 0.038745,
     "end_time": "2024-02-16T11:58:41.107715",
     "exception": false,
     "start_time": "2024-02-16T11:58:41.068970",
     "status": "completed"
    },
    "tags": []
   },
   "outputs": [
    {
     "data": {
      "text/html": [
       "<div>\n",
       "<style scoped>\n",
       "    .dataframe tbody tr th:only-of-type {\n",
       "        vertical-align: middle;\n",
       "    }\n",
       "\n",
       "    .dataframe tbody tr th {\n",
       "        vertical-align: top;\n",
       "    }\n",
       "\n",
       "    .dataframe thead th {\n",
       "        text-align: right;\n",
       "    }\n",
       "</style>\n",
       "<table border=\"1\" class=\"dataframe\">\n",
       "  <thead>\n",
       "    <tr style=\"text-align: right;\">\n",
       "      <th></th>\n",
       "      <th>PassengerId</th>\n",
       "      <th>Survived</th>\n",
       "      <th>Pclass</th>\n",
       "      <th>Name</th>\n",
       "      <th>Sex</th>\n",
       "      <th>Age</th>\n",
       "      <th>SibSp</th>\n",
       "      <th>Parch</th>\n",
       "      <th>Ticket</th>\n",
       "      <th>Fare</th>\n",
       "      <th>Cabin</th>\n",
       "      <th>Embarked</th>\n",
       "    </tr>\n",
       "  </thead>\n",
       "  <tbody>\n",
       "    <tr>\n",
       "      <th>0</th>\n",
       "      <td>1</td>\n",
       "      <td>0</td>\n",
       "      <td>3</td>\n",
       "      <td>Braund, Mr. Owen Harris</td>\n",
       "      <td>male</td>\n",
       "      <td>22.0</td>\n",
       "      <td>1</td>\n",
       "      <td>0</td>\n",
       "      <td>A/5 21171</td>\n",
       "      <td>7.2500</td>\n",
       "      <td>NaN</td>\n",
       "      <td>S</td>\n",
       "    </tr>\n",
       "    <tr>\n",
       "      <th>1</th>\n",
       "      <td>2</td>\n",
       "      <td>1</td>\n",
       "      <td>1</td>\n",
       "      <td>Cumings, Mrs. John Bradley (Florence Briggs Th...</td>\n",
       "      <td>female</td>\n",
       "      <td>38.0</td>\n",
       "      <td>1</td>\n",
       "      <td>0</td>\n",
       "      <td>PC 17599</td>\n",
       "      <td>71.2833</td>\n",
       "      <td>C85</td>\n",
       "      <td>C</td>\n",
       "    </tr>\n",
       "    <tr>\n",
       "      <th>2</th>\n",
       "      <td>3</td>\n",
       "      <td>1</td>\n",
       "      <td>3</td>\n",
       "      <td>Heikkinen, Miss. Laina</td>\n",
       "      <td>female</td>\n",
       "      <td>26.0</td>\n",
       "      <td>0</td>\n",
       "      <td>0</td>\n",
       "      <td>STON/O2. 3101282</td>\n",
       "      <td>7.9250</td>\n",
       "      <td>NaN</td>\n",
       "      <td>S</td>\n",
       "    </tr>\n",
       "    <tr>\n",
       "      <th>3</th>\n",
       "      <td>4</td>\n",
       "      <td>1</td>\n",
       "      <td>1</td>\n",
       "      <td>Futrelle, Mrs. Jacques Heath (Lily May Peel)</td>\n",
       "      <td>female</td>\n",
       "      <td>35.0</td>\n",
       "      <td>1</td>\n",
       "      <td>0</td>\n",
       "      <td>113803</td>\n",
       "      <td>53.1000</td>\n",
       "      <td>C123</td>\n",
       "      <td>S</td>\n",
       "    </tr>\n",
       "    <tr>\n",
       "      <th>4</th>\n",
       "      <td>5</td>\n",
       "      <td>0</td>\n",
       "      <td>3</td>\n",
       "      <td>Allen, Mr. William Henry</td>\n",
       "      <td>male</td>\n",
       "      <td>35.0</td>\n",
       "      <td>0</td>\n",
       "      <td>0</td>\n",
       "      <td>373450</td>\n",
       "      <td>8.0500</td>\n",
       "      <td>NaN</td>\n",
       "      <td>S</td>\n",
       "    </tr>\n",
       "  </tbody>\n",
       "</table>\n",
       "</div>"
      ],
      "text/plain": [
       "   PassengerId  Survived  Pclass  \\\n",
       "0            1         0       3   \n",
       "1            2         1       1   \n",
       "2            3         1       3   \n",
       "3            4         1       1   \n",
       "4            5         0       3   \n",
       "\n",
       "                                                Name     Sex   Age  SibSp  \\\n",
       "0                            Braund, Mr. Owen Harris    male  22.0      1   \n",
       "1  Cumings, Mrs. John Bradley (Florence Briggs Th...  female  38.0      1   \n",
       "2                             Heikkinen, Miss. Laina  female  26.0      0   \n",
       "3       Futrelle, Mrs. Jacques Heath (Lily May Peel)  female  35.0      1   \n",
       "4                           Allen, Mr. William Henry    male  35.0      0   \n",
       "\n",
       "   Parch            Ticket     Fare Cabin Embarked  \n",
       "0      0         A/5 21171   7.2500   NaN        S  \n",
       "1      0          PC 17599  71.2833   C85        C  \n",
       "2      0  STON/O2. 3101282   7.9250   NaN        S  \n",
       "3      0            113803  53.1000  C123        S  \n",
       "4      0            373450   8.0500   NaN        S  "
      ]
     },
     "execution_count": 6,
     "metadata": {},
     "output_type": "execute_result"
    }
   ],
   "source": [
    "df.head()"
   ]
  },
  {
   "cell_type": "code",
   "execution_count": 7,
   "id": "2ef9d137",
   "metadata": {
    "execution": {
     "iopub.execute_input": "2024-02-16T11:58:41.142600Z",
     "iopub.status.busy": "2024-02-16T11:58:41.141159Z",
     "iopub.status.idle": "2024-02-16T11:58:41.158076Z",
     "shell.execute_reply": "2024-02-16T11:58:41.156349Z"
    },
    "papermill": {
     "duration": 0.036721,
     "end_time": "2024-02-16T11:58:41.160647",
     "exception": false,
     "start_time": "2024-02-16T11:58:41.123926",
     "status": "completed"
    },
    "tags": []
   },
   "outputs": [],
   "source": [
    "df=df.drop(columns=['Name','Ticket','Cabin','PassengerId'])\n"
   ]
  },
  {
   "cell_type": "code",
   "execution_count": 8,
   "id": "58aa997b",
   "metadata": {
    "execution": {
     "iopub.execute_input": "2024-02-16T11:58:41.194638Z",
     "iopub.status.busy": "2024-02-16T11:58:41.194291Z",
     "iopub.status.idle": "2024-02-16T11:58:41.200349Z",
     "shell.execute_reply": "2024-02-16T11:58:41.198986Z"
    },
    "papermill": {
     "duration": 0.026325,
     "end_time": "2024-02-16T11:58:41.203036",
     "exception": false,
     "start_time": "2024-02-16T11:58:41.176711",
     "status": "completed"
    },
    "tags": []
   },
   "outputs": [],
   "source": [
    "# Since Cabin contains both letters and numbers, we're interested in the letters\n",
    "#df['CabinLetter'] = df['Cabin'].str[0]"
   ]
  },
  {
   "cell_type": "code",
   "execution_count": 9,
   "id": "6e2eb57d",
   "metadata": {
    "execution": {
     "iopub.execute_input": "2024-02-16T11:58:41.237550Z",
     "iopub.status.busy": "2024-02-16T11:58:41.237247Z",
     "iopub.status.idle": "2024-02-16T11:58:41.244543Z",
     "shell.execute_reply": "2024-02-16T11:58:41.243365Z"
    },
    "papermill": {
     "duration": 0.027607,
     "end_time": "2024-02-16T11:58:41.247188",
     "exception": false,
     "start_time": "2024-02-16T11:58:41.219581",
     "status": "completed"
    },
    "tags": []
   },
   "outputs": [
    {
     "data": {
      "text/plain": [
       "'\\nsns.countplot(x=\\'CabinLetter\\', hue=\\'Pclass\\', data=df)\\nplt.title(\"Distribution of Cabin Letters by Passenger Class\")\\nplt.xlabel(\"Cabin Letter\")\\nplt.ylabel(\"Frequency\")\\n\\n'"
      ]
     },
     "execution_count": 9,
     "metadata": {},
     "output_type": "execute_result"
    }
   ],
   "source": [
    "'''\n",
    "sns.countplot(x='CabinLetter', hue='Pclass', data=df)\n",
    "plt.title(\"Distribution of Cabin Letters by Passenger Class\")\n",
    "plt.xlabel(\"Cabin Letter\")\n",
    "plt.ylabel(\"Frequency\")\n",
    "\n",
    "'''"
   ]
  },
  {
   "cell_type": "code",
   "execution_count": 10,
   "id": "0aba712f",
   "metadata": {
    "execution": {
     "iopub.execute_input": "2024-02-16T11:58:41.281948Z",
     "iopub.status.busy": "2024-02-16T11:58:41.281540Z",
     "iopub.status.idle": "2024-02-16T11:58:41.286590Z",
     "shell.execute_reply": "2024-02-16T11:58:41.285317Z"
    },
    "papermill": {
     "duration": 0.025287,
     "end_time": "2024-02-16T11:58:41.288877",
     "exception": false,
     "start_time": "2024-02-16T11:58:41.263590",
     "status": "completed"
    },
    "tags": []
   },
   "outputs": [],
   "source": [
    "#df['Cabin'] = df['Cabin'].fillna('N')"
   ]
  },
  {
   "cell_type": "code",
   "execution_count": 11,
   "id": "9d770272",
   "metadata": {
    "execution": {
     "iopub.execute_input": "2024-02-16T11:58:41.376362Z",
     "iopub.status.busy": "2024-02-16T11:58:41.376058Z",
     "iopub.status.idle": "2024-02-16T11:58:41.386921Z",
     "shell.execute_reply": "2024-02-16T11:58:41.386031Z"
    },
    "papermill": {
     "duration": 0.08294,
     "end_time": "2024-02-16T11:58:41.388564",
     "exception": false,
     "start_time": "2024-02-16T11:58:41.305624",
     "status": "completed"
    },
    "tags": []
   },
   "outputs": [
    {
     "data": {
      "text/html": [
       "<div>\n",
       "<style scoped>\n",
       "    .dataframe tbody tr th:only-of-type {\n",
       "        vertical-align: middle;\n",
       "    }\n",
       "\n",
       "    .dataframe tbody tr th {\n",
       "        vertical-align: top;\n",
       "    }\n",
       "\n",
       "    .dataframe thead th {\n",
       "        text-align: right;\n",
       "    }\n",
       "</style>\n",
       "<table border=\"1\" class=\"dataframe\">\n",
       "  <thead>\n",
       "    <tr style=\"text-align: right;\">\n",
       "      <th></th>\n",
       "      <th>Survived</th>\n",
       "      <th>Pclass</th>\n",
       "      <th>Sex</th>\n",
       "      <th>Age</th>\n",
       "      <th>SibSp</th>\n",
       "      <th>Parch</th>\n",
       "      <th>Fare</th>\n",
       "      <th>Embarked</th>\n",
       "    </tr>\n",
       "  </thead>\n",
       "  <tbody>\n",
       "    <tr>\n",
       "      <th>0</th>\n",
       "      <td>0</td>\n",
       "      <td>3</td>\n",
       "      <td>male</td>\n",
       "      <td>22.0</td>\n",
       "      <td>1</td>\n",
       "      <td>0</td>\n",
       "      <td>7.2500</td>\n",
       "      <td>S</td>\n",
       "    </tr>\n",
       "    <tr>\n",
       "      <th>1</th>\n",
       "      <td>1</td>\n",
       "      <td>1</td>\n",
       "      <td>female</td>\n",
       "      <td>38.0</td>\n",
       "      <td>1</td>\n",
       "      <td>0</td>\n",
       "      <td>71.2833</td>\n",
       "      <td>C</td>\n",
       "    </tr>\n",
       "    <tr>\n",
       "      <th>2</th>\n",
       "      <td>1</td>\n",
       "      <td>3</td>\n",
       "      <td>female</td>\n",
       "      <td>26.0</td>\n",
       "      <td>0</td>\n",
       "      <td>0</td>\n",
       "      <td>7.9250</td>\n",
       "      <td>S</td>\n",
       "    </tr>\n",
       "    <tr>\n",
       "      <th>3</th>\n",
       "      <td>1</td>\n",
       "      <td>1</td>\n",
       "      <td>female</td>\n",
       "      <td>35.0</td>\n",
       "      <td>1</td>\n",
       "      <td>0</td>\n",
       "      <td>53.1000</td>\n",
       "      <td>S</td>\n",
       "    </tr>\n",
       "    <tr>\n",
       "      <th>4</th>\n",
       "      <td>0</td>\n",
       "      <td>3</td>\n",
       "      <td>male</td>\n",
       "      <td>35.0</td>\n",
       "      <td>0</td>\n",
       "      <td>0</td>\n",
       "      <td>8.0500</td>\n",
       "      <td>S</td>\n",
       "    </tr>\n",
       "  </tbody>\n",
       "</table>\n",
       "</div>"
      ],
      "text/plain": [
       "   Survived  Pclass     Sex   Age  SibSp  Parch     Fare Embarked\n",
       "0         0       3    male  22.0      1      0   7.2500        S\n",
       "1         1       1  female  38.0      1      0  71.2833        C\n",
       "2         1       3  female  26.0      0      0   7.9250        S\n",
       "3         1       1  female  35.0      1      0  53.1000        S\n",
       "4         0       3    male  35.0      0      0   8.0500        S"
      ]
     },
     "execution_count": 11,
     "metadata": {},
     "output_type": "execute_result"
    }
   ],
   "source": [
    "df.head()"
   ]
  },
  {
   "cell_type": "code",
   "execution_count": 12,
   "id": "e0c326db",
   "metadata": {
    "execution": {
     "iopub.execute_input": "2024-02-16T11:58:41.422754Z",
     "iopub.status.busy": "2024-02-16T11:58:41.422449Z",
     "iopub.status.idle": "2024-02-16T11:58:41.428263Z",
     "shell.execute_reply": "2024-02-16T11:58:41.427406Z"
    },
    "papermill": {
     "duration": 0.026271,
     "end_time": "2024-02-16T11:58:41.431226",
     "exception": false,
     "start_time": "2024-02-16T11:58:41.404955",
     "status": "completed"
    },
    "tags": []
   },
   "outputs": [
    {
     "data": {
      "text/plain": [
       "(891, 8)"
      ]
     },
     "execution_count": 12,
     "metadata": {},
     "output_type": "execute_result"
    }
   ],
   "source": [
    "df.shape"
   ]
  },
  {
   "cell_type": "code",
   "execution_count": 13,
   "id": "04f268aa",
   "metadata": {
    "execution": {
     "iopub.execute_input": "2024-02-16T11:58:41.466327Z",
     "iopub.status.busy": "2024-02-16T11:58:41.465917Z",
     "iopub.status.idle": "2024-02-16T11:58:41.482125Z",
     "shell.execute_reply": "2024-02-16T11:58:41.481236Z"
    },
    "papermill": {
     "duration": 0.036283,
     "end_time": "2024-02-16T11:58:41.484084",
     "exception": false,
     "start_time": "2024-02-16T11:58:41.447801",
     "status": "completed"
    },
    "tags": []
   },
   "outputs": [
    {
     "data": {
      "text/plain": [
       "111"
      ]
     },
     "execution_count": 13,
     "metadata": {},
     "output_type": "execute_result"
    }
   ],
   "source": [
    "df.duplicated().sum()"
   ]
  },
  {
   "cell_type": "code",
   "execution_count": 14,
   "id": "520fae3e",
   "metadata": {
    "execution": {
     "iopub.execute_input": "2024-02-16T11:58:41.519202Z",
     "iopub.status.busy": "2024-02-16T11:58:41.518905Z",
     "iopub.status.idle": "2024-02-16T11:58:41.530037Z",
     "shell.execute_reply": "2024-02-16T11:58:41.528828Z"
    },
    "papermill": {
     "duration": 0.031101,
     "end_time": "2024-02-16T11:58:41.531923",
     "exception": false,
     "start_time": "2024-02-16T11:58:41.500822",
     "status": "completed"
    },
    "tags": []
   },
   "outputs": [
    {
     "data": {
      "text/plain": [
       "Survived      0\n",
       "Pclass        0\n",
       "Sex           0\n",
       "Age         177\n",
       "SibSp         0\n",
       "Parch         0\n",
       "Fare          0\n",
       "Embarked      2\n",
       "dtype: int64"
      ]
     },
     "execution_count": 14,
     "metadata": {},
     "output_type": "execute_result"
    }
   ],
   "source": [
    "df.isnull().sum()\n"
   ]
  },
  {
   "cell_type": "code",
   "execution_count": 15,
   "id": "65086dbc",
   "metadata": {
    "execution": {
     "iopub.execute_input": "2024-02-16T11:58:41.567940Z",
     "iopub.status.busy": "2024-02-16T11:58:41.567590Z",
     "iopub.status.idle": "2024-02-16T11:58:41.576524Z",
     "shell.execute_reply": "2024-02-16T11:58:41.575325Z"
    },
    "papermill": {
     "duration": 0.029221,
     "end_time": "2024-02-16T11:58:41.578744",
     "exception": false,
     "start_time": "2024-02-16T11:58:41.549523",
     "status": "completed"
    },
    "tags": []
   },
   "outputs": [],
   "source": [
    "df=df.dropna(subset=['Embarked'])"
   ]
  },
  {
   "cell_type": "code",
   "execution_count": 16,
   "id": "c156d741",
   "metadata": {
    "execution": {
     "iopub.execute_input": "2024-02-16T11:58:41.614945Z",
     "iopub.status.busy": "2024-02-16T11:58:41.614098Z",
     "iopub.status.idle": "2024-02-16T11:58:41.621710Z",
     "shell.execute_reply": "2024-02-16T11:58:41.620344Z"
    },
    "papermill": {
     "duration": 0.028956,
     "end_time": "2024-02-16T11:58:41.624636",
     "exception": false,
     "start_time": "2024-02-16T11:58:41.595680",
     "status": "completed"
    },
    "tags": []
   },
   "outputs": [
    {
     "data": {
      "text/plain": [
       "dtype('float64')"
      ]
     },
     "execution_count": 16,
     "metadata": {},
     "output_type": "execute_result"
    }
   ],
   "source": [
    "df['Age'].dtype"
   ]
  },
  {
   "cell_type": "code",
   "execution_count": 17,
   "id": "ea4ead6c",
   "metadata": {
    "execution": {
     "iopub.execute_input": "2024-02-16T11:58:41.660255Z",
     "iopub.status.busy": "2024-02-16T11:58:41.659859Z",
     "iopub.status.idle": "2024-02-16T11:58:41.668362Z",
     "shell.execute_reply": "2024-02-16T11:58:41.667257Z"
    },
    "papermill": {
     "duration": 0.028527,
     "end_time": "2024-02-16T11:58:41.670319",
     "exception": false,
     "start_time": "2024-02-16T11:58:41.641792",
     "status": "completed"
    },
    "tags": []
   },
   "outputs": [
    {
     "data": {
      "text/plain": [
       "0      22.0\n",
       "1      38.0\n",
       "2      26.0\n",
       "3      35.0\n",
       "4      35.0\n",
       "       ... \n",
       "886    27.0\n",
       "887    19.0\n",
       "888     NaN\n",
       "889    26.0\n",
       "890    32.0\n",
       "Name: Age, Length: 889, dtype: float64"
      ]
     },
     "execution_count": 17,
     "metadata": {},
     "output_type": "execute_result"
    }
   ],
   "source": [
    "df['Age']"
   ]
  },
  {
   "cell_type": "code",
   "execution_count": 18,
   "id": "08cbed7e",
   "metadata": {
    "execution": {
     "iopub.execute_input": "2024-02-16T11:58:41.707012Z",
     "iopub.status.busy": "2024-02-16T11:58:41.706645Z",
     "iopub.status.idle": "2024-02-16T11:58:41.712763Z",
     "shell.execute_reply": "2024-02-16T11:58:41.711390Z"
    },
    "papermill": {
     "duration": 0.027101,
     "end_time": "2024-02-16T11:58:41.715291",
     "exception": false,
     "start_time": "2024-02-16T11:58:41.688190",
     "status": "completed"
    },
    "tags": []
   },
   "outputs": [],
   "source": [
    "df['Age'].fillna(df['Age'].mean(),inplace=True)"
   ]
  },
  {
   "cell_type": "code",
   "execution_count": 19,
   "id": "ab8ad16b",
   "metadata": {
    "execution": {
     "iopub.execute_input": "2024-02-16T11:58:41.751194Z",
     "iopub.status.busy": "2024-02-16T11:58:41.750806Z",
     "iopub.status.idle": "2024-02-16T11:58:41.758795Z",
     "shell.execute_reply": "2024-02-16T11:58:41.757144Z"
    },
    "papermill": {
     "duration": 0.028257,
     "end_time": "2024-02-16T11:58:41.760624",
     "exception": false,
     "start_time": "2024-02-16T11:58:41.732367",
     "status": "completed"
    },
    "tags": []
   },
   "outputs": [
    {
     "data": {
      "text/plain": [
       "Survived    0\n",
       "Pclass      0\n",
       "Sex         0\n",
       "Age         0\n",
       "SibSp       0\n",
       "Parch       0\n",
       "Fare        0\n",
       "Embarked    0\n",
       "dtype: int64"
      ]
     },
     "execution_count": 19,
     "metadata": {},
     "output_type": "execute_result"
    }
   ],
   "source": [
    "df.isna().sum()"
   ]
  },
  {
   "cell_type": "code",
   "execution_count": 20,
   "id": "563a084d",
   "metadata": {
    "execution": {
     "iopub.execute_input": "2024-02-16T11:58:41.796649Z",
     "iopub.status.busy": "2024-02-16T11:58:41.796337Z",
     "iopub.status.idle": "2024-02-16T11:58:41.826454Z",
     "shell.execute_reply": "2024-02-16T11:58:41.825368Z"
    },
    "papermill": {
     "duration": 0.050523,
     "end_time": "2024-02-16T11:58:41.828343",
     "exception": false,
     "start_time": "2024-02-16T11:58:41.777820",
     "status": "completed"
    },
    "tags": []
   },
   "outputs": [
    {
     "data": {
      "text/html": [
       "<div>\n",
       "<style scoped>\n",
       "    .dataframe tbody tr th:only-of-type {\n",
       "        vertical-align: middle;\n",
       "    }\n",
       "\n",
       "    .dataframe tbody tr th {\n",
       "        vertical-align: top;\n",
       "    }\n",
       "\n",
       "    .dataframe thead th {\n",
       "        text-align: right;\n",
       "    }\n",
       "</style>\n",
       "<table border=\"1\" class=\"dataframe\">\n",
       "  <thead>\n",
       "    <tr style=\"text-align: right;\">\n",
       "      <th></th>\n",
       "      <th>Survived</th>\n",
       "      <th>Pclass</th>\n",
       "      <th>Age</th>\n",
       "      <th>SibSp</th>\n",
       "      <th>Parch</th>\n",
       "      <th>Fare</th>\n",
       "    </tr>\n",
       "  </thead>\n",
       "  <tbody>\n",
       "    <tr>\n",
       "      <th>count</th>\n",
       "      <td>889.000000</td>\n",
       "      <td>889.000000</td>\n",
       "      <td>889.000000</td>\n",
       "      <td>889.000000</td>\n",
       "      <td>889.000000</td>\n",
       "      <td>889.000000</td>\n",
       "    </tr>\n",
       "    <tr>\n",
       "      <th>mean</th>\n",
       "      <td>0.382452</td>\n",
       "      <td>2.311586</td>\n",
       "      <td>29.642093</td>\n",
       "      <td>0.524184</td>\n",
       "      <td>0.382452</td>\n",
       "      <td>32.096681</td>\n",
       "    </tr>\n",
       "    <tr>\n",
       "      <th>std</th>\n",
       "      <td>0.486260</td>\n",
       "      <td>0.834700</td>\n",
       "      <td>12.968346</td>\n",
       "      <td>1.103705</td>\n",
       "      <td>0.806761</td>\n",
       "      <td>49.697504</td>\n",
       "    </tr>\n",
       "    <tr>\n",
       "      <th>min</th>\n",
       "      <td>0.000000</td>\n",
       "      <td>1.000000</td>\n",
       "      <td>0.420000</td>\n",
       "      <td>0.000000</td>\n",
       "      <td>0.000000</td>\n",
       "      <td>0.000000</td>\n",
       "    </tr>\n",
       "    <tr>\n",
       "      <th>25%</th>\n",
       "      <td>0.000000</td>\n",
       "      <td>2.000000</td>\n",
       "      <td>22.000000</td>\n",
       "      <td>0.000000</td>\n",
       "      <td>0.000000</td>\n",
       "      <td>7.895800</td>\n",
       "    </tr>\n",
       "    <tr>\n",
       "      <th>50%</th>\n",
       "      <td>0.000000</td>\n",
       "      <td>3.000000</td>\n",
       "      <td>29.642093</td>\n",
       "      <td>0.000000</td>\n",
       "      <td>0.000000</td>\n",
       "      <td>14.454200</td>\n",
       "    </tr>\n",
       "    <tr>\n",
       "      <th>75%</th>\n",
       "      <td>1.000000</td>\n",
       "      <td>3.000000</td>\n",
       "      <td>35.000000</td>\n",
       "      <td>1.000000</td>\n",
       "      <td>0.000000</td>\n",
       "      <td>31.000000</td>\n",
       "    </tr>\n",
       "    <tr>\n",
       "      <th>max</th>\n",
       "      <td>1.000000</td>\n",
       "      <td>3.000000</td>\n",
       "      <td>80.000000</td>\n",
       "      <td>8.000000</td>\n",
       "      <td>6.000000</td>\n",
       "      <td>512.329200</td>\n",
       "    </tr>\n",
       "  </tbody>\n",
       "</table>\n",
       "</div>"
      ],
      "text/plain": [
       "         Survived      Pclass         Age       SibSp       Parch        Fare\n",
       "count  889.000000  889.000000  889.000000  889.000000  889.000000  889.000000\n",
       "mean     0.382452    2.311586   29.642093    0.524184    0.382452   32.096681\n",
       "std      0.486260    0.834700   12.968346    1.103705    0.806761   49.697504\n",
       "min      0.000000    1.000000    0.420000    0.000000    0.000000    0.000000\n",
       "25%      0.000000    2.000000   22.000000    0.000000    0.000000    7.895800\n",
       "50%      0.000000    3.000000   29.642093    0.000000    0.000000   14.454200\n",
       "75%      1.000000    3.000000   35.000000    1.000000    0.000000   31.000000\n",
       "max      1.000000    3.000000   80.000000    8.000000    6.000000  512.329200"
      ]
     },
     "execution_count": 20,
     "metadata": {},
     "output_type": "execute_result"
    }
   ],
   "source": [
    "df.describe()\n"
   ]
  },
  {
   "cell_type": "code",
   "execution_count": 21,
   "id": "c8b17b57",
   "metadata": {
    "execution": {
     "iopub.execute_input": "2024-02-16T11:58:41.865894Z",
     "iopub.status.busy": "2024-02-16T11:58:41.865545Z",
     "iopub.status.idle": "2024-02-16T11:58:42.041298Z",
     "shell.execute_reply": "2024-02-16T11:58:42.040207Z"
    },
    "papermill": {
     "duration": 0.19679,
     "end_time": "2024-02-16T11:58:42.043538",
     "exception": false,
     "start_time": "2024-02-16T11:58:41.846748",
     "status": "completed"
    },
    "tags": []
   },
   "outputs": [
    {
     "data": {
      "text/plain": [
       "<Axes: xlabel='Survived', ylabel='count'>"
      ]
     },
     "execution_count": 21,
     "metadata": {},
     "output_type": "execute_result"
    },
    {
     "data": {
      "image/png": "[encoded data removed]",
      "text/plain": [
       "<Figure size 640x480 with 1 Axes>"
      ]
     },
     "metadata": {},
     "output_type": "display_data"
    }
   ],
   "source": [
    "#Data visualization \n",
    "sns.countplot(x='Survived',data=df)"
   ]
  },
  {
   "cell_type": "code",
   "execution_count": 22,
   "id": "6775d25c",
   "metadata": {
    "execution": {
     "iopub.execute_input": "2024-02-16T11:58:42.081108Z",
     "iopub.status.busy": "2024-02-16T11:58:42.080762Z",
     "iopub.status.idle": "2024-02-16T11:58:43.602865Z",
     "shell.execute_reply": "2024-02-16T11:58:43.600936Z"
    },
    "papermill": {
     "duration": 1.543255,
     "end_time": "2024-02-16T11:58:43.605021",
     "exception": false,
     "start_time": "2024-02-16T11:58:42.061766",
     "status": "completed"
    },
    "tags": []
   },
   "outputs": [
    {
     "name": "stderr",
     "output_type": "stream",
     "text": [
      "/opt/conda/lib/python3.10/site-packages/seaborn/_oldcore.py:1119: FutureWarning: use_inf_as_na option is deprecated and will be removed in a future version. Convert inf values to NaN before operating instead.\n",
      "  with pd.option_context('mode.use_inf_as_na', True):\n",
      "/opt/conda/lib/python3.10/site-packages/seaborn/_oldcore.py:1119: FutureWarning: use_inf_as_na option is deprecated and will be removed in a future version. Convert inf values to NaN before operating instead.\n",
      "  with pd.option_context('mode.use_inf_as_na', True):\n",
      "/opt/conda/lib/python3.10/site-packages/seaborn/_oldcore.py:1119: FutureWarning: use_inf_as_na option is deprecated and will be removed in a future version. Convert inf values to NaN before operating instead.\n",
      "  with pd.option_context('mode.use_inf_as_na', True):\n",
      "/opt/conda/lib/python3.10/site-packages/seaborn/_oldcore.py:1119: FutureWarning: use_inf_as_na option is deprecated and will be removed in a future version. Convert inf values to NaN before operating instead.\n",
      "  with pd.option_context('mode.use_inf_as_na', True):\n",
      "/opt/conda/lib/python3.10/site-packages/seaborn/_oldcore.py:1119: FutureWarning: use_inf_as_na option is deprecated and will be removed in a future version. Convert inf values to NaN before operating instead.\n",
      "  with pd.option_context('mode.use_inf_as_na', True):\n",
      "/opt/conda/lib/python3.10/site-packages/seaborn/_oldcore.py:1119: FutureWarning: use_inf_as_na option is deprecated and will be removed in a future version. Convert inf values to NaN before operating instead.\n",
      "  with pd.option_context('mode.use_inf_as_na', True):\n"
     ]
    },
    {
     "data": {
      "image/png": "[encoded data removed]",
      "text/plain": [
       "<Figure size 971.111x900 with 6 Axes>"
      ]
     },
     "metadata": {},
     "output_type": "display_data"
    }
   ],
   "source": [
    "#plotting FacetGrid\n",
    "grid = sns.FacetGrid(df, col='Survived', row='Pclass',aspect=1.6)\n",
    "grid.map(sns.histplot, 'Sex', alpha=.5, bins=20)\n",
    "grid.add_legend();"
   ]
  },
  {
   "cell_type": "markdown",
   "id": "9452aa66",
   "metadata": {
    "papermill": {
     "duration": 0.018057,
     "end_time": "2024-02-16T11:58:43.642932",
     "exception": false,
     "start_time": "2024-02-16T11:58:43.624875",
     "status": "completed"
    },
    "tags": []
   },
   "source": []
  },
  {
   "cell_type": "code",
   "execution_count": 23,
   "id": "7dae39b5",
   "metadata": {
    "execution": {
     "iopub.execute_input": "2024-02-16T11:58:43.681325Z",
     "iopub.status.busy": "2024-02-16T11:58:43.681012Z",
     "iopub.status.idle": "2024-02-16T11:58:43.839092Z",
     "shell.execute_reply": "2024-02-16T11:58:43.837938Z"
    },
    "papermill": {
     "duration": 0.180425,
     "end_time": "2024-02-16T11:58:43.841619",
     "exception": false,
     "start_time": "2024-02-16T11:58:43.661194",
     "status": "completed"
    },
    "tags": []
   },
   "outputs": [
    {
     "data": {
      "text/plain": [
       "<Axes: xlabel='Sex', ylabel='count'>"
      ]
     },
     "execution_count": 23,
     "metadata": {},
     "output_type": "execute_result"
    },
    {
     "data": {
      "image/png": "[encoded data removed]",
      "text/plain": [
       "<Figure size 640x480 with 1 Axes>"
      ]
     },
     "metadata": {},
     "output_type": "display_data"
    }
   ],
   "source": [
    "sns.countplot(x='Sex',hue='Survived',data=df)\n"
   ]
  },
  {
   "cell_type": "markdown",
   "id": "427e9ad4",
   "metadata": {
    "papermill": {
     "duration": 0.018729,
     "end_time": "2024-02-16T11:58:43.879266",
     "exception": false,
     "start_time": "2024-02-16T11:58:43.860537",
     "status": "completed"
    },
    "tags": []
   },
   "source": [
    "The above chart illustrate that male are less likely to surive whereas the surival rate is higher for female"
   ]
  },
  {
   "cell_type": "markdown",
   "id": "e573e800",
   "metadata": {
    "execution": {
     "iopub.execute_input": "2024-02-09T12:29:34.619351Z",
     "iopub.status.busy": "2024-02-09T12:29:34.618203Z",
     "iopub.status.idle": "2024-02-09T12:29:34.862320Z",
     "shell.execute_reply": "2024-02-09T12:29:34.861259Z",
     "shell.execute_reply.started": "2024-02-09T12:29:34.619314Z"
    },
    "papermill": {
     "duration": 0.018592,
     "end_time": "2024-02-16T11:58:43.916940",
     "exception": false,
     "start_time": "2024-02-16T11:58:43.898348",
     "status": "completed"
    },
    "tags": []
   },
   "source": [
    "sns.countplot(x=\"Pclass\",hue=\"Survived\",data=df)"
   ]
  },
  {
   "cell_type": "markdown",
   "id": "240505b9",
   "metadata": {
    "papermill": {
     "duration": 0.018869,
     "end_time": "2024-02-16T11:58:43.954702",
     "exception": false,
     "start_time": "2024-02-16T11:58:43.935833",
     "status": "completed"
    },
    "tags": []
   },
   "source": [
    "AS we can see people who have third class ticket are less likely to survive whereas the people who belonged to higher class has more favourable chance of surviving"
   ]
  },
  {
   "cell_type": "code",
   "execution_count": 24,
   "id": "cfe73d42",
   "metadata": {
    "execution": {
     "iopub.execute_input": "2024-02-16T11:58:43.996736Z",
     "iopub.status.busy": "2024-02-16T11:58:43.995581Z",
     "iopub.status.idle": "2024-02-16T11:58:44.017481Z",
     "shell.execute_reply": "2024-02-16T11:58:44.015937Z"
    },
    "papermill": {
     "duration": 0.046503,
     "end_time": "2024-02-16T11:58:44.020149",
     "exception": false,
     "start_time": "2024-02-16T11:58:43.973646",
     "status": "completed"
    },
    "tags": []
   },
   "outputs": [
    {
     "name": "stderr",
     "output_type": "stream",
     "text": [
      "/tmp/ipykernel_19/2307317276.py:1: FutureWarning: Downcasting behavior in `replace` is deprecated and will be removed in a future version. To retain the old behavior, explicitly call `result.infer_objects(copy=False)`. To opt-in to the future behavior, set `pd.set_option('future.no_silent_downcasting', True)`\n",
      "  df['Sex'] = df['Sex'].replace({'male':  0, 'female':  1})\n"
     ]
    },
    {
     "data": {
      "text/html": [
       "<div>\n",
       "<style scoped>\n",
       "    .dataframe tbody tr th:only-of-type {\n",
       "        vertical-align: middle;\n",
       "    }\n",
       "\n",
       "    .dataframe tbody tr th {\n",
       "        vertical-align: top;\n",
       "    }\n",
       "\n",
       "    .dataframe thead th {\n",
       "        text-align: right;\n",
       "    }\n",
       "</style>\n",
       "<table border=\"1\" class=\"dataframe\">\n",
       "  <thead>\n",
       "    <tr style=\"text-align: right;\">\n",
       "      <th></th>\n",
       "      <th>Survived</th>\n",
       "      <th>Pclass</th>\n",
       "      <th>Sex</th>\n",
       "      <th>Age</th>\n",
       "      <th>SibSp</th>\n",
       "      <th>Parch</th>\n",
       "      <th>Fare</th>\n",
       "      <th>Embarked</th>\n",
       "    </tr>\n",
       "  </thead>\n",
       "  <tbody>\n",
       "    <tr>\n",
       "      <th>0</th>\n",
       "      <td>0</td>\n",
       "      <td>3</td>\n",
       "      <td>0</td>\n",
       "      <td>22.0</td>\n",
       "      <td>1</td>\n",
       "      <td>0</td>\n",
       "      <td>7.2500</td>\n",
       "      <td>S</td>\n",
       "    </tr>\n",
       "    <tr>\n",
       "      <th>1</th>\n",
       "      <td>1</td>\n",
       "      <td>1</td>\n",
       "      <td>1</td>\n",
       "      <td>38.0</td>\n",
       "      <td>1</td>\n",
       "      <td>0</td>\n",
       "      <td>71.2833</td>\n",
       "      <td>C</td>\n",
       "    </tr>\n",
       "    <tr>\n",
       "      <th>2</th>\n",
       "      <td>1</td>\n",
       "      <td>3</td>\n",
       "      <td>1</td>\n",
       "      <td>26.0</td>\n",
       "      <td>0</td>\n",
       "      <td>0</td>\n",
       "      <td>7.9250</td>\n",
       "      <td>S</td>\n",
       "    </tr>\n",
       "    <tr>\n",
       "      <th>3</th>\n",
       "      <td>1</td>\n",
       "      <td>1</td>\n",
       "      <td>1</td>\n",
       "      <td>35.0</td>\n",
       "      <td>1</td>\n",
       "      <td>0</td>\n",
       "      <td>53.1000</td>\n",
       "      <td>S</td>\n",
       "    </tr>\n",
       "    <tr>\n",
       "      <th>4</th>\n",
       "      <td>0</td>\n",
       "      <td>3</td>\n",
       "      <td>0</td>\n",
       "      <td>35.0</td>\n",
       "      <td>0</td>\n",
       "      <td>0</td>\n",
       "      <td>8.0500</td>\n",
       "      <td>S</td>\n",
       "    </tr>\n",
       "  </tbody>\n",
       "</table>\n",
       "</div>"
      ],
      "text/plain": [
       "   Survived  Pclass  Sex   Age  SibSp  Parch     Fare Embarked\n",
       "0         0       3    0  22.0      1      0   7.2500        S\n",
       "1         1       1    1  38.0      1      0  71.2833        C\n",
       "2         1       3    1  26.0      0      0   7.9250        S\n",
       "3         1       1    1  35.0      1      0  53.1000        S\n",
       "4         0       3    0  35.0      0      0   8.0500        S"
      ]
     },
     "execution_count": 24,
     "metadata": {},
     "output_type": "execute_result"
    }
   ],
   "source": [
    "\n",
    "df['Sex'] = df['Sex'].replace({'male':  0, 'female':  1})\n",
    "df.head()"
   ]
  },
  {
   "cell_type": "code",
   "execution_count": 25,
   "id": "fde373cf",
   "metadata": {
    "execution": {
     "iopub.execute_input": "2024-02-16T11:58:44.068443Z",
     "iopub.status.busy": "2024-02-16T11:58:44.068045Z",
     "iopub.status.idle": "2024-02-16T11:58:44.088838Z",
     "shell.execute_reply": "2024-02-16T11:58:44.087389Z"
    },
    "papermill": {
     "duration": 0.048641,
     "end_time": "2024-02-16T11:58:44.091470",
     "exception": false,
     "start_time": "2024-02-16T11:58:44.042829",
     "status": "completed"
    },
    "tags": []
   },
   "outputs": [
    {
     "name": "stderr",
     "output_type": "stream",
     "text": [
      "/tmp/ipykernel_19/1358648033.py:1: FutureWarning: Downcasting behavior in `replace` is deprecated and will be removed in a future version. To retain the old behavior, explicitly call `result.infer_objects(copy=False)`. To opt-in to the future behavior, set `pd.set_option('future.no_silent_downcasting', True)`\n",
      "  df['Embarked']=df['Embarked'].replace({'S':0,'C':1,'Q':2})\n"
     ]
    },
    {
     "data": {
      "text/html": [
       "<div>\n",
       "<style scoped>\n",
       "    .dataframe tbody tr th:only-of-type {\n",
       "        vertical-align: middle;\n",
       "    }\n",
       "\n",
       "    .dataframe tbody tr th {\n",
       "        vertical-align: top;\n",
       "    }\n",
       "\n",
       "    .dataframe thead th {\n",
       "        text-align: right;\n",
       "    }\n",
       "</style>\n",
       "<table border=\"1\" class=\"dataframe\">\n",
       "  <thead>\n",
       "    <tr style=\"text-align: right;\">\n",
       "      <th></th>\n",
       "      <th>Survived</th>\n",
       "      <th>Pclass</th>\n",
       "      <th>Sex</th>\n",
       "      <th>Age</th>\n",
       "      <th>SibSp</th>\n",
       "      <th>Parch</th>\n",
       "      <th>Fare</th>\n",
       "      <th>Embarked</th>\n",
       "    </tr>\n",
       "  </thead>\n",
       "  <tbody>\n",
       "    <tr>\n",
       "      <th>0</th>\n",
       "      <td>0</td>\n",
       "      <td>3</td>\n",
       "      <td>0</td>\n",
       "      <td>22.0</td>\n",
       "      <td>1</td>\n",
       "      <td>0</td>\n",
       "      <td>7.2500</td>\n",
       "      <td>0</td>\n",
       "    </tr>\n",
       "    <tr>\n",
       "      <th>1</th>\n",
       "      <td>1</td>\n",
       "      <td>1</td>\n",
       "      <td>1</td>\n",
       "      <td>38.0</td>\n",
       "      <td>1</td>\n",
       "      <td>0</td>\n",
       "      <td>71.2833</td>\n",
       "      <td>1</td>\n",
       "    </tr>\n",
       "    <tr>\n",
       "      <th>2</th>\n",
       "      <td>1</td>\n",
       "      <td>3</td>\n",
       "      <td>1</td>\n",
       "      <td>26.0</td>\n",
       "      <td>0</td>\n",
       "      <td>0</td>\n",
       "      <td>7.9250</td>\n",
       "      <td>0</td>\n",
       "    </tr>\n",
       "    <tr>\n",
       "      <th>3</th>\n",
       "      <td>1</td>\n",
       "      <td>1</td>\n",
       "      <td>1</td>\n",
       "      <td>35.0</td>\n",
       "      <td>1</td>\n",
       "      <td>0</td>\n",
       "      <td>53.1000</td>\n",
       "      <td>0</td>\n",
       "    </tr>\n",
       "    <tr>\n",
       "      <th>4</th>\n",
       "      <td>0</td>\n",
       "      <td>3</td>\n",
       "      <td>0</td>\n",
       "      <td>35.0</td>\n",
       "      <td>0</td>\n",
       "      <td>0</td>\n",
       "      <td>8.0500</td>\n",
       "      <td>0</td>\n",
       "    </tr>\n",
       "  </tbody>\n",
       "</table>\n",
       "</div>"
      ],
      "text/plain": [
       "   Survived  Pclass  Sex   Age  SibSp  Parch     Fare  Embarked\n",
       "0         0       3    0  22.0      1      0   7.2500         0\n",
       "1         1       1    1  38.0      1      0  71.2833         1\n",
       "2         1       3    1  26.0      0      0   7.9250         0\n",
       "3         1       1    1  35.0      1      0  53.1000         0\n",
       "4         0       3    0  35.0      0      0   8.0500         0"
      ]
     },
     "execution_count": 25,
     "metadata": {},
     "output_type": "execute_result"
    }
   ],
   "source": [
    "df['Embarked']=df['Embarked'].replace({'S':0,'C':1,'Q':2})\n",
    "df.head()"
   ]
  },
  {
   "cell_type": "markdown",
   "id": "68283cdf",
   "metadata": {
    "papermill": {
     "duration": 0.019978,
     "end_time": "2024-02-16T11:58:44.137198",
     "exception": false,
     "start_time": "2024-02-16T11:58:44.117220",
     "status": "completed"
    },
    "tags": []
   },
   "source": [
    "According to my research not all the people had their own personal cabin. And from the above two chart we can see that the higher class especially class 1 passengers had cabin and on the basis of cabin the chance of surival depends. So people with out cabin will be filled with N== No cabin "
   ]
  },
  {
   "cell_type": "code",
   "execution_count": 26,
   "id": "63c227db",
   "metadata": {
    "execution": {
     "iopub.execute_input": "2024-02-16T11:58:44.177622Z",
     "iopub.status.busy": "2024-02-16T11:58:44.177278Z",
     "iopub.status.idle": "2024-02-16T11:58:44.189673Z",
     "shell.execute_reply": "2024-02-16T11:58:44.188509Z"
    },
    "papermill": {
     "duration": 0.035503,
     "end_time": "2024-02-16T11:58:44.191995",
     "exception": false,
     "start_time": "2024-02-16T11:58:44.156492",
     "status": "completed"
    },
    "tags": []
   },
   "outputs": [
    {
     "data": {
      "text/html": [
       "<div>\n",
       "<style scoped>\n",
       "    .dataframe tbody tr th:only-of-type {\n",
       "        vertical-align: middle;\n",
       "    }\n",
       "\n",
       "    .dataframe tbody tr th {\n",
       "        vertical-align: top;\n",
       "    }\n",
       "\n",
       "    .dataframe thead th {\n",
       "        text-align: right;\n",
       "    }\n",
       "</style>\n",
       "<table border=\"1\" class=\"dataframe\">\n",
       "  <thead>\n",
       "    <tr style=\"text-align: right;\">\n",
       "      <th></th>\n",
       "      <th>Survived</th>\n",
       "      <th>Pclass</th>\n",
       "      <th>Sex</th>\n",
       "      <th>Age</th>\n",
       "      <th>SibSp</th>\n",
       "      <th>Parch</th>\n",
       "      <th>Fare</th>\n",
       "      <th>Embarked</th>\n",
       "    </tr>\n",
       "  </thead>\n",
       "  <tbody>\n",
       "    <tr>\n",
       "      <th>0</th>\n",
       "      <td>0</td>\n",
       "      <td>3</td>\n",
       "      <td>0</td>\n",
       "      <td>22.0</td>\n",
       "      <td>1</td>\n",
       "      <td>0</td>\n",
       "      <td>7.2500</td>\n",
       "      <td>0</td>\n",
       "    </tr>\n",
       "    <tr>\n",
       "      <th>1</th>\n",
       "      <td>1</td>\n",
       "      <td>1</td>\n",
       "      <td>1</td>\n",
       "      <td>38.0</td>\n",
       "      <td>1</td>\n",
       "      <td>0</td>\n",
       "      <td>71.2833</td>\n",
       "      <td>1</td>\n",
       "    </tr>\n",
       "    <tr>\n",
       "      <th>2</th>\n",
       "      <td>1</td>\n",
       "      <td>3</td>\n",
       "      <td>1</td>\n",
       "      <td>26.0</td>\n",
       "      <td>0</td>\n",
       "      <td>0</td>\n",
       "      <td>7.9250</td>\n",
       "      <td>0</td>\n",
       "    </tr>\n",
       "    <tr>\n",
       "      <th>3</th>\n",
       "      <td>1</td>\n",
       "      <td>1</td>\n",
       "      <td>1</td>\n",
       "      <td>35.0</td>\n",
       "      <td>1</td>\n",
       "      <td>0</td>\n",
       "      <td>53.1000</td>\n",
       "      <td>0</td>\n",
       "    </tr>\n",
       "    <tr>\n",
       "      <th>4</th>\n",
       "      <td>0</td>\n",
       "      <td>3</td>\n",
       "      <td>0</td>\n",
       "      <td>35.0</td>\n",
       "      <td>0</td>\n",
       "      <td>0</td>\n",
       "      <td>8.0500</td>\n",
       "      <td>0</td>\n",
       "    </tr>\n",
       "  </tbody>\n",
       "</table>\n",
       "</div>"
      ],
      "text/plain": [
       "   Survived  Pclass  Sex   Age  SibSp  Parch     Fare  Embarked\n",
       "0         0       3    0  22.0      1      0   7.2500         0\n",
       "1         1       1    1  38.0      1      0  71.2833         1\n",
       "2         1       3    1  26.0      0      0   7.9250         0\n",
       "3         1       1    1  35.0      1      0  53.1000         0\n",
       "4         0       3    0  35.0      0      0   8.0500         0"
      ]
     },
     "execution_count": 26,
     "metadata": {},
     "output_type": "execute_result"
    }
   ],
   "source": [
    "df.head()"
   ]
  },
  {
   "cell_type": "code",
   "execution_count": 27,
   "id": "e0a969b1",
   "metadata": {
    "execution": {
     "iopub.execute_input": "2024-02-16T11:58:44.233073Z",
     "iopub.status.busy": "2024-02-16T11:58:44.232629Z",
     "iopub.status.idle": "2024-02-16T11:58:44.252300Z",
     "shell.execute_reply": "2024-02-16T11:58:44.251164Z"
    },
    "papermill": {
     "duration": 0.043235,
     "end_time": "2024-02-16T11:58:44.254696",
     "exception": false,
     "start_time": "2024-02-16T11:58:44.211461",
     "status": "completed"
    },
    "tags": []
   },
   "outputs": [
    {
     "data": {
      "text/html": [
       "<div>\n",
       "<style scoped>\n",
       "    .dataframe tbody tr th:only-of-type {\n",
       "        vertical-align: middle;\n",
       "    }\n",
       "\n",
       "    .dataframe tbody tr th {\n",
       "        vertical-align: top;\n",
       "    }\n",
       "\n",
       "    .dataframe thead th {\n",
       "        text-align: right;\n",
       "    }\n",
       "</style>\n",
       "<table border=\"1\" class=\"dataframe\">\n",
       "  <thead>\n",
       "    <tr style=\"text-align: right;\">\n",
       "      <th></th>\n",
       "      <th>Age</th>\n",
       "      <th>Fare</th>\n",
       "      <th>Parch</th>\n",
       "      <th>SibSp</th>\n",
       "    </tr>\n",
       "    <tr>\n",
       "      <th>Survived</th>\n",
       "      <th></th>\n",
       "      <th></th>\n",
       "      <th></th>\n",
       "      <th></th>\n",
       "    </tr>\n",
       "  </thead>\n",
       "  <tbody>\n",
       "    <tr>\n",
       "      <th>0</th>\n",
       "      <td>30.402116</td>\n",
       "      <td>22.117887</td>\n",
       "      <td>0.329690</td>\n",
       "      <td>0.553734</td>\n",
       "    </tr>\n",
       "    <tr>\n",
       "      <th>1</th>\n",
       "      <td>28.414879</td>\n",
       "      <td>48.209498</td>\n",
       "      <td>0.467647</td>\n",
       "      <td>0.476471</td>\n",
       "    </tr>\n",
       "  </tbody>\n",
       "</table>\n",
       "</div>"
      ],
      "text/plain": [
       "                Age       Fare     Parch     SibSp\n",
       "Survived                                          \n",
       "0         30.402116  22.117887  0.329690  0.553734\n",
       "1         28.414879  48.209498  0.467647  0.476471"
      ]
     },
     "execution_count": 27,
     "metadata": {},
     "output_type": "execute_result"
    }
   ],
   "source": [
    "df.pivot_table(index='Survived',values=['Age','SibSp','Parch','Fare'])\n",
    "\n"
   ]
  },
  {
   "cell_type": "code",
   "execution_count": 28,
   "id": "5709d768",
   "metadata": {
    "execution": {
     "iopub.execute_input": "2024-02-16T11:58:44.296884Z",
     "iopub.status.busy": "2024-02-16T11:58:44.296464Z",
     "iopub.status.idle": "2024-02-16T11:58:44.317106Z",
     "shell.execute_reply": "2024-02-16T11:58:44.315401Z"
    },
    "papermill": {
     "duration": 0.044935,
     "end_time": "2024-02-16T11:58:44.319546",
     "exception": false,
     "start_time": "2024-02-16T11:58:44.274611",
     "status": "completed"
    },
    "tags": []
   },
   "outputs": [
    {
     "data": {
      "text/html": [
       "<div>\n",
       "<style scoped>\n",
       "    .dataframe tbody tr th:only-of-type {\n",
       "        vertical-align: middle;\n",
       "    }\n",
       "\n",
       "    .dataframe tbody tr th {\n",
       "        vertical-align: top;\n",
       "    }\n",
       "\n",
       "    .dataframe thead th {\n",
       "        text-align: right;\n",
       "    }\n",
       "</style>\n",
       "<table border=\"1\" class=\"dataframe\">\n",
       "  <thead>\n",
       "    <tr style=\"text-align: right;\">\n",
       "      <th>Pclass</th>\n",
       "      <th>1</th>\n",
       "      <th>2</th>\n",
       "      <th>3</th>\n",
       "    </tr>\n",
       "    <tr>\n",
       "      <th>Survived</th>\n",
       "      <th></th>\n",
       "      <th></th>\n",
       "      <th></th>\n",
       "    </tr>\n",
       "  </thead>\n",
       "  <tbody>\n",
       "    <tr>\n",
       "      <th>0</th>\n",
       "      <td>80</td>\n",
       "      <td>97</td>\n",
       "      <td>372</td>\n",
       "    </tr>\n",
       "    <tr>\n",
       "      <th>1</th>\n",
       "      <td>134</td>\n",
       "      <td>87</td>\n",
       "      <td>119</td>\n",
       "    </tr>\n",
       "  </tbody>\n",
       "</table>\n",
       "</div>"
      ],
      "text/plain": [
       "Pclass      1   2    3\n",
       "Survived              \n",
       "0          80  97  372\n",
       "1         134  87  119"
      ]
     },
     "execution_count": 28,
     "metadata": {},
     "output_type": "execute_result"
    }
   ],
   "source": [
    "df.pivot_table(index='Survived',columns='Pclass',values='Fare',aggfunc='count')"
   ]
  },
  {
   "cell_type": "markdown",
   "id": "149a4d1e",
   "metadata": {
    "papermill": {
     "duration": 0.022742,
     "end_time": "2024-02-16T11:58:44.368674",
     "exception": false,
     "start_time": "2024-02-16T11:58:44.345932",
     "status": "completed"
    },
    "tags": []
   },
   "source": [
    "Data Normalization "
   ]
  },
  {
   "cell_type": "code",
   "execution_count": 29,
   "id": "432be749",
   "metadata": {
    "execution": {
     "iopub.execute_input": "2024-02-16T11:58:44.419582Z",
     "iopub.status.busy": "2024-02-16T11:58:44.418927Z",
     "iopub.status.idle": "2024-02-16T11:58:44.430292Z",
     "shell.execute_reply": "2024-02-16T11:58:44.429423Z"
    },
    "papermill": {
     "duration": 0.040748,
     "end_time": "2024-02-16T11:58:44.432485",
     "exception": false,
     "start_time": "2024-02-16T11:58:44.391737",
     "status": "completed"
    },
    "tags": []
   },
   "outputs": [],
   "source": [
    "def min_max_scaling(series):\n",
    "    return (series-series.min())/(series.max()-series.min())\n",
    "for col in df.columns:\n",
    "    df['Age']=min_max_scaling(df['Age'])\n",
    "    df['Fare']=min_max_scaling(df['Fare'])"
   ]
  },
  {
   "cell_type": "code",
   "execution_count": 30,
   "id": "f8a157f5",
   "metadata": {
    "execution": {
     "iopub.execute_input": "2024-02-16T11:58:44.473892Z",
     "iopub.status.busy": "2024-02-16T11:58:44.473280Z",
     "iopub.status.idle": "2024-02-16T11:58:44.485438Z",
     "shell.execute_reply": "2024-02-16T11:58:44.484411Z"
    },
    "papermill": {
     "duration": 0.034994,
     "end_time": "2024-02-16T11:58:44.487267",
     "exception": false,
     "start_time": "2024-02-16T11:58:44.452273",
     "status": "completed"
    },
    "tags": []
   },
   "outputs": [
    {
     "data": {
      "text/html": [
       "<div>\n",
       "<style scoped>\n",
       "    .dataframe tbody tr th:only-of-type {\n",
       "        vertical-align: middle;\n",
       "    }\n",
       "\n",
       "    .dataframe tbody tr th {\n",
       "        vertical-align: top;\n",
       "    }\n",
       "\n",
       "    .dataframe thead th {\n",
       "        text-align: right;\n",
       "    }\n",
       "</style>\n",
       "<table border=\"1\" class=\"dataframe\">\n",
       "  <thead>\n",
       "    <tr style=\"text-align: right;\">\n",
       "      <th></th>\n",
       "      <th>Survived</th>\n",
       "      <th>Pclass</th>\n",
       "      <th>Sex</th>\n",
       "      <th>Age</th>\n",
       "      <th>SibSp</th>\n",
       "      <th>Parch</th>\n",
       "      <th>Fare</th>\n",
       "      <th>Embarked</th>\n",
       "    </tr>\n",
       "  </thead>\n",
       "  <tbody>\n",
       "    <tr>\n",
       "      <th>0</th>\n",
       "      <td>0</td>\n",
       "      <td>3</td>\n",
       "      <td>0</td>\n",
       "      <td>0.271174</td>\n",
       "      <td>1</td>\n",
       "      <td>0</td>\n",
       "      <td>0.014151</td>\n",
       "      <td>0</td>\n",
       "    </tr>\n",
       "    <tr>\n",
       "      <th>1</th>\n",
       "      <td>1</td>\n",
       "      <td>1</td>\n",
       "      <td>1</td>\n",
       "      <td>0.472229</td>\n",
       "      <td>1</td>\n",
       "      <td>0</td>\n",
       "      <td>0.139136</td>\n",
       "      <td>1</td>\n",
       "    </tr>\n",
       "    <tr>\n",
       "      <th>2</th>\n",
       "      <td>1</td>\n",
       "      <td>3</td>\n",
       "      <td>1</td>\n",
       "      <td>0.321438</td>\n",
       "      <td>0</td>\n",
       "      <td>0</td>\n",
       "      <td>0.015469</td>\n",
       "      <td>0</td>\n",
       "    </tr>\n",
       "    <tr>\n",
       "      <th>3</th>\n",
       "      <td>1</td>\n",
       "      <td>1</td>\n",
       "      <td>1</td>\n",
       "      <td>0.434531</td>\n",
       "      <td>1</td>\n",
       "      <td>0</td>\n",
       "      <td>0.103644</td>\n",
       "      <td>0</td>\n",
       "    </tr>\n",
       "    <tr>\n",
       "      <th>4</th>\n",
       "      <td>0</td>\n",
       "      <td>3</td>\n",
       "      <td>0</td>\n",
       "      <td>0.434531</td>\n",
       "      <td>0</td>\n",
       "      <td>0</td>\n",
       "      <td>0.015713</td>\n",
       "      <td>0</td>\n",
       "    </tr>\n",
       "  </tbody>\n",
       "</table>\n",
       "</div>"
      ],
      "text/plain": [
       "   Survived  Pclass  Sex       Age  SibSp  Parch      Fare  Embarked\n",
       "0         0       3    0  0.271174      1      0  0.014151         0\n",
       "1         1       1    1  0.472229      1      0  0.139136         1\n",
       "2         1       3    1  0.321438      0      0  0.015469         0\n",
       "3         1       1    1  0.434531      1      0  0.103644         0\n",
       "4         0       3    0  0.434531      0      0  0.015713         0"
      ]
     },
     "execution_count": 30,
     "metadata": {},
     "output_type": "execute_result"
    }
   ],
   "source": [
    "df.head()"
   ]
  },
  {
   "cell_type": "markdown",
   "id": "8dc1d9a4",
   "metadata": {
    "papermill": {
     "duration": 0.019627,
     "end_time": "2024-02-16T11:58:44.527093",
     "exception": false,
     "start_time": "2024-02-16T11:58:44.507466",
     "status": "completed"
    },
    "tags": []
   },
   "source": [
    "Model training "
   ]
  },
  {
   "cell_type": "code",
   "execution_count": 31,
   "id": "9c29a962",
   "metadata": {
    "execution": {
     "iopub.execute_input": "2024-02-16T11:58:44.570605Z",
     "iopub.status.busy": "2024-02-16T11:58:44.570249Z",
     "iopub.status.idle": "2024-02-16T11:58:44.576272Z",
     "shell.execute_reply": "2024-02-16T11:58:44.574582Z"
    },
    "papermill": {
     "duration": 0.030386,
     "end_time": "2024-02-16T11:58:44.578831",
     "exception": false,
     "start_time": "2024-02-16T11:58:44.548445",
     "status": "completed"
    },
    "tags": []
   },
   "outputs": [],
   "source": [
    "#splitting labeled and features into X and y\n",
    "X=df.iloc[:,:-1]; y=df.iloc[:,-1]"
   ]
  },
  {
   "cell_type": "code",
   "execution_count": 32,
   "id": "b760cf8e",
   "metadata": {
    "execution": {
     "iopub.execute_input": "2024-02-16T11:58:44.621945Z",
     "iopub.status.busy": "2024-02-16T11:58:44.621601Z",
     "iopub.status.idle": "2024-02-16T11:58:44.628812Z",
     "shell.execute_reply": "2024-02-16T11:58:44.627537Z"
    },
    "papermill": {
     "duration": 0.031047,
     "end_time": "2024-02-16T11:58:44.631189",
     "exception": false,
     "start_time": "2024-02-16T11:58:44.600142",
     "status": "completed"
    },
    "tags": []
   },
   "outputs": [
    {
     "data": {
      "text/plain": [
       "(889, 7)"
      ]
     },
     "execution_count": 32,
     "metadata": {},
     "output_type": "execute_result"
    }
   ],
   "source": [
    "X.shape"
   ]
  },
  {
   "cell_type": "code",
   "execution_count": 33,
   "id": "8b6913a8",
   "metadata": {
    "execution": {
     "iopub.execute_input": "2024-02-16T11:58:44.673891Z",
     "iopub.status.busy": "2024-02-16T11:58:44.673566Z",
     "iopub.status.idle": "2024-02-16T11:58:44.680221Z",
     "shell.execute_reply": "2024-02-16T11:58:44.678862Z"
    },
    "papermill": {
     "duration": 0.031285,
     "end_time": "2024-02-16T11:58:44.682585",
     "exception": false,
     "start_time": "2024-02-16T11:58:44.651300",
     "status": "completed"
    },
    "tags": []
   },
   "outputs": [
    {
     "data": {
      "text/plain": [
       "(889,)"
      ]
     },
     "execution_count": 33,
     "metadata": {},
     "output_type": "execute_result"
    }
   ],
   "source": [
    "y.shape"
   ]
  },
  {
   "cell_type": "code",
   "execution_count": 34,
   "id": "40d4b53e",
   "metadata": {
    "execution": {
     "iopub.execute_input": "2024-02-16T11:58:44.731015Z",
     "iopub.status.busy": "2024-02-16T11:58:44.730594Z",
     "iopub.status.idle": "2024-02-16T11:58:44.741489Z",
     "shell.execute_reply": "2024-02-16T11:58:44.739972Z"
    },
    "papermill": {
     "duration": 0.039204,
     "end_time": "2024-02-16T11:58:44.744912",
     "exception": false,
     "start_time": "2024-02-16T11:58:44.705708",
     "status": "completed"
    },
    "tags": []
   },
   "outputs": [
    {
     "data": {
      "text/plain": [
       "Survived    0\n",
       "Pclass      0\n",
       "Sex         0\n",
       "Age         0\n",
       "SibSp       0\n",
       "Parch       0\n",
       "Fare        0\n",
       "Embarked    0\n",
       "dtype: int64"
      ]
     },
     "execution_count": 34,
     "metadata": {},
     "output_type": "execute_result"
    }
   ],
   "source": [
    "df.isna().sum()"
   ]
  },
  {
   "cell_type": "code",
   "execution_count": 35,
   "id": "b38a365c",
   "metadata": {
    "execution": {
     "iopub.execute_input": "2024-02-16T11:58:44.790036Z",
     "iopub.status.busy": "2024-02-16T11:58:44.789666Z",
     "iopub.status.idle": "2024-02-16T11:58:44.797560Z",
     "shell.execute_reply": "2024-02-16T11:58:44.796132Z"
    },
    "papermill": {
     "duration": 0.032878,
     "end_time": "2024-02-16T11:58:44.800313",
     "exception": false,
     "start_time": "2024-02-16T11:58:44.767435",
     "status": "completed"
    },
    "tags": []
   },
   "outputs": [],
   "source": [
    "from sklearn.model_selection import train_test_split\n",
    "X_train,X_test,y_train,y_test=train_test_split(X,y,test_size=0.2,random_state=1)"
   ]
  },
  {
   "cell_type": "code",
   "execution_count": 36,
   "id": "d8536b72",
   "metadata": {
    "execution": {
     "iopub.execute_input": "2024-02-16T11:58:44.844231Z",
     "iopub.status.busy": "2024-02-16T11:58:44.843806Z",
     "iopub.status.idle": "2024-02-16T11:58:44.849806Z",
     "shell.execute_reply": "2024-02-16T11:58:44.848541Z"
    },
    "papermill": {
     "duration": 0.02944,
     "end_time": "2024-02-16T11:58:44.852238",
     "exception": false,
     "start_time": "2024-02-16T11:58:44.822798",
     "status": "completed"
    },
    "tags": []
   },
   "outputs": [
    {
     "data": {
      "text/plain": [
       "(711, 7)"
      ]
     },
     "execution_count": 36,
     "metadata": {},
     "output_type": "execute_result"
    }
   ],
   "source": [
    "X_train.shape"
   ]
  },
  {
   "cell_type": "code",
   "execution_count": 37,
   "id": "e3435abc",
   "metadata": {
    "execution": {
     "iopub.execute_input": "2024-02-16T11:58:44.895310Z",
     "iopub.status.busy": "2024-02-16T11:58:44.894963Z",
     "iopub.status.idle": "2024-02-16T11:58:44.900054Z",
     "shell.execute_reply": "2024-02-16T11:58:44.898557Z"
    },
    "papermill": {
     "duration": 0.029953,
     "end_time": "2024-02-16T11:58:44.902582",
     "exception": false,
     "start_time": "2024-02-16T11:58:44.872629",
     "status": "completed"
    },
    "tags": []
   },
   "outputs": [],
   "source": [
    "model_lr=LogisticRegression(max_iter=2000)"
   ]
  },
  {
   "cell_type": "code",
   "execution_count": 38,
   "id": "e5332aa5",
   "metadata": {
    "execution": {
     "iopub.execute_input": "2024-02-16T11:58:44.946734Z",
     "iopub.status.busy": "2024-02-16T11:58:44.946427Z",
     "iopub.status.idle": "2024-02-16T11:58:44.987446Z",
     "shell.execute_reply": "2024-02-16T11:58:44.986144Z"
    },
    "papermill": {
     "duration": 0.066165,
     "end_time": "2024-02-16T11:58:44.989906",
     "exception": false,
     "start_time": "2024-02-16T11:58:44.923741",
     "status": "completed"
    },
    "tags": []
   },
   "outputs": [
    {
     "data": {
      "text/html": [
       "<style>#sk-container-id-1 {color: black;background-color: white;}#sk-container-id-1 pre{padding: 0;}#sk-container-id-1 div.sk-toggleable {background-color: white;}#sk-container-id-1 label.sk-toggleable__label {cursor: pointer;display: block;width: 100%;margin-bottom: 0;padding: 0.3em;box-sizing: border-box;text-align: center;}#sk-container-id-1 label.sk-toggleable__label-arrow:before {content: \"▸\";float: left;margin-right: 0.25em;color: #696969;}#sk-container-id-1 label.sk-toggleable__label-arrow:hover:before {color: black;}#sk-container-id-1 div.sk-estimator:hover label.sk-toggleable__label-arrow:before {color: black;}#sk-container-id-1 div.sk-toggleable__content {max-height: 0;max-width: 0;overflow: hidden;text-align: left;background-color: #f0f8ff;}#sk-container-id-1 div.sk-toggleable__content pre {margin: 0.2em;color: black;border-radius: 0.25em;background-color: #f0f8ff;}#sk-container-id-1 input.sk-toggleable__control:checked~div.sk-toggleable__content {max-height: 200px;max-width: 100%;overflow: auto;}#sk-container-id-1 input.sk-toggleable__control:checked~label.sk-toggleable__label-arrow:before {content: \"▾\";}#sk-container-id-1 div.sk-estimator input.sk-toggleable__control:checked~label.sk-toggleable__label {background-color: #d4ebff;}#sk-container-id-1 div.sk-label input.sk-toggleable__control:checked~label.sk-toggleable__label {background-color: #d4ebff;}#sk-container-id-1 input.sk-hidden--visually {border: 0;clip: rect(1px 1px 1px 1px);clip: rect(1px, 1px, 1px, 1px);height: 1px;margin: -1px;overflow: hidden;padding: 0;position: absolute;width: 1px;}#sk-container-id-1 div.sk-estimator {font-family: monospace;background-color: #f0f8ff;border: 1px dotted black;border-radius: 0.25em;box-sizing: border-box;margin-bottom: 0.5em;}#sk-container-id-1 div.sk-estimator:hover {background-color: #d4ebff;}#sk-container-id-1 div.sk-parallel-item::after {content: \"\";width: 100%;border-bottom: 1px solid gray;flex-grow: 1;}#sk-container-id-1 div.sk-label:hover label.sk-toggleable__label {background-color: #d4ebff;}#sk-container-id-1 div.sk-serial::before {content: \"\";position: absolute;border-left: 1px solid gray;box-sizing: border-box;top: 0;bottom: 0;left: 50%;z-index: 0;}#sk-container-id-1 div.sk-serial {display: flex;flex-direction: column;align-items: center;background-color: white;padding-right: 0.2em;padding-left: 0.2em;position: relative;}#sk-container-id-1 div.sk-item {position: relative;z-index: 1;}#sk-container-id-1 div.sk-parallel {display: flex;align-items: stretch;justify-content: center;background-color: white;position: relative;}#sk-container-id-1 div.sk-item::before, #sk-container-id-1 div.sk-parallel-item::before {content: \"\";position: absolute;border-left: 1px solid gray;box-sizing: border-box;top: 0;bottom: 0;left: 50%;z-index: -1;}#sk-container-id-1 div.sk-parallel-item {display: flex;flex-direction: column;z-index: 1;position: relative;background-color: white;}#sk-container-id-1 div.sk-parallel-item:first-child::after {align-self: flex-end;width: 50%;}#sk-container-id-1 div.sk-parallel-item:last-child::after {align-self: flex-start;width: 50%;}#sk-container-id-1 div.sk-parallel-item:only-child::after {width: 0;}#sk-container-id-1 div.sk-dashed-wrapped {border: 1px dashed gray;margin: 0 0.4em 0.5em 0.4em;box-sizing: border-box;padding-bottom: 0.4em;background-color: white;}#sk-container-id-1 div.sk-label label {font-family: monospace;font-weight: bold;display: inline-block;line-height: 1.2em;}#sk-container-id-1 div.sk-label-container {text-align: center;}#sk-container-id-1 div.sk-container {/* jupyter's `normalize.less` sets `[hidden] { display: none; }` but bootstrap.min.css set `[hidden] { display: none !important; }` so we also need the `!important` here to be able to override the default hidden behavior on the sphinx rendered scikit-learn.org. See: https://github.com/scikit-learn/scikit-learn/issues/21755 */display: inline-block !important;position: relative;}#sk-container-id-1 div.sk-text-repr-fallback {display: none;}</style><div id=\"sk-container-id-1\" class=\"sk-top-container\"><div class=\"sk-text-repr-fallback\"><pre>LogisticRegression(max_iter=2000)</pre><b>In a Jupyter environment, please rerun this cell to show the HTML representation or trust the notebook. <br />On GitHub, the HTML representation is unable to render, please try loading this page with nbviewer.org.</b></div><div class=\"sk-container\" hidden><div class=\"sk-item\"><div class=\"sk-estimator sk-toggleable\"><input class=\"sk-toggleable__control sk-hidden--visually\" id=\"sk-estimator-id-1\" type=\"checkbox\" checked><label for=\"sk-estimator-id-1\" class=\"sk-toggleable__label sk-toggleable__label-arrow\">LogisticRegression</label><div class=\"sk-toggleable__content\"><pre>LogisticRegression(max_iter=2000)</pre></div></div></div></div></div>"
      ],
      "text/plain": [
       "LogisticRegression(max_iter=2000)"
      ]
     },
     "execution_count": 38,
     "metadata": {},
     "output_type": "execute_result"
    }
   ],
   "source": [
    "model_lr.fit(X_train,y_train)"
   ]
  },
  {
   "cell_type": "code",
   "execution_count": 39,
   "id": "ddaf4b27",
   "metadata": {
    "execution": {
     "iopub.execute_input": "2024-02-16T11:58:45.034689Z",
     "iopub.status.busy": "2024-02-16T11:58:45.033924Z",
     "iopub.status.idle": "2024-02-16T11:58:45.042529Z",
     "shell.execute_reply": "2024-02-16T11:58:45.040222Z"
    },
    "papermill": {
     "duration": 0.034066,
     "end_time": "2024-02-16T11:58:45.045548",
     "exception": false,
     "start_time": "2024-02-16T11:58:45.011482",
     "status": "completed"
    },
    "tags": []
   },
   "outputs": [],
   "source": [
    "Y_predict=model_lr.predict(X_train)"
   ]
  },
  {
   "cell_type": "code",
   "execution_count": 40,
   "id": "16f75b7c",
   "metadata": {
    "execution": {
     "iopub.execute_input": "2024-02-16T11:58:45.090158Z",
     "iopub.status.busy": "2024-02-16T11:58:45.089794Z",
     "iopub.status.idle": "2024-02-16T11:58:45.095220Z",
     "shell.execute_reply": "2024-02-16T11:58:45.093549Z"
    },
    "papermill": {
     "duration": 0.029645,
     "end_time": "2024-02-16T11:58:45.097473",
     "exception": false,
     "start_time": "2024-02-16T11:58:45.067828",
     "status": "completed"
    },
    "tags": []
   },
   "outputs": [],
   "source": [
    "from sklearn.metrics import accuracy_score"
   ]
  },
  {
   "cell_type": "code",
   "execution_count": 41,
   "id": "172e4b8d",
   "metadata": {
    "execution": {
     "iopub.execute_input": "2024-02-16T11:58:45.141709Z",
     "iopub.status.busy": "2024-02-16T11:58:45.141387Z",
     "iopub.status.idle": "2024-02-16T11:58:45.150254Z",
     "shell.execute_reply": "2024-02-16T11:58:45.148926Z"
    },
    "papermill": {
     "duration": 0.033774,
     "end_time": "2024-02-16T11:58:45.152793",
     "exception": false,
     "start_time": "2024-02-16T11:58:45.119019",
     "status": "completed"
    },
    "tags": []
   },
   "outputs": [
    {
     "data": {
      "text/plain": [
       "0.7187060478199718"
      ]
     },
     "execution_count": 41,
     "metadata": {},
     "output_type": "execute_result"
    }
   ],
   "source": [
    "accuracy_score(y_train,Y_predict)"
   ]
  },
  {
   "cell_type": "code",
   "execution_count": 42,
   "id": "2538cbdb",
   "metadata": {
    "execution": {
     "iopub.execute_input": "2024-02-16T11:58:45.198356Z",
     "iopub.status.busy": "2024-02-16T11:58:45.198024Z",
     "iopub.status.idle": "2024-02-16T11:58:45.204820Z",
     "shell.execute_reply": "2024-02-16T11:58:45.203483Z"
    },
    "papermill": {
     "duration": 0.03287,
     "end_time": "2024-02-16T11:58:45.207334",
     "exception": false,
     "start_time": "2024-02-16T11:58:45.174464",
     "status": "completed"
    },
    "tags": []
   },
   "outputs": [],
   "source": [
    "Y_test_predict=model_lr.predict(X_test)"
   ]
  },
  {
   "cell_type": "code",
   "execution_count": 43,
   "id": "dd905150",
   "metadata": {
    "execution": {
     "iopub.execute_input": "2024-02-16T11:58:45.250237Z",
     "iopub.status.busy": "2024-02-16T11:58:45.249813Z",
     "iopub.status.idle": "2024-02-16T11:58:45.259355Z",
     "shell.execute_reply": "2024-02-16T11:58:45.258140Z"
    },
    "papermill": {
     "duration": 0.033372,
     "end_time": "2024-02-16T11:58:45.261453",
     "exception": false,
     "start_time": "2024-02-16T11:58:45.228081",
     "status": "completed"
    },
    "tags": []
   },
   "outputs": [
    {
     "data": {
      "text/plain": [
       "0.7471910112359551"
      ]
     },
     "execution_count": 43,
     "metadata": {},
     "output_type": "execute_result"
    }
   ],
   "source": [
    "accuracy_score(y_test,Y_test_predict)"
   ]
  },
  {
   "cell_type": "markdown",
   "id": "ebdeb617",
   "metadata": {
    "papermill": {
     "duration": 0.021382,
     "end_time": "2024-02-16T11:58:45.303936",
     "exception": false,
     "start_time": "2024-02-16T11:58:45.282554",
     "status": "completed"
    },
    "tags": []
   },
   "source": [
    "So there seems to be slight underfitting of the model. It may be beacuse of less data"
   ]
  },
  {
   "cell_type": "markdown",
   "id": "73fa88b2",
   "metadata": {
    "papermill": {
     "duration": 0.021193,
     "end_time": "2024-02-16T11:58:45.346431",
     "exception": false,
     "start_time": "2024-02-16T11:58:45.325238",
     "status": "completed"
    },
    "tags": []
   },
   "source": [
    "Trying an SVM model"
   ]
  },
  {
   "cell_type": "code",
   "execution_count": 44,
   "id": "3656d90b",
   "metadata": {
    "execution": {
     "iopub.execute_input": "2024-02-16T11:58:45.388977Z",
     "iopub.status.busy": "2024-02-16T11:58:45.388529Z",
     "iopub.status.idle": "2024-02-16T11:58:45.393238Z",
     "shell.execute_reply": "2024-02-16T11:58:45.392499Z"
    },
    "papermill": {
     "duration": 0.028425,
     "end_time": "2024-02-16T11:58:45.395094",
     "exception": false,
     "start_time": "2024-02-16T11:58:45.366669",
     "status": "completed"
    },
    "tags": []
   },
   "outputs": [],
   "source": [
    "linear_SVM=LinearSVC()"
   ]
  },
  {
   "cell_type": "code",
   "execution_count": 45,
   "id": "45ef5480",
   "metadata": {
    "execution": {
     "iopub.execute_input": "2024-02-16T11:58:45.438196Z",
     "iopub.status.busy": "2024-02-16T11:58:45.437884Z",
     "iopub.status.idle": "2024-02-16T11:58:45.544259Z",
     "shell.execute_reply": "2024-02-16T11:58:45.542365Z"
    },
    "papermill": {
     "duration": 0.131173,
     "end_time": "2024-02-16T11:58:45.547327",
     "exception": false,
     "start_time": "2024-02-16T11:58:45.416154",
     "status": "completed"
    },
    "tags": []
   },
   "outputs": [
    {
     "name": "stderr",
     "output_type": "stream",
     "text": [
      "/opt/conda/lib/python3.10/site-packages/sklearn/svm/_base.py:1244: ConvergenceWarning: Liblinear failed to converge, increase the number of iterations.\n",
      "  warnings.warn(\n"
     ]
    },
    {
     "data": {
      "text/html": [
       "<style>#sk-container-id-2 {color: black;background-color: white;}#sk-container-id-2 pre{padding: 0;}#sk-container-id-2 div.sk-toggleable {background-color: white;}#sk-container-id-2 label.sk-toggleable__label {cursor: pointer;display: block;width: 100%;margin-bottom: 0;padding: 0.3em;box-sizing: border-box;text-align: center;}#sk-container-id-2 label.sk-toggleable__label-arrow:before {content: \"▸\";float: left;margin-right: 0.25em;color: #696969;}#sk-container-id-2 label.sk-toggleable__label-arrow:hover:before {color: black;}#sk-container-id-2 div.sk-estimator:hover label.sk-toggleable__label-arrow:before {color: black;}#sk-container-id-2 div.sk-toggleable__content {max-height: 0;max-width: 0;overflow: hidden;text-align: left;background-color: #f0f8ff;}#sk-container-id-2 div.sk-toggleable__content pre {margin: 0.2em;color: black;border-radius: 0.25em;background-color: #f0f8ff;}#sk-container-id-2 input.sk-toggleable__control:checked~div.sk-toggleable__content {max-height: 200px;max-width: 100%;overflow: auto;}#sk-container-id-2 input.sk-toggleable__control:checked~label.sk-toggleable__label-arrow:before {content: \"▾\";}#sk-container-id-2 div.sk-estimator input.sk-toggleable__control:checked~label.sk-toggleable__label {background-color: #d4ebff;}#sk-container-id-2 div.sk-label input.sk-toggleable__control:checked~label.sk-toggleable__label {background-color: #d4ebff;}#sk-container-id-2 input.sk-hidden--visually {border: 0;clip: rect(1px 1px 1px 1px);clip: rect(1px, 1px, 1px, 1px);height: 1px;margin: -1px;overflow: hidden;padding: 0;position: absolute;width: 1px;}#sk-container-id-2 div.sk-estimator {font-family: monospace;background-color: #f0f8ff;border: 1px dotted black;border-radius: 0.25em;box-sizing: border-box;margin-bottom: 0.5em;}#sk-container-id-2 div.sk-estimator:hover {background-color: #d4ebff;}#sk-container-id-2 div.sk-parallel-item::after {content: \"\";width: 100%;border-bottom: 1px solid gray;flex-grow: 1;}#sk-container-id-2 div.sk-label:hover label.sk-toggleable__label {background-color: #d4ebff;}#sk-container-id-2 div.sk-serial::before {content: \"\";position: absolute;border-left: 1px solid gray;box-sizing: border-box;top: 0;bottom: 0;left: 50%;z-index: 0;}#sk-container-id-2 div.sk-serial {display: flex;flex-direction: column;align-items: center;background-color: white;padding-right: 0.2em;padding-left: 0.2em;position: relative;}#sk-container-id-2 div.sk-item {position: relative;z-index: 1;}#sk-container-id-2 div.sk-parallel {display: flex;align-items: stretch;justify-content: center;background-color: white;position: relative;}#sk-container-id-2 div.sk-item::before, #sk-container-id-2 div.sk-parallel-item::before {content: \"\";position: absolute;border-left: 1px solid gray;box-sizing: border-box;top: 0;bottom: 0;left: 50%;z-index: -1;}#sk-container-id-2 div.sk-parallel-item {display: flex;flex-direction: column;z-index: 1;position: relative;background-color: white;}#sk-container-id-2 div.sk-parallel-item:first-child::after {align-self: flex-end;width: 50%;}#sk-container-id-2 div.sk-parallel-item:last-child::after {align-self: flex-start;width: 50%;}#sk-container-id-2 div.sk-parallel-item:only-child::after {width: 0;}#sk-container-id-2 div.sk-dashed-wrapped {border: 1px dashed gray;margin: 0 0.4em 0.5em 0.4em;box-sizing: border-box;padding-bottom: 0.4em;background-color: white;}#sk-container-id-2 div.sk-label label {font-family: monospace;font-weight: bold;display: inline-block;line-height: 1.2em;}#sk-container-id-2 div.sk-label-container {text-align: center;}#sk-container-id-2 div.sk-container {/* jupyter's `normalize.less` sets `[hidden] { display: none; }` but bootstrap.min.css set `[hidden] { display: none !important; }` so we also need the `!important` here to be able to override the default hidden behavior on the sphinx rendered scikit-learn.org. See: https://github.com/scikit-learn/scikit-learn/issues/21755 */display: inline-block !important;position: relative;}#sk-container-id-2 div.sk-text-repr-fallback {display: none;}</style><div id=\"sk-container-id-2\" class=\"sk-top-container\"><div class=\"sk-text-repr-fallback\"><pre>LinearSVC()</pre><b>In a Jupyter environment, please rerun this cell to show the HTML representation or trust the notebook. <br />On GitHub, the HTML representation is unable to render, please try loading this page with nbviewer.org.</b></div><div class=\"sk-container\" hidden><div class=\"sk-item\"><div class=\"sk-estimator sk-toggleable\"><input class=\"sk-toggleable__control sk-hidden--visually\" id=\"sk-estimator-id-2\" type=\"checkbox\" checked><label for=\"sk-estimator-id-2\" class=\"sk-toggleable__label sk-toggleable__label-arrow\">LinearSVC</label><div class=\"sk-toggleable__content\"><pre>LinearSVC()</pre></div></div></div></div></div>"
      ],
      "text/plain": [
       "LinearSVC()"
      ]
     },
     "execution_count": 45,
     "metadata": {},
     "output_type": "execute_result"
    }
   ],
   "source": [
    "linear_SVM.fit(X_train,y_train)"
   ]
  },
  {
   "cell_type": "code",
   "execution_count": 46,
   "id": "62c870e3",
   "metadata": {
    "execution": {
     "iopub.execute_input": "2024-02-16T11:58:45.590946Z",
     "iopub.status.busy": "2024-02-16T11:58:45.590554Z",
     "iopub.status.idle": "2024-02-16T11:58:45.597263Z",
     "shell.execute_reply": "2024-02-16T11:58:45.596291Z"
    },
    "papermill": {
     "duration": 0.030464,
     "end_time": "2024-02-16T11:58:45.598891",
     "exception": false,
     "start_time": "2024-02-16T11:58:45.568427",
     "status": "completed"
    },
    "tags": []
   },
   "outputs": [],
   "source": [
    "y_predict_svm=linear_SVM.predict(X_train)"
   ]
  },
  {
   "cell_type": "code",
   "execution_count": 47,
   "id": "c04a74cf",
   "metadata": {
    "execution": {
     "iopub.execute_input": "2024-02-16T11:58:45.641205Z",
     "iopub.status.busy": "2024-02-16T11:58:45.640878Z",
     "iopub.status.idle": "2024-02-16T11:58:45.649942Z",
     "shell.execute_reply": "2024-02-16T11:58:45.648838Z"
    },
    "papermill": {
     "duration": 0.032985,
     "end_time": "2024-02-16T11:58:45.652325",
     "exception": false,
     "start_time": "2024-02-16T11:58:45.619340",
     "status": "completed"
    },
    "tags": []
   },
   "outputs": [
    {
     "data": {
      "text/plain": [
       "0.7215189873417721"
      ]
     },
     "execution_count": 47,
     "metadata": {},
     "output_type": "execute_result"
    }
   ],
   "source": [
    "accuracy_score(y_predict_svm,y_train)"
   ]
  },
  {
   "cell_type": "code",
   "execution_count": 48,
   "id": "9340c952",
   "metadata": {
    "execution": {
     "iopub.execute_input": "2024-02-16T11:58:45.695718Z",
     "iopub.status.busy": "2024-02-16T11:58:45.695412Z",
     "iopub.status.idle": "2024-02-16T11:58:45.701269Z",
     "shell.execute_reply": "2024-02-16T11:58:45.700229Z"
    },
    "papermill": {
     "duration": 0.030344,
     "end_time": "2024-02-16T11:58:45.703655",
     "exception": false,
     "start_time": "2024-02-16T11:58:45.673311",
     "status": "completed"
    },
    "tags": []
   },
   "outputs": [],
   "source": [
    "y_predict_svm_test=linear_SVM.predict(X_test)"
   ]
  },
  {
   "cell_type": "code",
   "execution_count": 49,
   "id": "b158aba6",
   "metadata": {
    "execution": {
     "iopub.execute_input": "2024-02-16T11:58:45.747314Z",
     "iopub.status.busy": "2024-02-16T11:58:45.746971Z",
     "iopub.status.idle": "2024-02-16T11:58:45.755419Z",
     "shell.execute_reply": "2024-02-16T11:58:45.753926Z"
    },
    "papermill": {
     "duration": 0.032976,
     "end_time": "2024-02-16T11:58:45.757953",
     "exception": false,
     "start_time": "2024-02-16T11:58:45.724977",
     "status": "completed"
    },
    "tags": []
   },
   "outputs": [
    {
     "data": {
      "text/plain": [
       "0.7640449438202247"
      ]
     },
     "execution_count": 49,
     "metadata": {},
     "output_type": "execute_result"
    }
   ],
   "source": [
    "accuracy_score(y_predict_svm_test,y_test)"
   ]
  },
  {
   "cell_type": "markdown",
   "id": "645aea24",
   "metadata": {
    "papermill": {
     "duration": 0.021185,
     "end_time": "2024-02-16T11:58:45.800398",
     "exception": false,
     "start_time": "2024-02-16T11:58:45.779213",
     "status": "completed"
    },
    "tags": []
   },
   "source": [
    "Using kernal trick with SVM to see if it can perform better\n"
   ]
  },
  {
   "cell_type": "code",
   "execution_count": 50,
   "id": "b5502e1e",
   "metadata": {
    "execution": {
     "iopub.execute_input": "2024-02-16T11:58:45.845237Z",
     "iopub.status.busy": "2024-02-16T11:58:45.844866Z",
     "iopub.status.idle": "2024-02-16T11:58:45.886871Z",
     "shell.execute_reply": "2024-02-16T11:58:45.885163Z"
    },
    "papermill": {
     "duration": 0.06767,
     "end_time": "2024-02-16T11:58:45.889399",
     "exception": false,
     "start_time": "2024-02-16T11:58:45.821729",
     "status": "completed"
    },
    "tags": []
   },
   "outputs": [],
   "source": [
    "from sklearn import svm\n",
    "\n",
    "clf = svm.SVC(kernel='rbf')  # 'rbf' stands for Radial Basis Function, a common choice for the kernel\n",
    "clf.fit(X_train, y_train)\n",
    "\n",
    "y_pred = clf.predict(X_test)\n",
    "y_pred_train=clf.predict(X_train)\n"
   ]
  },
  {
   "cell_type": "code",
   "execution_count": 51,
   "id": "a74266d4",
   "metadata": {
    "execution": {
     "iopub.execute_input": "2024-02-16T11:58:45.933193Z",
     "iopub.status.busy": "2024-02-16T11:58:45.932839Z",
     "iopub.status.idle": "2024-02-16T11:58:45.941456Z",
     "shell.execute_reply": "2024-02-16T11:58:45.940589Z"
    },
    "papermill": {
     "duration": 0.032615,
     "end_time": "2024-02-16T11:58:45.943119",
     "exception": false,
     "start_time": "2024-02-16T11:58:45.910504",
     "status": "completed"
    },
    "tags": []
   },
   "outputs": [
    {
     "data": {
      "text/plain": [
       "0.7303370786516854"
      ]
     },
     "execution_count": 51,
     "metadata": {},
     "output_type": "execute_result"
    }
   ],
   "source": [
    "accuracy_score(y_pred,y_test)"
   ]
  },
  {
   "cell_type": "code",
   "execution_count": 52,
   "id": "993b04c8",
   "metadata": {
    "execution": {
     "iopub.execute_input": "2024-02-16T11:58:45.987178Z",
     "iopub.status.busy": "2024-02-16T11:58:45.986856Z",
     "iopub.status.idle": "2024-02-16T11:58:45.998327Z",
     "shell.execute_reply": "2024-02-16T11:58:45.997413Z"
    },
    "papermill": {
     "duration": 0.036203,
     "end_time": "2024-02-16T11:58:46.000476",
     "exception": false,
     "start_time": "2024-02-16T11:58:45.964273",
     "status": "completed"
    },
    "tags": []
   },
   "outputs": [
    {
     "data": {
      "text/plain": [
       "0.7229254571026723"
      ]
     },
     "execution_count": 52,
     "metadata": {},
     "output_type": "execute_result"
    }
   ],
   "source": [
    "accuracy_score(y_pred_train,y_train)"
   ]
  },
  {
   "cell_type": "code",
   "execution_count": 53,
   "id": "207e2221",
   "metadata": {
    "execution": {
     "iopub.execute_input": "2024-02-16T11:58:46.047070Z",
     "iopub.status.busy": "2024-02-16T11:58:46.046387Z",
     "iopub.status.idle": "2024-02-16T11:58:46.089462Z",
     "shell.execute_reply": "2024-02-16T11:58:46.088316Z"
    },
    "papermill": {
     "duration": 0.069397,
     "end_time": "2024-02-16T11:58:46.091918",
     "exception": false,
     "start_time": "2024-02-16T11:58:46.022521",
     "status": "completed"
    },
    "tags": []
   },
   "outputs": [],
   "source": [
    "#using plynomial kernal for svm \n",
    "svm_poly=svm.SVC(kernel=\"poly\")\n",
    "svm_poly.fit(X_train,y_train)\n",
    "Y_pred_svm_train=svm_poly.predict(X_train)\n",
    "Y_pred_svm_test=svm_poly.predict(X_test)"
   ]
  },
  {
   "cell_type": "code",
   "execution_count": 54,
   "id": "29d483b1",
   "metadata": {
    "execution": {
     "iopub.execute_input": "2024-02-16T11:58:46.137598Z",
     "iopub.status.busy": "2024-02-16T11:58:46.137247Z",
     "iopub.status.idle": "2024-02-16T11:58:46.146460Z",
     "shell.execute_reply": "2024-02-16T11:58:46.144954Z"
    },
    "papermill": {
     "duration": 0.03449,
     "end_time": "2024-02-16T11:58:46.148645",
     "exception": false,
     "start_time": "2024-02-16T11:58:46.114155",
     "status": "completed"
    },
    "tags": []
   },
   "outputs": [
    {
     "name": "stdout",
     "output_type": "stream",
     "text": [
      "The training accuracy is 0.7229254571026723\n",
      "The test accuracy is 0.7303370786516854\n"
     ]
    }
   ],
   "source": [
    "print(f\"The training accuracy is {accuracy_score(Y_pred_svm_train,y_train)}\")\n",
    "print(f\"The test accuracy is {accuracy_score(Y_pred_svm_test,y_test)}\")"
   ]
  },
  {
   "cell_type": "code",
   "execution_count": 55,
   "id": "1588e009",
   "metadata": {
    "execution": {
     "iopub.execute_input": "2024-02-16T11:58:46.193385Z",
     "iopub.status.busy": "2024-02-16T11:58:46.193053Z",
     "iopub.status.idle": "2024-02-16T11:58:46.234664Z",
     "shell.execute_reply": "2024-02-16T11:58:46.233657Z"
    },
    "papermill": {
     "duration": 0.066957,
     "end_time": "2024-02-16T11:58:46.236993",
     "exception": false,
     "start_time": "2024-02-16T11:58:46.170036",
     "status": "completed"
    },
    "tags": []
   },
   "outputs": [],
   "source": [
    "#using sigmoid kernal for svm \n",
    "svm_sigmoid=svm.SVC(kernel=\"sigmoid\")\n",
    "svm_sigmoid.fit(X_train,y_train)\n",
    "Y_pred_sigmoid_train=svm_sigmoid.predict(X_train)\n",
    "Y_pred_sigmoid_test=svm_sigmoid.predict(X_test)"
   ]
  },
  {
   "cell_type": "code",
   "execution_count": 56,
   "id": "c1af7583",
   "metadata": {
    "execution": {
     "iopub.execute_input": "2024-02-16T11:58:46.280600Z",
     "iopub.status.busy": "2024-02-16T11:58:46.280146Z",
     "iopub.status.idle": "2024-02-16T11:58:46.286137Z",
     "shell.execute_reply": "2024-02-16T11:58:46.285227Z"
    },
    "papermill": {
     "duration": 0.030111,
     "end_time": "2024-02-16T11:58:46.288337",
     "exception": false,
     "start_time": "2024-02-16T11:58:46.258226",
     "status": "completed"
    },
    "tags": []
   },
   "outputs": [
    {
     "name": "stdout",
     "output_type": "stream",
     "text": [
      "The training accuracy is 0.7116736990154712\n",
      "The test accuracy is 0.7078651685393258\n"
     ]
    }
   ],
   "source": [
    "print(f\"The training accuracy is {accuracy_score(Y_pred_sigmoid_train,y_train)}\")\n",
    "print(f\"The test accuracy is {accuracy_score(Y_pred_sigmoid_test,y_test)}\")"
   ]
  },
  {
   "cell_type": "code",
   "execution_count": 57,
   "id": "16f98fda",
   "metadata": {
    "execution": {
     "iopub.execute_input": "2024-02-16T11:58:46.333700Z",
     "iopub.status.busy": "2024-02-16T11:58:46.333198Z",
     "iopub.status.idle": "2024-02-16T11:58:46.338062Z",
     "shell.execute_reply": "2024-02-16T11:58:46.336699Z"
    },
    "papermill": {
     "duration": 0.02969,
     "end_time": "2024-02-16T11:58:46.340369",
     "exception": false,
     "start_time": "2024-02-16T11:58:46.310679",
     "status": "completed"
    },
    "tags": []
   },
   "outputs": [],
   "source": [
    "def accuracy_print(X,Y):\n",
    "    print(f\"The training accuracy score is : {X}\")\n",
    "    print(f\"The test accuracy score is:{Y}\")"
   ]
  },
  {
   "cell_type": "markdown",
   "id": "75f94a95",
   "metadata": {
    "papermill": {
     "duration": 0.021465,
     "end_time": "2024-02-16T11:58:46.383564",
     "exception": false,
     "start_time": "2024-02-16T11:58:46.362099",
     "status": "completed"
    },
    "tags": []
   },
   "source": [
    "From the above resuts we can conclude that linear svm and rbf kernal perform better"
   ]
  },
  {
   "cell_type": "code",
   "execution_count": 58,
   "id": "9d5e2b1c",
   "metadata": {
    "execution": {
     "iopub.execute_input": "2024-02-16T11:58:46.428863Z",
     "iopub.status.busy": "2024-02-16T11:58:46.428481Z",
     "iopub.status.idle": "2024-02-16T11:58:46.434113Z",
     "shell.execute_reply": "2024-02-16T11:58:46.432827Z"
    },
    "papermill": {
     "duration": 0.030745,
     "end_time": "2024-02-16T11:58:46.436220",
     "exception": false,
     "start_time": "2024-02-16T11:58:46.405475",
     "status": "completed"
    },
    "tags": []
   },
   "outputs": [],
   "source": [
    "from sklearn.tree import plot_tree\n",
    "import matplotlib.pyplot as plt"
   ]
  },
  {
   "cell_type": "code",
   "execution_count": 59,
   "id": "8e8527c0",
   "metadata": {
    "execution": {
     "iopub.execute_input": "2024-02-16T11:58:46.481123Z",
     "iopub.status.busy": "2024-02-16T11:58:46.480709Z",
     "iopub.status.idle": "2024-02-16T11:58:46.495703Z",
     "shell.execute_reply": "2024-02-16T11:58:46.494661Z"
    },
    "papermill": {
     "duration": 0.040129,
     "end_time": "2024-02-16T11:58:46.497948",
     "exception": false,
     "start_time": "2024-02-16T11:58:46.457819",
     "status": "completed"
    },
    "tags": []
   },
   "outputs": [],
   "source": [
    "#Using Decision Tree\n",
    "DTC=DecisionTreeClassifier(random_state=42)\n",
    "DTC.fit(X_train,y_train)\n",
    "y_dtc_predict_train=DTC.predict(X_train)\n",
    "y_dtc_predict_test=DTC.predict(X_test)"
   ]
  },
  {
   "cell_type": "code",
   "execution_count": 60,
   "id": "d5a5aaca",
   "metadata": {
    "execution": {
     "iopub.execute_input": "2024-02-16T11:58:46.544515Z",
     "iopub.status.busy": "2024-02-16T11:58:46.543399Z",
     "iopub.status.idle": "2024-02-16T11:58:46.549055Z",
     "shell.execute_reply": "2024-02-16T11:58:46.548345Z"
    },
    "papermill": {
     "duration": 0.03131,
     "end_time": "2024-02-16T11:58:46.550862",
     "exception": false,
     "start_time": "2024-02-16T11:58:46.519552",
     "status": "completed"
    },
    "tags": []
   },
   "outputs": [],
   "source": [
    "accuracy_score_train=accuracy_score(y_train,y_dtc_predict_train)\n"
   ]
  },
  {
   "cell_type": "code",
   "execution_count": 61,
   "id": "6051c341",
   "metadata": {
    "execution": {
     "iopub.execute_input": "2024-02-16T11:58:46.594919Z",
     "iopub.status.busy": "2024-02-16T11:58:46.594131Z",
     "iopub.status.idle": "2024-02-16T11:58:46.599546Z",
     "shell.execute_reply": "2024-02-16T11:58:46.598422Z"
    },
    "papermill": {
     "duration": 0.030016,
     "end_time": "2024-02-16T11:58:46.601888",
     "exception": false,
     "start_time": "2024-02-16T11:58:46.571872",
     "status": "completed"
    },
    "tags": []
   },
   "outputs": [],
   "source": [
    "accuracy_score_test=accuracy_score(y_test,y_dtc_predict_test)\n"
   ]
  },
  {
   "cell_type": "code",
   "execution_count": 62,
   "id": "b1842b39",
   "metadata": {
    "execution": {
     "iopub.execute_input": "2024-02-16T11:58:46.646341Z",
     "iopub.status.busy": "2024-02-16T11:58:46.645554Z",
     "iopub.status.idle": "2024-02-16T11:58:46.651424Z",
     "shell.execute_reply": "2024-02-16T11:58:46.650341Z"
    },
    "papermill": {
     "duration": 0.031043,
     "end_time": "2024-02-16T11:58:46.654002",
     "exception": false,
     "start_time": "2024-02-16T11:58:46.622959",
     "status": "completed"
    },
    "tags": []
   },
   "outputs": [
    {
     "name": "stdout",
     "output_type": "stream",
     "text": [
      "The training accuracy score is : 0.9943741209563994\n",
      "The test accuracy score is:0.8426966292134831\n"
     ]
    }
   ],
   "source": [
    "accuracy_print(accuracy_score_train,accuracy_score_test)"
   ]
  },
  {
   "cell_type": "markdown",
   "id": "95e93bb4",
   "metadata": {
    "papermill": {
     "duration": 0.020506,
     "end_time": "2024-02-16T11:58:46.695650",
     "exception": false,
     "start_time": "2024-02-16T11:58:46.675144",
     "status": "completed"
    },
    "tags": []
   },
   "source": [
    "we can see there is clearly overfitting of the model\n"
   ]
  },
  {
   "cell_type": "markdown",
   "id": "441301c9",
   "metadata": {
    "papermill": {
     "duration": 0.022304,
     "end_time": "2024-02-16T11:58:46.739062",
     "exception": false,
     "start_time": "2024-02-16T11:58:46.716758",
     "status": "completed"
    },
    "tags": []
   },
   "source": [
    "Hyper parameters to solve the overfitting"
   ]
  },
  {
   "cell_type": "code",
   "execution_count": 63,
   "id": "ad1c9f00",
   "metadata": {
    "execution": {
     "iopub.execute_input": "2024-02-16T11:58:46.785524Z",
     "iopub.status.busy": "2024-02-16T11:58:46.785140Z",
     "iopub.status.idle": "2024-02-16T11:58:46.798416Z",
     "shell.execute_reply": "2024-02-16T11:58:46.797396Z"
    },
    "papermill": {
     "duration": 0.039564,
     "end_time": "2024-02-16T11:58:46.800570",
     "exception": false,
     "start_time": "2024-02-16T11:58:46.761006",
     "status": "completed"
    },
    "tags": []
   },
   "outputs": [],
   "source": [
    "#Using max_depth\n",
    "DTC_md = DecisionTreeClassifier(max_depth=6, random_state=42)\n",
    "DTC_md.fit(X_train,y_train)\n",
    "y_dtc_md_train=DTC_md.predict(X_train)\n",
    "y_dtc_md_test=DTC_md.predict(X_test)\n"
   ]
  },
  {
   "cell_type": "code",
   "execution_count": 64,
   "id": "54b856c0",
   "metadata": {
    "execution": {
     "iopub.execute_input": "2024-02-16T11:58:46.847757Z",
     "iopub.status.busy": "2024-02-16T11:58:46.847278Z",
     "iopub.status.idle": "2024-02-16T11:58:46.856142Z",
     "shell.execute_reply": "2024-02-16T11:58:46.854974Z"
    },
    "papermill": {
     "duration": 0.036554,
     "end_time": "2024-02-16T11:58:46.858616",
     "exception": false,
     "start_time": "2024-02-16T11:58:46.822062",
     "status": "completed"
    },
    "tags": []
   },
   "outputs": [
    {
     "data": {
      "text/plain": [
       "0.8607594936708861"
      ]
     },
     "execution_count": 64,
     "metadata": {},
     "output_type": "execute_result"
    }
   ],
   "source": [
    "accuracy_score(y_train,y_dtc_md_train)"
   ]
  },
  {
   "cell_type": "code",
   "execution_count": 65,
   "id": "7eaf927e",
   "metadata": {
    "execution": {
     "iopub.execute_input": "2024-02-16T11:58:46.904043Z",
     "iopub.status.busy": "2024-02-16T11:58:46.903183Z",
     "iopub.status.idle": "2024-02-16T11:58:46.911256Z",
     "shell.execute_reply": "2024-02-16T11:58:46.909926Z"
    },
    "papermill": {
     "duration": 0.033009,
     "end_time": "2024-02-16T11:58:46.913461",
     "exception": false,
     "start_time": "2024-02-16T11:58:46.880452",
     "status": "completed"
    },
    "tags": []
   },
   "outputs": [
    {
     "data": {
      "text/plain": [
       "0.8370786516853933"
      ]
     },
     "execution_count": 65,
     "metadata": {},
     "output_type": "execute_result"
    }
   ],
   "source": [
    "accuracy_score(y_test,y_dtc_md_test)"
   ]
  },
  {
   "cell_type": "code",
   "execution_count": 66,
   "id": "6c632d7f",
   "metadata": {
    "execution": {
     "iopub.execute_input": "2024-02-16T11:58:46.959460Z",
     "iopub.status.busy": "2024-02-16T11:58:46.958482Z",
     "iopub.status.idle": "2024-02-16T11:58:46.972691Z",
     "shell.execute_reply": "2024-02-16T11:58:46.971210Z"
    },
    "papermill": {
     "duration": 0.040081,
     "end_time": "2024-02-16T11:58:46.975519",
     "exception": false,
     "start_time": "2024-02-16T11:58:46.935438",
     "status": "completed"
    },
    "tags": []
   },
   "outputs": [],
   "source": [
    "#Using min_sample_split #pruning\n",
    "DTC_pr = DecisionTreeClassifier(criterion=\"entropy\",min_samples_split=35, random_state=42)\n",
    "DTC_pr.fit(X_train,y_train)\n",
    "y_dtc_pr_train=DTC_pr.predict(X_train)\n",
    "y_dtc_pr_test=DTC_pr.predict(X_test)"
   ]
  },
  {
   "cell_type": "code",
   "execution_count": 67,
   "id": "449a3f86",
   "metadata": {
    "execution": {
     "iopub.execute_input": "2024-02-16T11:58:47.020780Z",
     "iopub.status.busy": "2024-02-16T11:58:47.020473Z",
     "iopub.status.idle": "2024-02-16T11:58:47.028362Z",
     "shell.execute_reply": "2024-02-16T11:58:47.027348Z"
    },
    "papermill": {
     "duration": 0.03251,
     "end_time": "2024-02-16T11:58:47.030060",
     "exception": false,
     "start_time": "2024-02-16T11:58:46.997550",
     "status": "completed"
    },
    "tags": []
   },
   "outputs": [
    {
     "data": {
      "text/plain": [
       "0.8523206751054853"
      ]
     },
     "execution_count": 67,
     "metadata": {},
     "output_type": "execute_result"
    }
   ],
   "source": [
    "accuracy_score(y_train,y_dtc_pr_train)"
   ]
  },
  {
   "cell_type": "code",
   "execution_count": 68,
   "id": "bb2bfb00",
   "metadata": {
    "execution": {
     "iopub.execute_input": "2024-02-16T11:58:47.077604Z",
     "iopub.status.busy": "2024-02-16T11:58:47.076997Z",
     "iopub.status.idle": "2024-02-16T11:58:47.083433Z",
     "shell.execute_reply": "2024-02-16T11:58:47.082359Z"
    },
    "papermill": {
     "duration": 0.031405,
     "end_time": "2024-02-16T11:58:47.085114",
     "exception": false,
     "start_time": "2024-02-16T11:58:47.053709",
     "status": "completed"
    },
    "tags": []
   },
   "outputs": [
    {
     "data": {
      "text/plain": [
       "0.8258426966292135"
      ]
     },
     "execution_count": 68,
     "metadata": {},
     "output_type": "execute_result"
    }
   ],
   "source": [
    "accuracy_score(y_test,y_dtc_pr_test)"
   ]
  },
  {
   "cell_type": "code",
   "execution_count": 69,
   "id": "d233b0d6",
   "metadata": {
    "execution": {
     "iopub.execute_input": "2024-02-16T11:58:47.132058Z",
     "iopub.status.busy": "2024-02-16T11:58:47.131405Z",
     "iopub.status.idle": "2024-02-16T11:58:47.142911Z",
     "shell.execute_reply": "2024-02-16T11:58:47.141453Z"
    },
    "papermill": {
     "duration": 0.037369,
     "end_time": "2024-02-16T11:58:47.145407",
     "exception": false,
     "start_time": "2024-02-16T11:58:47.108038",
     "status": "completed"
    },
    "tags": []
   },
   "outputs": [],
   "source": [
    "#Using min_sample_split #pruning\n",
    "DTC_leaf = DecisionTreeClassifier(criterion=\"entropy\",min_samples_leaf=15, random_state=42)\n",
    "DTC_leaf.fit(X_train,y_train)\n",
    "y_dtc_lf_train=DTC_leaf.predict(X_train)\n",
    "y_dtc_lf_test=DTC_leaf.predict(X_test)"
   ]
  },
  {
   "cell_type": "code",
   "execution_count": 70,
   "id": "9bc17457",
   "metadata": {
    "execution": {
     "iopub.execute_input": "2024-02-16T11:58:47.192114Z",
     "iopub.status.busy": "2024-02-16T11:58:47.191745Z",
     "iopub.status.idle": "2024-02-16T11:58:47.199300Z",
     "shell.execute_reply": "2024-02-16T11:58:47.197914Z"
    },
    "papermill": {
     "duration": 0.033601,
     "end_time": "2024-02-16T11:58:47.201489",
     "exception": false,
     "start_time": "2024-02-16T11:58:47.167888",
     "status": "completed"
    },
    "tags": []
   },
   "outputs": [
    {
     "data": {
      "text/plain": [
       "0.8368495077355836"
      ]
     },
     "execution_count": 70,
     "metadata": {},
     "output_type": "execute_result"
    }
   ],
   "source": [
    "accuracy_score(y_train,y_dtc_lf_train)"
   ]
  },
  {
   "cell_type": "code",
   "execution_count": 71,
   "id": "00d57f55",
   "metadata": {
    "execution": {
     "iopub.execute_input": "2024-02-16T11:58:47.248233Z",
     "iopub.status.busy": "2024-02-16T11:58:47.247924Z",
     "iopub.status.idle": "2024-02-16T11:58:47.256658Z",
     "shell.execute_reply": "2024-02-16T11:58:47.255093Z"
    },
    "papermill": {
     "duration": 0.034991,
     "end_time": "2024-02-16T11:58:47.258709",
     "exception": false,
     "start_time": "2024-02-16T11:58:47.223718",
     "status": "completed"
    },
    "tags": []
   },
   "outputs": [
    {
     "data": {
      "text/plain": [
       "0.7865168539325843"
      ]
     },
     "execution_count": 71,
     "metadata": {},
     "output_type": "execute_result"
    }
   ],
   "source": [
    "accuracy_score(y_test,y_dtc_lf_test)"
   ]
  },
  {
   "cell_type": "code",
   "execution_count": 72,
   "id": "4c6d274e",
   "metadata": {
    "execution": {
     "iopub.execute_input": "2024-02-16T11:58:47.305524Z",
     "iopub.status.busy": "2024-02-16T11:58:47.305181Z",
     "iopub.status.idle": "2024-02-16T11:59:02.669338Z",
     "shell.execute_reply": "2024-02-16T11:59:02.667899Z"
    },
    "papermill": {
     "duration": 15.390922,
     "end_time": "2024-02-16T11:59:02.671675",
     "exception": false,
     "start_time": "2024-02-16T11:58:47.280753",
     "status": "completed"
    },
    "tags": []
   },
   "outputs": [
    {
     "name": "stderr",
     "output_type": "stream",
     "text": [
      "2024-02-16 11:58:50.196829: E external/local_xla/xla/stream_executor/cuda/cuda_dnn.cc:9261] Unable to register cuDNN factory: Attempting to register factory for plugin cuDNN when one has already been registered\n",
      "2024-02-16 11:58:50.197054: E external/local_xla/xla/stream_executor/cuda/cuda_fft.cc:607] Unable to register cuFFT factory: Attempting to register factory for plugin cuFFT when one has already been registered\n",
      "2024-02-16 11:58:50.403537: E external/local_xla/xla/stream_executor/cuda/cuda_blas.cc:1515] Unable to register cuBLAS factory: Attempting to register factory for plugin cuBLAS when one has already been registered\n"
     ]
    }
   ],
   "source": [
    "import tensorflow as tf\n",
    "from tensorflow.keras import layers "
   ]
  },
  {
   "cell_type": "code",
   "execution_count": 73,
   "id": "667d10b4",
   "metadata": {
    "execution": {
     "iopub.execute_input": "2024-02-16T11:59:02.727861Z",
     "iopub.status.busy": "2024-02-16T11:59:02.726192Z",
     "iopub.status.idle": "2024-02-16T11:59:02.778049Z",
     "shell.execute_reply": "2024-02-16T11:59:02.776949Z"
    },
    "papermill": {
     "duration": 0.079403,
     "end_time": "2024-02-16T11:59:02.780456",
     "exception": false,
     "start_time": "2024-02-16T11:59:02.701053",
     "status": "completed"
    },
    "tags": []
   },
   "outputs": [],
   "source": [
    "ann = tf.keras.models.Sequential()"
   ]
  },
  {
   "cell_type": "code",
   "execution_count": 74,
   "id": "6ca1ef37",
   "metadata": {
    "execution": {
     "iopub.execute_input": "2024-02-16T11:59:02.843132Z",
     "iopub.status.busy": "2024-02-16T11:59:02.842775Z",
     "iopub.status.idle": "2024-02-16T11:59:02.942202Z",
     "shell.execute_reply": "2024-02-16T11:59:02.941036Z"
    },
    "papermill": {
     "duration": 0.135708,
     "end_time": "2024-02-16T11:59:02.944571",
     "exception": false,
     "start_time": "2024-02-16T11:59:02.808863",
     "status": "completed"
    },
    "tags": []
   },
   "outputs": [],
   "source": [
    "ann.add(tf.keras.layers.Dense(units=64, activation='relu', input_dim=X_train.shape[1])) # Input layer\n",
    "\n",
    "ann.add(tf.keras.layers.Dense(units=32, activation='relu'))\n",
    "ann.add(tf.keras.layers.Dense(units=32, activation='relu'))\n",
    "ann.add(tf.keras.layers.Dense(units=1, activation='sigmoid'))\n"
   ]
  },
  {
   "cell_type": "code",
   "execution_count": 75,
   "id": "b8ceb381",
   "metadata": {
    "execution": {
     "iopub.execute_input": "2024-02-16T11:59:02.995549Z",
     "iopub.status.busy": "2024-02-16T11:59:02.994556Z",
     "iopub.status.idle": "2024-02-16T11:59:03.016925Z",
     "shell.execute_reply": "2024-02-16T11:59:03.015783Z"
    },
    "papermill": {
     "duration": 0.049456,
     "end_time": "2024-02-16T11:59:03.019417",
     "exception": false,
     "start_time": "2024-02-16T11:59:02.969961",
     "status": "completed"
    },
    "tags": []
   },
   "outputs": [],
   "source": [
    "ann.compile(optimizer='adam', loss='binary_crossentropy', metrics=['accuracy'])\n"
   ]
  },
  {
   "cell_type": "code",
   "execution_count": 76,
   "id": "66d19ee1",
   "metadata": {
    "execution": {
     "iopub.execute_input": "2024-02-16T11:59:03.068233Z",
     "iopub.status.busy": "2024-02-16T11:59:03.067514Z",
     "iopub.status.idle": "2024-02-16T11:59:08.593734Z",
     "shell.execute_reply": "2024-02-16T11:59:08.592721Z"
    },
    "papermill": {
     "duration": 5.551862,
     "end_time": "2024-02-16T11:59:08.596031",
     "exception": false,
     "start_time": "2024-02-16T11:59:03.044169",
     "status": "completed"
    },
    "tags": []
   },
   "outputs": [
    {
     "name": "stdout",
     "output_type": "stream",
     "text": [
      "Epoch 1/50\n",
      "23/23 [==============================] - 1s 12ms/step - loss: 0.6576 - accuracy: 0.7229 - val_loss: 0.6434 - val_accuracy: 0.7360\n",
      "Epoch 2/50\n",
      "23/23 [==============================] - 0s 3ms/step - loss: 0.6438 - accuracy: 0.7103 - val_loss: 0.6453 - val_accuracy: 0.6966\n",
      "Epoch 3/50\n",
      "23/23 [==============================] - 0s 4ms/step - loss: 0.6365 - accuracy: 0.7103 - val_loss: 0.6445 - val_accuracy: 0.6685\n",
      "Epoch 4/50\n",
      "23/23 [==============================] - 0s 4ms/step - loss: 0.6346 - accuracy: 0.6793 - val_loss: 0.6498 - val_accuracy: 0.6629\n",
      "Epoch 5/50\n",
      "23/23 [==============================] - 0s 4ms/step - loss: 0.6273 - accuracy: 0.6948 - val_loss: 0.6515 - val_accuracy: 0.6629\n",
      "Epoch 6/50\n",
      "23/23 [==============================] - 0s 3ms/step - loss: 0.6200 - accuracy: 0.6737 - val_loss: 0.6466 - val_accuracy: 0.6348\n",
      "Epoch 7/50\n",
      "23/23 [==============================] - 0s 4ms/step - loss: 0.6154 - accuracy: 0.6779 - val_loss: 0.6454 - val_accuracy: 0.6348\n",
      "Epoch 8/50\n",
      "23/23 [==============================] - 0s 4ms/step - loss: 0.6182 - accuracy: 0.6751 - val_loss: 0.6454 - val_accuracy: 0.6292\n",
      "Epoch 9/50\n",
      "23/23 [==============================] - 0s 4ms/step - loss: 0.6094 - accuracy: 0.6723 - val_loss: 0.6395 - val_accuracy: 0.6348\n",
      "Epoch 10/50\n",
      "23/23 [==============================] - 0s 4ms/step - loss: 0.6049 - accuracy: 0.6667 - val_loss: 0.6417 - val_accuracy: 0.6236\n",
      "Epoch 11/50\n",
      "23/23 [==============================] - 0s 4ms/step - loss: 0.6043 - accuracy: 0.6709 - val_loss: 0.6463 - val_accuracy: 0.6292\n",
      "Epoch 12/50\n",
      "23/23 [==============================] - 0s 3ms/step - loss: 0.6037 - accuracy: 0.6582 - val_loss: 0.6396 - val_accuracy: 0.6348\n",
      "Epoch 13/50\n",
      "23/23 [==============================] - 0s 3ms/step - loss: 0.6011 - accuracy: 0.6653 - val_loss: 0.6319 - val_accuracy: 0.6348\n",
      "Epoch 14/50\n",
      "23/23 [==============================] - 0s 4ms/step - loss: 0.6004 - accuracy: 0.6695 - val_loss: 0.6432 - val_accuracy: 0.6292\n",
      "Epoch 15/50\n",
      "23/23 [==============================] - 0s 4ms/step - loss: 0.5931 - accuracy: 0.6568 - val_loss: 0.6349 - val_accuracy: 0.6292\n",
      "Epoch 16/50\n",
      "23/23 [==============================] - 0s 3ms/step - loss: 0.5914 - accuracy: 0.6695 - val_loss: 0.6440 - val_accuracy: 0.6292\n",
      "Epoch 17/50\n",
      "23/23 [==============================] - 0s 3ms/step - loss: 0.5932 - accuracy: 0.6526 - val_loss: 0.6693 - val_accuracy: 0.6011\n",
      "Epoch 18/50\n",
      "23/23 [==============================] - 0s 4ms/step - loss: 0.5913 - accuracy: 0.5963 - val_loss: 0.6388 - val_accuracy: 0.7135\n",
      "Epoch 19/50\n",
      "23/23 [==============================] - 0s 4ms/step - loss: 0.6034 - accuracy: 0.6821 - val_loss: 0.6399 - val_accuracy: 0.6292\n",
      "Epoch 20/50\n",
      "23/23 [==============================] - 0s 4ms/step - loss: 0.5826 - accuracy: 0.6596 - val_loss: 0.6291 - val_accuracy: 0.6348\n",
      "Epoch 21/50\n",
      "23/23 [==============================] - 0s 4ms/step - loss: 0.5775 - accuracy: 0.6554 - val_loss: 0.6328 - val_accuracy: 0.6292\n",
      "Epoch 22/50\n",
      "23/23 [==============================] - 0s 3ms/step - loss: 0.5850 - accuracy: 0.6610 - val_loss: 0.6391 - val_accuracy: 0.6292\n",
      "Epoch 23/50\n",
      "23/23 [==============================] - 0s 4ms/step - loss: 0.5781 - accuracy: 0.6624 - val_loss: 0.6298 - val_accuracy: 0.6461\n",
      "Epoch 24/50\n",
      "23/23 [==============================] - 0s 4ms/step - loss: 0.5727 - accuracy: 0.6596 - val_loss: 0.6265 - val_accuracy: 0.6292\n",
      "Epoch 25/50\n",
      "23/23 [==============================] - 0s 4ms/step - loss: 0.5679 - accuracy: 0.6639 - val_loss: 0.6222 - val_accuracy: 0.6236\n",
      "Epoch 26/50\n",
      "23/23 [==============================] - 0s 3ms/step - loss: 0.5684 - accuracy: 0.6610 - val_loss: 0.6426 - val_accuracy: 0.6348\n",
      "Epoch 27/50\n",
      "23/23 [==============================] - 0s 3ms/step - loss: 0.5701 - accuracy: 0.6540 - val_loss: 0.6350 - val_accuracy: 0.6404\n",
      "Epoch 28/50\n",
      "23/23 [==============================] - 0s 3ms/step - loss: 0.5671 - accuracy: 0.6624 - val_loss: 0.6261 - val_accuracy: 0.6348\n",
      "Epoch 29/50\n",
      "23/23 [==============================] - 0s 3ms/step - loss: 0.5663 - accuracy: 0.6765 - val_loss: 0.6540 - val_accuracy: 0.6348\n",
      "Epoch 30/50\n",
      "23/23 [==============================] - 0s 3ms/step - loss: 0.5835 - accuracy: 0.6245 - val_loss: 0.6239 - val_accuracy: 0.6292\n",
      "Epoch 31/50\n",
      "23/23 [==============================] - 0s 4ms/step - loss: 0.5519 - accuracy: 0.6582 - val_loss: 0.6234 - val_accuracy: 0.6517\n",
      "Epoch 32/50\n",
      "23/23 [==============================] - 0s 4ms/step - loss: 0.5521 - accuracy: 0.6681 - val_loss: 0.6232 - val_accuracy: 0.6348\n",
      "Epoch 33/50\n",
      "23/23 [==============================] - 0s 4ms/step - loss: 0.5451 - accuracy: 0.6695 - val_loss: 0.6269 - val_accuracy: 0.6404\n",
      "Epoch 34/50\n",
      "23/23 [==============================] - 0s 3ms/step - loss: 0.5455 - accuracy: 0.6582 - val_loss: 0.6391 - val_accuracy: 0.6292\n",
      "Epoch 35/50\n",
      "23/23 [==============================] - 0s 3ms/step - loss: 0.5466 - accuracy: 0.6610 - val_loss: 0.6194 - val_accuracy: 0.6685\n",
      "Epoch 36/50\n",
      "23/23 [==============================] - 0s 3ms/step - loss: 0.5493 - accuracy: 0.6667 - val_loss: 0.6138 - val_accuracy: 0.6910\n",
      "Epoch 37/50\n",
      "23/23 [==============================] - 0s 3ms/step - loss: 0.5485 - accuracy: 0.6624 - val_loss: 0.6211 - val_accuracy: 0.6348\n",
      "Epoch 38/50\n",
      "23/23 [==============================] - 0s 3ms/step - loss: 0.5408 - accuracy: 0.6681 - val_loss: 0.6486 - val_accuracy: 0.6404\n",
      "Epoch 39/50\n",
      "23/23 [==============================] - 0s 4ms/step - loss: 0.5454 - accuracy: 0.6737 - val_loss: 0.6140 - val_accuracy: 0.6629\n",
      "Epoch 40/50\n",
      "23/23 [==============================] - 0s 3ms/step - loss: 0.5366 - accuracy: 0.6526 - val_loss: 0.6194 - val_accuracy: 0.6629\n",
      "Epoch 41/50\n",
      "23/23 [==============================] - 0s 3ms/step - loss: 0.5328 - accuracy: 0.6624 - val_loss: 0.6158 - val_accuracy: 0.6629\n",
      "Epoch 42/50\n",
      "23/23 [==============================] - 0s 4ms/step - loss: 0.5216 - accuracy: 0.6610 - val_loss: 0.6237 - val_accuracy: 0.6629\n",
      "Epoch 43/50\n",
      "23/23 [==============================] - 0s 3ms/step - loss: 0.5295 - accuracy: 0.6709 - val_loss: 0.6339 - val_accuracy: 0.6573\n",
      "Epoch 44/50\n",
      "23/23 [==============================] - 0s 4ms/step - loss: 0.5278 - accuracy: 0.6835 - val_loss: 0.6017 - val_accuracy: 0.6966\n",
      "Epoch 45/50\n",
      "23/23 [==============================] - 0s 3ms/step - loss: 0.5245 - accuracy: 0.6709 - val_loss: 0.6137 - val_accuracy: 0.6910\n",
      "Epoch 46/50\n",
      "23/23 [==============================] - 0s 4ms/step - loss: 0.5175 - accuracy: 0.6751 - val_loss: 0.6354 - val_accuracy: 0.6685\n",
      "Epoch 47/50\n",
      "23/23 [==============================] - 0s 4ms/step - loss: 0.5124 - accuracy: 0.6765 - val_loss: 0.6095 - val_accuracy: 0.6573\n",
      "Epoch 48/50\n",
      "23/23 [==============================] - 0s 3ms/step - loss: 0.5117 - accuracy: 0.6878 - val_loss: 0.6510 - val_accuracy: 0.6404\n",
      "Epoch 49/50\n",
      "23/23 [==============================] - 0s 4ms/step - loss: 0.5119 - accuracy: 0.6793 - val_loss: 0.6333 - val_accuracy: 0.6404\n",
      "Epoch 50/50\n",
      "23/23 [==============================] - 0s 3ms/step - loss: 0.4961 - accuracy: 0.6723 - val_loss: 0.6140 - val_accuracy: 0.6798\n"
     ]
    }
   ],
   "source": [
    "history = ann.fit(X_train, y_train, epochs=50, batch_size=32, validation_data=(X_test, y_test))\n",
    "\n"
   ]
  },
  {
   "cell_type": "code",
   "execution_count": 77,
   "id": "98ef42a8",
   "metadata": {
    "execution": {
     "iopub.execute_input": "2024-02-16T11:59:08.661511Z",
     "iopub.status.busy": "2024-02-16T11:59:08.661164Z",
     "iopub.status.idle": "2024-02-16T11:59:08.905439Z",
     "shell.execute_reply": "2024-02-16T11:59:08.904276Z"
    },
    "papermill": {
     "duration": 0.279763,
     "end_time": "2024-02-16T11:59:08.907316",
     "exception": false,
     "start_time": "2024-02-16T11:59:08.627553",
     "status": "completed"
    },
    "tags": []
   },
   "outputs": [
    {
     "name": "stdout",
     "output_type": "stream",
     "text": [
      "6/6 [==============================] - 0s 2ms/step - loss: 0.6140 - accuracy: 0.6798\n",
      "Test Accuracy: 67.98\n",
      "6/6 [==============================] - 0s 2ms/step\n",
      "Accuracy for each epoch:\n",
      "[0.7229254841804504, 0.7102672457695007, 0.7102672457695007, 0.6793248653411865, 0.694796085357666, 0.6736990213394165, 0.6779184341430664, 0.6751055121421814, 0.6722925305366516, 0.6666666865348816, 0.6708860993385315, 0.6582278609275818, 0.6652601957321167, 0.6694796085357666, 0.6568213701248169, 0.6694796085357666, 0.652601957321167, 0.5963431596755981, 0.6821378469467163, 0.6596342921257019, 0.655414879322052, 0.6610407829284668, 0.6624472737312317, 0.6596342921257019, 0.6638537049293518, 0.6610407829284668, 0.6540084481239319, 0.6624472737312317, 0.6765119433403015, 0.6244725584983826, 0.6582278609275818, 0.6680731177330017, 0.6694796085357666, 0.6582278609275818, 0.6610407829284668, 0.6666666865348816, 0.6624472737312317, 0.6680731177330017, 0.6736990213394165, 0.652601957321167, 0.6624472737312317, 0.6610407829284668, 0.6708860993385315, 0.6835442781448364, 0.6708860993385315, 0.6751055121421814, 0.6765119433403015, 0.6877636909484863, 0.6793248653411865, 0.6722925305366516]\n"
     ]
    }
   ],
   "source": [
    "loss, accuracy = ann.evaluate(X_test, y_test)\n",
    "print('Test Accuracy: %.2f' % (accuracy*100))\n",
    "\n",
    "# Make predictions\n",
    "predictions = ann.predict(X_test)\n",
    "\n",
    "# If you want to see the accuracy for each epoch, you can do this:\n",
    "print(\"Accuracy for each epoch:\")\n",
    "print(history.history['accuracy'])"
   ]
  },
  {
   "cell_type": "code",
   "execution_count": null,
   "id": "16c879b0",
   "metadata": {
    "papermill": {
     "duration": 0.031478,
     "end_time": "2024-02-16T11:59:08.970232",
     "exception": false,
     "start_time": "2024-02-16T11:59:08.938754",
     "status": "completed"
    },
    "tags": []
   },
   "outputs": [],
   "source": []
  }
 ],
 "metadata": {
  "kaggle": {
   "accelerator": "none",
   "dataSources": [
    {
     "datasetId": 1818188,
     "sourceId": 2965537,
     "sourceType": "datasetVersion"
    }
   ],
   "dockerImageVersionId": 30646,
   "isGpuEnabled": false,
   "isInternetEnabled": true,
   "language": "python",
   "sourceType": "notebook"
  },
  "kernelspec": {
   "display_name": "Python 3",
   "language": "python",
   "name": "python3"
  },
  "language_info": {
   "codemirror_mode": {
    "name": "ipython",
    "version": 3
   },
   "file_extension": ".py",
   "mimetype": "text/x-python",
   "name": "python",
   "nbconvert_exporter": "python",
   "pygments_lexer": "ipython3",
   "version": "3.10.13"
  },
  "papermill": {
   "default_parameters": {},
   "duration": 35.950627,
   "end_time": "2024-02-16T11:59:10.726747",
   "environment_variables": {},
   "exception": null,
   "input_path": "__notebook__.ipynb",
   "output_path": "__notebook__.ipynb",
   "parameters": {},
   "start_time": "2024-02-16T11:58:34.776120",
   "version": "2.5.0"
  }
 },
 "nbformat": 4,
 "nbformat_minor": 5
}
